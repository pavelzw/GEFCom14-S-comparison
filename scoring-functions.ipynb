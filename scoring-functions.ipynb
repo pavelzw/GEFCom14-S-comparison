{
 "cells": [
  {
   "cell_type": "code",
   "execution_count": 11,
   "metadata": {
    "collapsed": true
   },
   "outputs": [],
   "source": [
    "import pandas as pd\n",
    "import numpy as np"
   ]
  },
  {
   "cell_type": "code",
   "execution_count": 37,
   "outputs": [
    {
     "data": {
      "text/plain": "                               POWER\nTIMESTAMP           ZONEID          \n2014-06-01 01:00:00 1       0.068526\n2014-06-01 02:00:00 1       0.067115\n2014-06-01 03:00:00 1       0.047308\n2014-06-01 04:00:00 1       0.030449\n2014-06-01 05:00:00 1       0.053269\n...                              ...\n2014-06-30 20:00:00 3       0.000000\n2014-06-30 21:00:00 3       0.000025\n2014-06-30 22:00:00 3       0.084900\n2014-06-30 23:00:00 3       0.408250\n2014-07-01 00:00:00 3       0.561675\n\n[2160 rows x 1 columns]",
      "text/html": "<div>\n<style scoped>\n    .dataframe tbody tr th:only-of-type {\n        vertical-align: middle;\n    }\n\n    .dataframe tbody tr th {\n        vertical-align: top;\n    }\n\n    .dataframe thead th {\n        text-align: right;\n    }\n</style>\n<table border=\"1\" class=\"dataframe\">\n  <thead>\n    <tr style=\"text-align: right;\">\n      <th></th>\n      <th></th>\n      <th>POWER</th>\n    </tr>\n    <tr>\n      <th>TIMESTAMP</th>\n      <th>ZONEID</th>\n      <th></th>\n    </tr>\n  </thead>\n  <tbody>\n    <tr>\n      <th>2014-06-01 01:00:00</th>\n      <th>1</th>\n      <td>0.068526</td>\n    </tr>\n    <tr>\n      <th>2014-06-01 02:00:00</th>\n      <th>1</th>\n      <td>0.067115</td>\n    </tr>\n    <tr>\n      <th>2014-06-01 03:00:00</th>\n      <th>1</th>\n      <td>0.047308</td>\n    </tr>\n    <tr>\n      <th>2014-06-01 04:00:00</th>\n      <th>1</th>\n      <td>0.030449</td>\n    </tr>\n    <tr>\n      <th>2014-06-01 05:00:00</th>\n      <th>1</th>\n      <td>0.053269</td>\n    </tr>\n    <tr>\n      <th>...</th>\n      <th>...</th>\n      <td>...</td>\n    </tr>\n    <tr>\n      <th>2014-06-30 20:00:00</th>\n      <th>3</th>\n      <td>0.000000</td>\n    </tr>\n    <tr>\n      <th>2014-06-30 21:00:00</th>\n      <th>3</th>\n      <td>0.000025</td>\n    </tr>\n    <tr>\n      <th>2014-06-30 22:00:00</th>\n      <th>3</th>\n      <td>0.084900</td>\n    </tr>\n    <tr>\n      <th>2014-06-30 23:00:00</th>\n      <th>3</th>\n      <td>0.408250</td>\n    </tr>\n    <tr>\n      <th>2014-07-01 00:00:00</th>\n      <th>3</th>\n      <td>0.561675</td>\n    </tr>\n  </tbody>\n</table>\n<p>2160 rows × 1 columns</p>\n</div>"
     },
     "execution_count": 37,
     "metadata": {},
     "output_type": "execute_result"
    }
   ],
   "source": [
    "prediction = pd.read_csv('results/prediction_sqf_rnn_task15.csv').set_index(['TIMESTAMP', 'ZONEID'])\n",
    "\n",
    "actual = pd.read_csv('data/Task 16/train16.csv', parse_dates=['TIMESTAMP']).set_index('TIMESTAMP')['2014-06-01 01:00':]\\\n",
    "    .reset_index().set_index(['TIMESTAMP', 'ZONEID'])"
   ],
   "metadata": {
    "collapsed": false,
    "pycharm": {
     "name": "#%%\n"
    }
   }
  },
  {
   "cell_type": "code",
   "execution_count": 49,
   "outputs": [],
   "source": [
    "def sample(quantiles, n):\n",
    "    ps = np.random.choice(a=[str(p / 100) for p in range(1, 100)], size=n, replace=True)\n",
    "    xs = quantiles[ps]\n",
    "    return np.array(xs)[None,...]\n",
    "\n",
    "sampled = sample(prediction.iloc[0], 20)"
   ],
   "metadata": {
    "collapsed": false,
    "pycharm": {
     "name": "#%%\n"
    }
   }
  },
  {
   "cell_type": "code",
   "execution_count": 115,
   "outputs": [
    {
     "data": {
      "text/plain": "0.0356851832472436"
     },
     "execution_count": 115,
     "metadata": {},
     "output_type": "execute_result"
    }
   ],
   "source": [
    "def energy_score(quantiles, y, n=100):\n",
    "    \"\"\"\n",
    "    Calculates the energy score.\n",
    "    :param quantiles: np array (99,)\n",
    "    :param y: (d,)\n",
    "    :param n: n\n",
    "    :return:\n",
    "    \"\"\"\n",
    "    xs = sample(quantiles, n)\n",
    "    s1 = np.mean(np.linalg.norm(xs - y, axis=0))\n",
    "    s2 = - 1 / 2 * np.mean(np.linalg.norm(xs[None, ...] - xs[None, ...].T, axis=1))\n",
    "    return s1 + s2\n",
    "\n",
    "# energy_score for first prediction point\n",
    "energy_score(prediction.iloc[0], np.array(actual.iloc[0]))"
   ],
   "metadata": {
    "collapsed": false,
    "pycharm": {
     "name": "#%%\n"
    }
   }
  }
 ],
 "metadata": {
  "kernelspec": {
   "display_name": "Python 3",
   "language": "python",
   "name": "python3"
  },
  "language_info": {
   "codemirror_mode": {
    "name": "ipython",
    "version": 2
   },
   "file_extension": ".py",
   "mimetype": "text/x-python",
   "name": "python",
   "nbconvert_exporter": "python",
   "pygments_lexer": "ipython2",
   "version": "2.7.6"
  }
 },
 "nbformat": 4,
 "nbformat_minor": 0
}