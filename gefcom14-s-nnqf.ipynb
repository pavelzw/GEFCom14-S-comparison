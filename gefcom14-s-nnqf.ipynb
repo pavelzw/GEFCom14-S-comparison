{
 "cells": [
  {
   "cell_type": "markdown",
   "metadata": {
    "id": "cgiJf3fq3eJU"
   },
   "source": [
    "<table class=\"tfo-notebook-buttons\" align=\"left\">\n",
    "  <td>\n",
    "    <a target=\"_blank\" href=\"https://colab.research.google.com/github/pavelzw/GEFCom14-S-comparison/blob/main/gefcom14-s-nnqf.ipynb\">\n",
    "    <img src=\"https://www.tensorflow.org/images/colab_logo_32px.png\" />\n",
    "    Run in Google Colab</a>\n",
    "  </td>\n",
    "  <td>\n",
    "    <a target=\"_blank\" href=\"https://github.com/pavelzw/GEFCom14-S-comparison/blob/main/gefcom14-s-nnqf.ipynb\">\n",
    "    <img src=\"https://www.tensorflow.org/images/GitHub-Mark-32px.png\" />\n",
    "    View source on GitHub</a>\n",
    "  </td>\n",
    "  <td>\n",
    "    <a href=\"https://minhaskamal.github.io/DownGit/#/home?url=https://github.com/pavelzw/GEFCom14-S-comparison/blob/main/gefcom14-s-deepar.ipynb&fileName=gefcom14-s-nnqf\"><img src=\"https://www.tensorflow.org/images/download_logo_32px.png\" />Download notebook</a>\n",
    "  </td>\n",
    "</table>"
   ]
  },
  {
   "cell_type": "markdown",
   "metadata": {
    "id": "V3G4gmCR3eJc"
   },
   "source": [
    "# Download data"
   ]
  },
  {
   "cell_type": "code",
   "execution_count": 1,
   "metadata": {
    "id": "MHv6oUat3eJd",
    "pycharm": {
     "name": "#%%\n"
    },
    "scrolled": true
   },
   "outputs": [
    {
     "name": "stdout",
     "output_type": "stream",
     "text": [
      "\"Downloading GEFCom14-S...\"\n"
     ]
    },
    {
     "name": "stderr",
     "output_type": "stream",
     "text": [
      "Das System kann den angegebenen Pfad nicht finden.\n",
      "Der Befehl \"wget\" ist entweder falsch geschrieben oder\n",
      "konnte nicht gefunden werden.\n",
      "Das System kann den angegebenen Pfad nicht finden.\n",
      "Das System kann den angegebenen Pfad nicht finden.\n",
      "Das System kann den angegebenen Pfad nicht finden.\n",
      "Das System kann den angegebenen Pfad nicht finden.\n",
      "Das System kann den angegebenen Pfad nicht finden.\n"
     ]
    },
    {
     "name": "stdout",
     "output_type": "stream",
     "text": [
      "\"------------------------------\"\n",
      "\"Downloaded GEFCom14-S in data/\"\n"
     ]
    }
   ],
   "source": [
    "!echo \"Downloading GEFCom14-S...\"\n",
    "!rm -R data > /dev/null\n",
    "!wget -O gefcom14.zip https://www.dropbox.com/s/pqenrr2mcvl0hk9/GEFCom2014.zip?dl=0\n",
    "!unzip gefcom14 > /dev/null\n",
    "!rm gefcom14.zip > /dev/null\n",
    "!unzip GEFCom2014\\ Data/GEFCom2014-S_V2.zip > /dev/null\n",
    "!rm -R GEFCom2014\\ Data > /dev/null\n",
    "!mv Solar data > /dev/null\n",
    "!echo \"------------------------------\"\n",
    "!echo \"Downloaded GEFCom14-S in data/\""
   ]
  },
  {
   "cell_type": "markdown",
   "metadata": {
    "id": "TdUISeru3jKc"
   },
   "source": [
    "# Select Task"
   ]
  },
  {
   "cell_type": "code",
   "execution_count": 2,
   "metadata": {
    "id": "15dgDphe3lKs"
   },
   "outputs": [],
   "source": [
    "task = 15"
   ]
  },
  {
   "cell_type": "markdown",
   "metadata": {
    "collapsed": true,
    "id": "Kp6b1bib3eJe",
    "pycharm": {
     "name": "#%% md\n"
    }
   },
   "source": [
    "# Prepare data"
   ]
  },
  {
   "cell_type": "code",
   "execution_count": 3,
   "metadata": {
    "id": "kg-eEIae3eJe",
    "pycharm": {
     "name": "#%%\n"
    }
   },
   "outputs": [],
   "source": [
    "import numpy as np\n",
    "import pandas as pd\n",
    "\n",
    "# only use surface solar radiation (169), surface thermal radiation (175) and top net solar radiation (178)\n",
    "predictors = pd.read_csv(f'data/Task {task}/predictors{task}.csv', parse_dates=['TIMESTAMP'])\\\n",
    "    [['ZONEID', 'TIMESTAMP', 'VAR169', 'VAR175', 'VAR178']].set_index('TIMESTAMP')\n",
    "train = pd.read_csv(f'data/Task {task + 1}/train{task + 1}.csv', parse_dates=['TIMESTAMP']).set_index('TIMESTAMP')\n",
    "benchmark = pd.read_csv(f\"data/Task {task}/benchmark{'0' + str(task) if task < 10 else task}.csv\",\n",
    "                        parse_dates=['TIMESTAMP']).set_index('TIMESTAMP')\n",
    "\n",
    "solar_plants = [train[train['ZONEID'] == i][['POWER']].rename({'POWER': f'ZONEID {i}'}, axis='columns')\n",
    "                for i in [1,2,3]]\n",
    "train_data = pd.concat(solar_plants, axis=1)\n",
    "\n",
    "predictors_categories = [predictors[predictors['ZONEID'] == i][['VAR169', 'VAR175', 'VAR178']]\n",
    "                             .rename({'VAR169': f'SURFACE SOLAR RADIATION {i}',\n",
    "                                      'VAR175': f'SURFACE THERMAL RADIATION {i}',\n",
    "                                      'VAR178': f'TOP NET SOLAR RADIATION {i}'}, axis='columns')\n",
    "                         for i in [1,2,3]]\n",
    "predictor_data = pd.concat(predictors_categories, axis=1)"
   ]
  },
  {
   "cell_type": "code",
   "execution_count": 4,
   "metadata": {
    "id": "cL_0i4hy4Ip8"
   },
   "outputs": [],
   "source": [
    "gefcom14_metadata = {\n",
    "    'num_series': 3,\n",
    "    'num_steps': len(predictor_data),\n",
    "    'prediction_length': len(benchmark) // 3,\n",
    "    'start': predictor_data.index[0]\n",
    "}"
   ]
  },
  {
   "cell_type": "code",
   "execution_count": 5,
   "metadata": {
    "id": "6EqaL6Ef3eJf",
    "pycharm": {
     "name": "#%%\n"
    }
   },
   "outputs": [],
   "source": [
    "for i in range(1, 4):\n",
    "    predictor_data[f'SURFACE SOLAR RADIATION {i}'] /= predictor_data[f'SURFACE SOLAR RADIATION {i}'].max()\n",
    "    predictor_data[f'SURFACE THERMAL RADIATION {i}'] /= predictor_data[f'SURFACE THERMAL RADIATION {i}'].max()\n",
    "    predictor_data[f'TOP NET SOLAR RADIATION {i}'] /= predictor_data[f'TOP NET SOLAR RADIATION {i}'].max()"
   ]
  },
  {
   "cell_type": "code",
   "execution_count": 6,
   "metadata": {
    "id": "4HOmZEuY3eJg",
    "pycharm": {
     "name": "#%%\n"
    }
   },
   "outputs": [],
   "source": [
    "predictor_zones = []\n",
    "train_data_zones = []\n",
    "\n",
    "for zoneid in range(1, 4):\n",
    "    predictor = predictor_data[[f'SURFACE SOLAR RADIATION {zoneid}', f'SURFACE THERMAL RADIATION {zoneid}', f'TOP NET SOLAR RADIATION {zoneid}']]\n",
    "    predictor_zones.append(predictor)\n",
    "    train_data_zone = train_data[[f'ZONEID {zoneid}']]\n",
    "    train_data_zones.append(train_data_zone)"
   ]
  },
  {
   "cell_type": "code",
   "execution_count": 7,
   "metadata": {
    "id": "9MAZFa0T3eJg",
    "pycharm": {
     "name": "#%%\n"
    }
   },
   "outputs": [],
   "source": [
    "x_input_zones = []\n",
    "y_output_zones = []\n",
    "\n",
    "for predictor, train_data in zip(predictor_zones, train_data_zones):\n",
    "    x_input_df = predictor[:-gefcom14_metadata['prediction_length']]\n",
    "    x_input = np.array(x_input_df)\n",
    "    x_input_zones.append(x_input)\n",
    "    y_output = np.array(train_data[:-gefcom14_metadata['prediction_length']])\n",
    "    y_output_zones.append(y_output)"
   ]
  },
  {
   "cell_type": "markdown",
   "metadata": {
    "id": "_hGCHDgTejw8"
   },
   "source": [
    "# NNQF"
   ]
  },
  {
   "cell_type": "code",
   "execution_count": 8,
   "metadata": {
    "id": "aex-xN--5GXD"
   },
   "outputs": [],
   "source": [
    "import numpy as np\n",
    "from sklearn.neighbors import NearestNeighbors as nn_fun\n",
    "\n",
    "def nnqf_filter(x_input, \n",
    "                y_output, \n",
    "                num_neighbors = 10, \n",
    "                q_quantile = 0.5, \n",
    "                var_weighting = True, \n",
    "                minkowski_dist = 2):\n",
    "    \"\"\"\n",
    "    Parameters\n",
    "    ----------\n",
    "    x_input : numpy array ;\n",
    "    Input matrix of dimension (N,S), with N representing the number of\n",
    "    samples and S the number of features\n",
    "\n",
    "    y_output : numpy array ;\n",
    "    Output vector of dimension (N,)\n",
    "\n",
    "    num_neighbors : int, default = 10 ;\n",
    "    Number of nearest neighbors that the filter is going to search for     \n",
    "\n",
    "    q_quantile : float, default = 0.5 ;\n",
    "    Must be a value between 0 and 1. \n",
    "    Probability of the quantile that is going to be calculated from the \n",
    "    nearest neighbors output values      \n",
    "\n",
    "    var_weighting : bool, default = True ;\n",
    "    Value defining if the columns of the input matrix are going to be multiplied \n",
    "    by the inverse of their variance\n",
    "\n",
    "    minkowski_dist : int, default = 2 ;\n",
    "    Parameter used to define the type of minkoswki distance used to calculate \n",
    "    the nearest neighbors\n",
    "\n",
    "    Returns\n",
    "    -------\n",
    "    yq_output : numpy array ;\n",
    "    New output vector containing the quantiles of the output values of the\n",
    "    input's nearest neighbors\n",
    "\n",
    "    \"\"\"\n",
    "    # --\n",
    "    # Each column of the input matrix is multiplied by the inverse of its variance, \n",
    "    # in order to avoid a feature with a huge scale to overpower the others at the \n",
    "    # moment of calculating the distances\n",
    "\n",
    "    if var_weighting:\n",
    "        var_weights = np.var(x_input, axis=0)\n",
    "        x_input = var_weights ** (-1) * x_input    \n",
    "\n",
    "    # --\n",
    "    # We calculate the nearest neighbor of each feature vector within the input matrix\n",
    "    # and obtain their corresponding indices\n",
    "    # The distance used is the minkowski distance with p = minkowski_dist\n",
    "\n",
    "    x_neighbors = nn_fun(n_neighbors=num_neighbors, algorithm='auto', p=minkowski_dist).fit(x_input)\n",
    "    dist, indx = x_neighbors.kneighbors(x_input)\n",
    "\n",
    "\n",
    "    # --\n",
    "    # We create a matrix containing the output values of nearest neighbors of\n",
    "    # each input vector\n",
    "\n",
    "    y_neighbors = y_output[indx[0,:]].T\n",
    "    for i in range(1, np.size(x_input, 0)):\n",
    "        values_to_add = y_output[indx[i,:]].T\n",
    "        y_neighbors = np.vstack([y_neighbors, values_to_add])\n",
    "\n",
    "    # --\n",
    "    # We calculate the q_quantile of the nearest neighbors output values\n",
    "    # and create with them a new output vector yq_output\n",
    "\n",
    "    yq_output = np.quantile(y_neighbors, q=q_quantile, axis=1)\n",
    "        \n",
    "    return yq_output"
   ]
  },
  {
   "cell_type": "code",
   "execution_count": 9,
   "metadata": {
    "colab": {
     "base_uri": "https://localhost:8080/",
     "height": 790
    },
    "id": "IAz6_JCn3eJh",
    "outputId": "a826add0-524f-4077-8ecd-36c1fbc9f383",
    "pycharm": {
     "name": "#%%\n"
    }
   },
   "outputs": [],
   "source": [
    "yq_output_zones = []\n",
    "\n",
    "for x_input, y_output in zip(x_input_zones, y_output_zones):\n",
    "    yq_output = nnqf_filter(x_input=x_input, y_output=y_output,\n",
    "                            q_quantile=[p / 100 for p in range(1, 100)],\n",
    "                            num_neighbors=100).T\n",
    "    yq_output_df = pd.DataFrame(yq_output, index=x_input_df.index)\\\n",
    "        .rename(columns={p: str((p+1)/100) for p in range(99)})\n",
    "    yq_output_zones.append(yq_output_df)"
   ]
  },
  {
   "cell_type": "markdown",
   "metadata": {
    "id": "5g9PIqF93eJi",
    "pycharm": {
     "name": "#%% md\n"
    }
   },
   "source": [
    "# Train the linear regression model (ANN6)"
   ]
  },
  {
   "cell_type": "code",
   "execution_count": 10,
   "metadata": {
    "colab": {
     "base_uri": "https://localhost:8080/",
     "height": 406
    },
    "id": "aZIx90Y4EmzL",
    "outputId": "35aa3640-9108-4910-e5b5-fa5380826aed"
   },
   "outputs": [
    {
     "data": {
      "text/plain": "              0         1         2\n0      0.075036  0.034681  0.076927\n1      0.155907  0.070565  0.159924\n2      0.230590  0.106171  0.240292\n3      0.287023  0.141938  0.304604\n4      0.324356  0.180378  0.352287\n...         ...       ...       ...\n19699  0.241159  0.557521  0.254016\n19700  0.241159  0.584266  0.254016\n19701  0.243504  0.610605  0.257703\n19702  0.260143  0.638128  0.277010\n19703  0.289951  0.666232  0.309837\n\n[19704 rows x 3 columns]",
      "text/html": "<div>\n<style scoped>\n    .dataframe tbody tr th:only-of-type {\n        vertical-align: middle;\n    }\n\n    .dataframe tbody tr th {\n        vertical-align: top;\n    }\n\n    .dataframe thead th {\n        text-align: right;\n    }\n</style>\n<table border=\"1\" class=\"dataframe\">\n  <thead>\n    <tr style=\"text-align: right;\">\n      <th></th>\n      <th>0</th>\n      <th>1</th>\n      <th>2</th>\n    </tr>\n  </thead>\n  <tbody>\n    <tr>\n      <th>0</th>\n      <td>0.075036</td>\n      <td>0.034681</td>\n      <td>0.076927</td>\n    </tr>\n    <tr>\n      <th>1</th>\n      <td>0.155907</td>\n      <td>0.070565</td>\n      <td>0.159924</td>\n    </tr>\n    <tr>\n      <th>2</th>\n      <td>0.230590</td>\n      <td>0.106171</td>\n      <td>0.240292</td>\n    </tr>\n    <tr>\n      <th>3</th>\n      <td>0.287023</td>\n      <td>0.141938</td>\n      <td>0.304604</td>\n    </tr>\n    <tr>\n      <th>4</th>\n      <td>0.324356</td>\n      <td>0.180378</td>\n      <td>0.352287</td>\n    </tr>\n    <tr>\n      <th>...</th>\n      <td>...</td>\n      <td>...</td>\n      <td>...</td>\n    </tr>\n    <tr>\n      <th>19699</th>\n      <td>0.241159</td>\n      <td>0.557521</td>\n      <td>0.254016</td>\n    </tr>\n    <tr>\n      <th>19700</th>\n      <td>0.241159</td>\n      <td>0.584266</td>\n      <td>0.254016</td>\n    </tr>\n    <tr>\n      <th>19701</th>\n      <td>0.243504</td>\n      <td>0.610605</td>\n      <td>0.257703</td>\n    </tr>\n    <tr>\n      <th>19702</th>\n      <td>0.260143</td>\n      <td>0.638128</td>\n      <td>0.277010</td>\n    </tr>\n    <tr>\n      <th>19703</th>\n      <td>0.289951</td>\n      <td>0.666232</td>\n      <td>0.309837</td>\n    </tr>\n  </tbody>\n</table>\n<p>19704 rows × 3 columns</p>\n</div>"
     },
     "execution_count": 10,
     "metadata": {},
     "output_type": "execute_result"
    }
   ],
   "source": [
    "for zoneid in range(1, 4):\n",
    "    # remove timecode\n",
    "    predictor = predictor_zones[zoneid-1].reset_index().drop('TIMESTAMP', axis=1).rename(columns={\n",
    "        f'SURFACE SOLAR RADIATION {zoneid}': 0,\n",
    "        f'SURFACE THERMAL RADIATION {zoneid}': 1,\n",
    "        f'TOP NET SOLAR RADIATION {zoneid}': 2})\n",
    "    predictor_zones[zoneid-1] = predictor\n",
    "\n",
    "predictor_zones[0]"
   ]
  },
  {
   "cell_type": "markdown",
   "metadata": {
    "id": "gngeCMPG3eJi",
    "pycharm": {
     "name": "#%% md\n"
    }
   },
   "source": [
    "## Prepare data for regression model"
   ]
  },
  {
   "cell_type": "code",
   "execution_count": 11,
   "metadata": {
    "colab": {
     "base_uri": "https://localhost:8080/",
     "height": 426
    },
    "id": "LXXaq3N-3eJj",
    "outputId": "c6fcf9ba-bf23-4864-aef0-dad353c8cb34",
    "pycharm": {
     "name": "#%%\n"
    },
    "scrolled": true
   },
   "outputs": [
    {
     "data": {
      "text/plain": "             0         1         2         3         4         5         6   \\\n23     0.450155  0.829704  0.516008  0.406513  0.790186  0.465510  0.376880   \n24     0.050003  0.037880  0.058629  0.450155  0.829704  0.516008  0.406513   \n25     0.096816  0.076731  0.116198  0.050003  0.037880  0.058629  0.450155   \n26     0.149261  0.116550  0.177444  0.096816  0.076731  0.116198  0.050003   \n27     0.201841  0.155451  0.237863  0.149261  0.116550  0.177444  0.096816   \n...         ...       ...       ...       ...       ...       ...       ...   \n19699  0.241159  0.557521  0.254016  0.241159  0.530769  0.254016  0.241159   \n19700  0.241159  0.584266  0.254016  0.241159  0.557521  0.254016  0.241159   \n19701  0.243504  0.610605  0.257703  0.241159  0.584266  0.254016  0.241159   \n19702  0.260143  0.638128  0.277010  0.243504  0.610605  0.257703  0.241159   \n19703  0.289951  0.666232  0.309837  0.260143  0.638128  0.277010  0.243504   \n\n             7         8         9   ...        62        63        64  \\\n23     0.753688  0.429557  0.361453  ...  0.304604  0.230590  0.106171   \n24     0.790186  0.465510  0.376880  ...  0.352287  0.287023  0.141938   \n25     0.829704  0.516008  0.406513  ...  0.381666  0.324356  0.180378   \n26     0.037880  0.058629  0.450155  ...  0.401204  0.343937  0.217987   \n27     0.076731  0.116198  0.050003  ...  0.406247  0.357292  0.253755   \n...         ...       ...       ...  ...       ...       ...       ...   \n19699  0.502934  0.254016  0.241159  ...  0.179764  0.075720  0.749951   \n19700  0.530769  0.254016  0.241159  ...  0.043290  0.103106  0.778108   \n19701  0.557521  0.254016  0.241159  ...  0.094505  0.042290  0.026390   \n19702  0.584266  0.254016  0.241159  ...  0.145261  0.093253  0.052707   \n19703  0.610605  0.257703  0.241159  ...  0.190357  0.142195  0.079747   \n\n             65        66        67        68        69        70        71  \n23     0.240292  0.155907  0.070565  0.159924  0.075036  0.034681  0.076927  \n24     0.304604  0.230590  0.106171  0.240292  0.155907  0.070565  0.159924  \n25     0.352287  0.287023  0.141938  0.304604  0.230590  0.106171  0.240292  \n26     0.381666  0.324356  0.180378  0.352287  0.287023  0.141938  0.304604  \n27     0.401204  0.343937  0.217987  0.381666  0.324356  0.180378  0.352287  \n...         ...       ...       ...       ...       ...       ...       ...  \n19699  0.149421  0.064285  0.720290  0.134269  0.062996  0.688923  0.131471  \n19700  0.179764  0.075720  0.749951  0.149421  0.064285  0.720290  0.134269  \n19701  0.043290  0.103106  0.778108  0.179764  0.075720  0.749951  0.149421  \n19702  0.094505  0.042290  0.026390  0.043290  0.103106  0.778108  0.179764  \n19703  0.145261  0.093253  0.052707  0.094505  0.042290  0.026390  0.043290  \n\n[19681 rows x 72 columns]",
      "text/html": "<div>\n<style scoped>\n    .dataframe tbody tr th:only-of-type {\n        vertical-align: middle;\n    }\n\n    .dataframe tbody tr th {\n        vertical-align: top;\n    }\n\n    .dataframe thead th {\n        text-align: right;\n    }\n</style>\n<table border=\"1\" class=\"dataframe\">\n  <thead>\n    <tr style=\"text-align: right;\">\n      <th></th>\n      <th>0</th>\n      <th>1</th>\n      <th>2</th>\n      <th>3</th>\n      <th>4</th>\n      <th>5</th>\n      <th>6</th>\n      <th>7</th>\n      <th>8</th>\n      <th>9</th>\n      <th>...</th>\n      <th>62</th>\n      <th>63</th>\n      <th>64</th>\n      <th>65</th>\n      <th>66</th>\n      <th>67</th>\n      <th>68</th>\n      <th>69</th>\n      <th>70</th>\n      <th>71</th>\n    </tr>\n  </thead>\n  <tbody>\n    <tr>\n      <th>23</th>\n      <td>0.450155</td>\n      <td>0.829704</td>\n      <td>0.516008</td>\n      <td>0.406513</td>\n      <td>0.790186</td>\n      <td>0.465510</td>\n      <td>0.376880</td>\n      <td>0.753688</td>\n      <td>0.429557</td>\n      <td>0.361453</td>\n      <td>...</td>\n      <td>0.304604</td>\n      <td>0.230590</td>\n      <td>0.106171</td>\n      <td>0.240292</td>\n      <td>0.155907</td>\n      <td>0.070565</td>\n      <td>0.159924</td>\n      <td>0.075036</td>\n      <td>0.034681</td>\n      <td>0.076927</td>\n    </tr>\n    <tr>\n      <th>24</th>\n      <td>0.050003</td>\n      <td>0.037880</td>\n      <td>0.058629</td>\n      <td>0.450155</td>\n      <td>0.829704</td>\n      <td>0.516008</td>\n      <td>0.406513</td>\n      <td>0.790186</td>\n      <td>0.465510</td>\n      <td>0.376880</td>\n      <td>...</td>\n      <td>0.352287</td>\n      <td>0.287023</td>\n      <td>0.141938</td>\n      <td>0.304604</td>\n      <td>0.230590</td>\n      <td>0.106171</td>\n      <td>0.240292</td>\n      <td>0.155907</td>\n      <td>0.070565</td>\n      <td>0.159924</td>\n    </tr>\n    <tr>\n      <th>25</th>\n      <td>0.096816</td>\n      <td>0.076731</td>\n      <td>0.116198</td>\n      <td>0.050003</td>\n      <td>0.037880</td>\n      <td>0.058629</td>\n      <td>0.450155</td>\n      <td>0.829704</td>\n      <td>0.516008</td>\n      <td>0.406513</td>\n      <td>...</td>\n      <td>0.381666</td>\n      <td>0.324356</td>\n      <td>0.180378</td>\n      <td>0.352287</td>\n      <td>0.287023</td>\n      <td>0.141938</td>\n      <td>0.304604</td>\n      <td>0.230590</td>\n      <td>0.106171</td>\n      <td>0.240292</td>\n    </tr>\n    <tr>\n      <th>26</th>\n      <td>0.149261</td>\n      <td>0.116550</td>\n      <td>0.177444</td>\n      <td>0.096816</td>\n      <td>0.076731</td>\n      <td>0.116198</td>\n      <td>0.050003</td>\n      <td>0.037880</td>\n      <td>0.058629</td>\n      <td>0.450155</td>\n      <td>...</td>\n      <td>0.401204</td>\n      <td>0.343937</td>\n      <td>0.217987</td>\n      <td>0.381666</td>\n      <td>0.324356</td>\n      <td>0.180378</td>\n      <td>0.352287</td>\n      <td>0.287023</td>\n      <td>0.141938</td>\n      <td>0.304604</td>\n    </tr>\n    <tr>\n      <th>27</th>\n      <td>0.201841</td>\n      <td>0.155451</td>\n      <td>0.237863</td>\n      <td>0.149261</td>\n      <td>0.116550</td>\n      <td>0.177444</td>\n      <td>0.096816</td>\n      <td>0.076731</td>\n      <td>0.116198</td>\n      <td>0.050003</td>\n      <td>...</td>\n      <td>0.406247</td>\n      <td>0.357292</td>\n      <td>0.253755</td>\n      <td>0.401204</td>\n      <td>0.343937</td>\n      <td>0.217987</td>\n      <td>0.381666</td>\n      <td>0.324356</td>\n      <td>0.180378</td>\n      <td>0.352287</td>\n    </tr>\n    <tr>\n      <th>...</th>\n      <td>...</td>\n      <td>...</td>\n      <td>...</td>\n      <td>...</td>\n      <td>...</td>\n      <td>...</td>\n      <td>...</td>\n      <td>...</td>\n      <td>...</td>\n      <td>...</td>\n      <td>...</td>\n      <td>...</td>\n      <td>...</td>\n      <td>...</td>\n      <td>...</td>\n      <td>...</td>\n      <td>...</td>\n      <td>...</td>\n      <td>...</td>\n      <td>...</td>\n      <td>...</td>\n    </tr>\n    <tr>\n      <th>19699</th>\n      <td>0.241159</td>\n      <td>0.557521</td>\n      <td>0.254016</td>\n      <td>0.241159</td>\n      <td>0.530769</td>\n      <td>0.254016</td>\n      <td>0.241159</td>\n      <td>0.502934</td>\n      <td>0.254016</td>\n      <td>0.241159</td>\n      <td>...</td>\n      <td>0.179764</td>\n      <td>0.075720</td>\n      <td>0.749951</td>\n      <td>0.149421</td>\n      <td>0.064285</td>\n      <td>0.720290</td>\n      <td>0.134269</td>\n      <td>0.062996</td>\n      <td>0.688923</td>\n      <td>0.131471</td>\n    </tr>\n    <tr>\n      <th>19700</th>\n      <td>0.241159</td>\n      <td>0.584266</td>\n      <td>0.254016</td>\n      <td>0.241159</td>\n      <td>0.557521</td>\n      <td>0.254016</td>\n      <td>0.241159</td>\n      <td>0.530769</td>\n      <td>0.254016</td>\n      <td>0.241159</td>\n      <td>...</td>\n      <td>0.043290</td>\n      <td>0.103106</td>\n      <td>0.778108</td>\n      <td>0.179764</td>\n      <td>0.075720</td>\n      <td>0.749951</td>\n      <td>0.149421</td>\n      <td>0.064285</td>\n      <td>0.720290</td>\n      <td>0.134269</td>\n    </tr>\n    <tr>\n      <th>19701</th>\n      <td>0.243504</td>\n      <td>0.610605</td>\n      <td>0.257703</td>\n      <td>0.241159</td>\n      <td>0.584266</td>\n      <td>0.254016</td>\n      <td>0.241159</td>\n      <td>0.557521</td>\n      <td>0.254016</td>\n      <td>0.241159</td>\n      <td>...</td>\n      <td>0.094505</td>\n      <td>0.042290</td>\n      <td>0.026390</td>\n      <td>0.043290</td>\n      <td>0.103106</td>\n      <td>0.778108</td>\n      <td>0.179764</td>\n      <td>0.075720</td>\n      <td>0.749951</td>\n      <td>0.149421</td>\n    </tr>\n    <tr>\n      <th>19702</th>\n      <td>0.260143</td>\n      <td>0.638128</td>\n      <td>0.277010</td>\n      <td>0.243504</td>\n      <td>0.610605</td>\n      <td>0.257703</td>\n      <td>0.241159</td>\n      <td>0.584266</td>\n      <td>0.254016</td>\n      <td>0.241159</td>\n      <td>...</td>\n      <td>0.145261</td>\n      <td>0.093253</td>\n      <td>0.052707</td>\n      <td>0.094505</td>\n      <td>0.042290</td>\n      <td>0.026390</td>\n      <td>0.043290</td>\n      <td>0.103106</td>\n      <td>0.778108</td>\n      <td>0.179764</td>\n    </tr>\n    <tr>\n      <th>19703</th>\n      <td>0.289951</td>\n      <td>0.666232</td>\n      <td>0.309837</td>\n      <td>0.260143</td>\n      <td>0.638128</td>\n      <td>0.277010</td>\n      <td>0.243504</td>\n      <td>0.610605</td>\n      <td>0.257703</td>\n      <td>0.241159</td>\n      <td>...</td>\n      <td>0.190357</td>\n      <td>0.142195</td>\n      <td>0.079747</td>\n      <td>0.145261</td>\n      <td>0.093253</td>\n      <td>0.052707</td>\n      <td>0.094505</td>\n      <td>0.042290</td>\n      <td>0.026390</td>\n      <td>0.043290</td>\n    </tr>\n  </tbody>\n</table>\n<p>19681 rows × 72 columns</p>\n</div>"
     },
     "execution_count": 11,
     "metadata": {},
     "output_type": "execute_result"
    }
   ],
   "source": [
    "h = 24\n",
    "h1 = 24\n",
    "\n",
    "x_zones = []\n",
    "\n",
    "for predictor in predictor_zones:\n",
    "    x_pieces = []\n",
    "    for i in range(h1):\n",
    "        piece = predictor.drop(range(i)).reset_index().drop('index', axis=1)\n",
    "        x_pieces.insert(0, piece)\n",
    "\n",
    "    x = pd.concat(x_pieces, axis=1)\n",
    "    x.index = x.index.map(lambda x: x + h1 - 1)\n",
    "    x = x[:-h+1]\n",
    "    x.columns = range(24 * 3)\n",
    "    x_zones.append(x)\n",
    "\n",
    "x_zones[0]"
   ]
  },
  {
   "cell_type": "markdown",
   "metadata": {},
   "source": [
    "## Feature selection"
   ]
  },
  {
   "cell_type": "code",
   "execution_count": 12,
   "metadata": {},
   "outputs": [
    {
     "name": "stdout",
     "output_type": "stream",
     "text": [
      "(18984, 72)\n",
      "(18984,)\n",
      "[10 13 16 19 22 58 61 64 67 70]\n",
      "(18984, 72)\n",
      "(18984,)\n",
      "[13 16 19 22 25 58 61 64 67 70]\n",
      "(18984, 72)\n",
      "(18984,)\n",
      "[10 13 16 19 22 58 61 64 67 70]\n"
     ]
    }
   ],
   "source": [
    "from sklearn.feature_selection import SelectKBest\n",
    "from sklearn.feature_selection import f_regression\n",
    "\n",
    "x_new_zones = []\n",
    "\n",
    "for x, yq_output_df in zip(x_zones, yq_output_zones):\n",
    "    x_select = x[:-gefcom14_metadata['prediction_length'] + 23]\n",
    "    y_select = yq_output_df[str(0.5)]\n",
    "\n",
    "    print(x_select.shape)\n",
    "    print(y_select.shape)\n",
    "\n",
    "    support = SelectKBest(f_regression, k=10).fit(x_select, y_select).get_support(indices=True)\n",
    "    print(support)\n",
    "\n",
    "    x_new = x.loc[:, support]\n",
    "    x_new_zones.append(x_new)"
   ]
  },
  {
   "cell_type": "code",
   "execution_count": 13,
   "metadata": {},
   "outputs": [],
   "source": [
    "#x_normalized = (x_new - x_new.mean()) / x_new.std()\n",
    "#x_normalized"
   ]
  },
  {
   "cell_type": "markdown",
   "metadata": {
    "id": "QZ2U80LAepBN"
   },
   "source": [
    "# Training"
   ]
  },
  {
   "cell_type": "code",
   "execution_count": 14,
   "metadata": {
    "colab": {
     "base_uri": "https://localhost:8080/"
    },
    "id": "6hDwwQgj3eJk",
    "outputId": "67813c55-9d0f-4938-cf76-c0822f2fe206",
    "pycharm": {
     "name": "#%%\n"
    }
   },
   "outputs": [
    {
     "name": "stderr",
     "output_type": "stream",
     "text": [
      "100%|██████████| 99/99 [01:43<00:00,  1.05s/it]\n",
      "100%|██████████| 99/99 [01:50<00:00,  1.12s/it]\n",
      "100%|██████████| 99/99 [01:45<00:00,  1.07s/it]\n"
     ]
    }
   ],
   "source": [
    "from sklearn.neural_network import MLPRegressor\n",
    "from tqdm import tqdm\n",
    "\n",
    "ensemble_size = 2\n",
    "\n",
    "predictions_zones = []\n",
    "\n",
    "for x_new, yq_output_df in zip(x_new_zones, yq_output_zones):\n",
    "    predictions = [pd.DataFrame() for _ in range(ensemble_size)]\n",
    "\n",
    "    for p in tqdm(range(1, 100)):\n",
    "        for prediction in predictions:\n",
    "            y = yq_output_df.reset_index().drop('TIMESTAMP', axis=1).drop(range(h1-1))[str(p/100)]\n",
    "            model = MLPRegressor(hidden_layer_sizes=(6,))\n",
    "\n",
    "            trained = model.fit(x_new[:-gefcom14_metadata['prediction_length']], y)\n",
    "            prediction.insert(p-1, str(p/100), trained.predict(x_new[-gefcom14_metadata['prediction_length']:]))\n",
    "    predictions_zones.append(predictions)"
   ]
  },
  {
   "cell_type": "code",
   "execution_count": 15,
   "metadata": {},
   "outputs": [
    {
     "data": {
      "text/plain": "         0.01      0.02      0.03      0.04      0.05      0.06      0.07  \\\n0    0.163404  0.188751  0.239559  0.238502  0.270057  0.316178  0.322413   \n1    0.163404  0.188338  0.241051  0.247235  0.286564  0.348452  0.329444   \n2    0.163404  0.187634  0.244340  0.255976  0.303653  0.354361  0.337294   \n3    0.163404  0.168114  0.215366  0.199907  0.276631  0.205797  0.210135   \n4    0.074407  0.075042  0.087360  0.078771  0.054330  0.099380  0.160262   \n..        ...       ...       ...       ...       ...       ...       ...   \n715 -0.007996 -0.069912  0.012124 -0.036735 -0.039966 -0.015800 -0.018508   \n716 -0.027171 -0.119002 -0.009117 -0.035724 -0.074841 -0.034581 -0.026040   \n717 -0.009971 -0.048298 -0.012439 -0.019575 -0.042886 -0.023115  0.024265   \n718  0.003340  0.071590  0.005830 -0.001056  0.046416 -0.003977  0.018851   \n719  0.142442  0.189185  0.194115  0.227317  0.164695  0.016801  0.239376   \n\n         0.08      0.09       0.1  ...       0.9      0.91      0.92  \\\n0    0.330235  0.337582  0.316956  ...  0.798513  0.792358  0.795162   \n1    0.338608  0.341610  0.319393  ...  0.828118  0.789249  0.816484   \n2    0.348800  0.346182  0.322758  ...  0.857844  0.787118  0.837381   \n3    0.266916  0.288636  0.283704  ...  0.709143  0.710938  0.716676   \n4    0.149702  0.125962  0.150055  ...  0.580673  0.552075  0.535170   \n..        ...       ...       ...  ...       ...       ...       ...   \n715 -0.040896  0.004928 -0.054188  ...  0.278083  0.277672  0.327531   \n716 -0.018335 -0.037899 -0.044368  ...  0.348485  0.419787  0.376895   \n717 -0.001705 -0.018025 -0.022087  ...  0.404870  0.496660  0.462393   \n718  0.032934  0.012308  0.077960  ...  0.501001  0.566846  0.549562   \n719  0.256233  0.268404  0.300194  ...  0.599636  0.697335  0.635190   \n\n         0.93      0.94      0.95      0.96      0.97      0.98      0.99  \n0    0.819905  0.844657  0.790281  0.720388  0.820961  0.854651  0.807800  \n1    0.843131  0.846176  0.833000  0.720388  0.815120  0.886827  0.804515  \n2    0.866089  0.847722  0.873894  0.720388  0.808117  0.918491  0.806456  \n3    0.701655  0.737903  0.728878  0.720388  0.713023  0.773464  0.684069  \n4    0.606357  0.617078  0.621446  0.720388  0.642163  0.638398  0.583185  \n..        ...       ...       ...       ...       ...       ...       ...  \n715  0.324783  0.357929  0.354280  0.325435  0.262071  0.384734  0.324395  \n716  0.417683  0.425865  0.441203  0.464435  0.506333  0.494236  0.423776  \n717  0.478774  0.497426  0.485792  0.537291  0.640710  0.598127  0.623570  \n718  0.561348  0.558768  0.577084  0.612260  0.683301  0.601030  0.699444  \n719  0.650613  0.696967  0.648083  0.687014  0.710767  0.656994  0.781332  \n\n[720 rows x 99 columns]",
      "text/html": "<div>\n<style scoped>\n    .dataframe tbody tr th:only-of-type {\n        vertical-align: middle;\n    }\n\n    .dataframe tbody tr th {\n        vertical-align: top;\n    }\n\n    .dataframe thead th {\n        text-align: right;\n    }\n</style>\n<table border=\"1\" class=\"dataframe\">\n  <thead>\n    <tr style=\"text-align: right;\">\n      <th></th>\n      <th>0.01</th>\n      <th>0.02</th>\n      <th>0.03</th>\n      <th>0.04</th>\n      <th>0.05</th>\n      <th>0.06</th>\n      <th>0.07</th>\n      <th>0.08</th>\n      <th>0.09</th>\n      <th>0.1</th>\n      <th>...</th>\n      <th>0.9</th>\n      <th>0.91</th>\n      <th>0.92</th>\n      <th>0.93</th>\n      <th>0.94</th>\n      <th>0.95</th>\n      <th>0.96</th>\n      <th>0.97</th>\n      <th>0.98</th>\n      <th>0.99</th>\n    </tr>\n  </thead>\n  <tbody>\n    <tr>\n      <th>0</th>\n      <td>0.163404</td>\n      <td>0.188751</td>\n      <td>0.239559</td>\n      <td>0.238502</td>\n      <td>0.270057</td>\n      <td>0.316178</td>\n      <td>0.322413</td>\n      <td>0.330235</td>\n      <td>0.337582</td>\n      <td>0.316956</td>\n      <td>...</td>\n      <td>0.798513</td>\n      <td>0.792358</td>\n      <td>0.795162</td>\n      <td>0.819905</td>\n      <td>0.844657</td>\n      <td>0.790281</td>\n      <td>0.720388</td>\n      <td>0.820961</td>\n      <td>0.854651</td>\n      <td>0.807800</td>\n    </tr>\n    <tr>\n      <th>1</th>\n      <td>0.163404</td>\n      <td>0.188338</td>\n      <td>0.241051</td>\n      <td>0.247235</td>\n      <td>0.286564</td>\n      <td>0.348452</td>\n      <td>0.329444</td>\n      <td>0.338608</td>\n      <td>0.341610</td>\n      <td>0.319393</td>\n      <td>...</td>\n      <td>0.828118</td>\n      <td>0.789249</td>\n      <td>0.816484</td>\n      <td>0.843131</td>\n      <td>0.846176</td>\n      <td>0.833000</td>\n      <td>0.720388</td>\n      <td>0.815120</td>\n      <td>0.886827</td>\n      <td>0.804515</td>\n    </tr>\n    <tr>\n      <th>2</th>\n      <td>0.163404</td>\n      <td>0.187634</td>\n      <td>0.244340</td>\n      <td>0.255976</td>\n      <td>0.303653</td>\n      <td>0.354361</td>\n      <td>0.337294</td>\n      <td>0.348800</td>\n      <td>0.346182</td>\n      <td>0.322758</td>\n      <td>...</td>\n      <td>0.857844</td>\n      <td>0.787118</td>\n      <td>0.837381</td>\n      <td>0.866089</td>\n      <td>0.847722</td>\n      <td>0.873894</td>\n      <td>0.720388</td>\n      <td>0.808117</td>\n      <td>0.918491</td>\n      <td>0.806456</td>\n    </tr>\n    <tr>\n      <th>3</th>\n      <td>0.163404</td>\n      <td>0.168114</td>\n      <td>0.215366</td>\n      <td>0.199907</td>\n      <td>0.276631</td>\n      <td>0.205797</td>\n      <td>0.210135</td>\n      <td>0.266916</td>\n      <td>0.288636</td>\n      <td>0.283704</td>\n      <td>...</td>\n      <td>0.709143</td>\n      <td>0.710938</td>\n      <td>0.716676</td>\n      <td>0.701655</td>\n      <td>0.737903</td>\n      <td>0.728878</td>\n      <td>0.720388</td>\n      <td>0.713023</td>\n      <td>0.773464</td>\n      <td>0.684069</td>\n    </tr>\n    <tr>\n      <th>4</th>\n      <td>0.074407</td>\n      <td>0.075042</td>\n      <td>0.087360</td>\n      <td>0.078771</td>\n      <td>0.054330</td>\n      <td>0.099380</td>\n      <td>0.160262</td>\n      <td>0.149702</td>\n      <td>0.125962</td>\n      <td>0.150055</td>\n      <td>...</td>\n      <td>0.580673</td>\n      <td>0.552075</td>\n      <td>0.535170</td>\n      <td>0.606357</td>\n      <td>0.617078</td>\n      <td>0.621446</td>\n      <td>0.720388</td>\n      <td>0.642163</td>\n      <td>0.638398</td>\n      <td>0.583185</td>\n    </tr>\n    <tr>\n      <th>...</th>\n      <td>...</td>\n      <td>...</td>\n      <td>...</td>\n      <td>...</td>\n      <td>...</td>\n      <td>...</td>\n      <td>...</td>\n      <td>...</td>\n      <td>...</td>\n      <td>...</td>\n      <td>...</td>\n      <td>...</td>\n      <td>...</td>\n      <td>...</td>\n      <td>...</td>\n      <td>...</td>\n      <td>...</td>\n      <td>...</td>\n      <td>...</td>\n      <td>...</td>\n      <td>...</td>\n    </tr>\n    <tr>\n      <th>715</th>\n      <td>-0.007996</td>\n      <td>-0.069912</td>\n      <td>0.012124</td>\n      <td>-0.036735</td>\n      <td>-0.039966</td>\n      <td>-0.015800</td>\n      <td>-0.018508</td>\n      <td>-0.040896</td>\n      <td>0.004928</td>\n      <td>-0.054188</td>\n      <td>...</td>\n      <td>0.278083</td>\n      <td>0.277672</td>\n      <td>0.327531</td>\n      <td>0.324783</td>\n      <td>0.357929</td>\n      <td>0.354280</td>\n      <td>0.325435</td>\n      <td>0.262071</td>\n      <td>0.384734</td>\n      <td>0.324395</td>\n    </tr>\n    <tr>\n      <th>716</th>\n      <td>-0.027171</td>\n      <td>-0.119002</td>\n      <td>-0.009117</td>\n      <td>-0.035724</td>\n      <td>-0.074841</td>\n      <td>-0.034581</td>\n      <td>-0.026040</td>\n      <td>-0.018335</td>\n      <td>-0.037899</td>\n      <td>-0.044368</td>\n      <td>...</td>\n      <td>0.348485</td>\n      <td>0.419787</td>\n      <td>0.376895</td>\n      <td>0.417683</td>\n      <td>0.425865</td>\n      <td>0.441203</td>\n      <td>0.464435</td>\n      <td>0.506333</td>\n      <td>0.494236</td>\n      <td>0.423776</td>\n    </tr>\n    <tr>\n      <th>717</th>\n      <td>-0.009971</td>\n      <td>-0.048298</td>\n      <td>-0.012439</td>\n      <td>-0.019575</td>\n      <td>-0.042886</td>\n      <td>-0.023115</td>\n      <td>0.024265</td>\n      <td>-0.001705</td>\n      <td>-0.018025</td>\n      <td>-0.022087</td>\n      <td>...</td>\n      <td>0.404870</td>\n      <td>0.496660</td>\n      <td>0.462393</td>\n      <td>0.478774</td>\n      <td>0.497426</td>\n      <td>0.485792</td>\n      <td>0.537291</td>\n      <td>0.640710</td>\n      <td>0.598127</td>\n      <td>0.623570</td>\n    </tr>\n    <tr>\n      <th>718</th>\n      <td>0.003340</td>\n      <td>0.071590</td>\n      <td>0.005830</td>\n      <td>-0.001056</td>\n      <td>0.046416</td>\n      <td>-0.003977</td>\n      <td>0.018851</td>\n      <td>0.032934</td>\n      <td>0.012308</td>\n      <td>0.077960</td>\n      <td>...</td>\n      <td>0.501001</td>\n      <td>0.566846</td>\n      <td>0.549562</td>\n      <td>0.561348</td>\n      <td>0.558768</td>\n      <td>0.577084</td>\n      <td>0.612260</td>\n      <td>0.683301</td>\n      <td>0.601030</td>\n      <td>0.699444</td>\n    </tr>\n    <tr>\n      <th>719</th>\n      <td>0.142442</td>\n      <td>0.189185</td>\n      <td>0.194115</td>\n      <td>0.227317</td>\n      <td>0.164695</td>\n      <td>0.016801</td>\n      <td>0.239376</td>\n      <td>0.256233</td>\n      <td>0.268404</td>\n      <td>0.300194</td>\n      <td>...</td>\n      <td>0.599636</td>\n      <td>0.697335</td>\n      <td>0.635190</td>\n      <td>0.650613</td>\n      <td>0.696967</td>\n      <td>0.648083</td>\n      <td>0.687014</td>\n      <td>0.710767</td>\n      <td>0.656994</td>\n      <td>0.781332</td>\n    </tr>\n  </tbody>\n</table>\n<p>720 rows × 99 columns</p>\n</div>"
     },
     "execution_count": 15,
     "metadata": {},
     "output_type": "execute_result"
    }
   ],
   "source": [
    "predictions_zones[0][0]"
   ]
  },
  {
   "cell_type": "code",
   "execution_count": 16,
   "metadata": {
    "colab": {
     "base_uri": "https://localhost:8080/",
     "height": 426
    },
    "id": "O2RidNE5OBHw",
    "outputId": "ac9809a2-8f3f-45cd-97f3-76c73d218a13"
   },
   "outputs": [],
   "source": [
    "averaged_predictions_zones = []\n",
    "\n",
    "for i, predictions in enumerate(predictions_zones):\n",
    "    zoneid = i+1\n",
    "    # ensemble averaging\n",
    "    averaged_predictions = pd.DataFrame()\n",
    "\n",
    "    for p in range(1, 100):\n",
    "        quantile_columns = [prediction[str(p/100)] for prediction in predictions]\n",
    "        averaged_predictions.insert(p-1, str(p/100), np.average(quantile_columns, axis=0))\n",
    "\n",
    "    averaged_predictions.insert(0, 'ZONEID', zoneid)\n",
    "    averaged_predictions.insert(0, 'TIMESTAMP', predictions[0].index)\n",
    "    averaged_predictions = averaged_predictions.set_index('TIMESTAMP')\n",
    "\n",
    "    averaged_predictions_zones.append(averaged_predictions)"
   ]
  },
  {
   "cell_type": "code",
   "execution_count": 17,
   "outputs": [],
   "source": [
    "predictions_avg = pd.concat(averaged_predictions_zones)"
   ],
   "metadata": {
    "collapsed": false,
    "pycharm": {
     "name": "#%%\n"
    }
   }
  },
  {
   "cell_type": "markdown",
   "metadata": {
    "id": "Re84wd0y3eJk",
    "pycharm": {
     "name": "#%% md\n"
    }
   },
   "source": [
    "# Postprocessing: Remove quantile crossing"
   ]
  },
  {
   "cell_type": "code",
   "execution_count": 18,
   "metadata": {
    "id": "miHP_j80Hh--"
   },
   "outputs": [],
   "source": [
    "# sorting\n",
    "\n",
    "# prediction = np.maximum(prediction, 0)\n",
    "# prediction.values.sort()\n",
    "# prediction"
   ]
  },
  {
   "cell_type": "code",
   "execution_count": 19,
   "metadata": {
    "colab": {
     "base_uri": "https://localhost:8080/",
     "height": 426
    },
    "id": "HLYJLWws3eJk",
    "outputId": "dfd61b0f-7618-48df-afe7-28736ec7e374",
    "pycharm": {
     "name": "#%%\n"
    },
    "scrolled": true
   },
   "outputs": [
    {
     "data": {
      "text/plain": "           ZONEID      0.01      0.02      0.03      0.04      0.05      0.06  \\\nTIMESTAMP                                                                       \n0               1  0.165144  0.187938  0.220716  0.246568  0.257210  0.306213   \n1               1  0.165379  0.204030  0.220893  0.243014  0.299527  0.322767   \n2               1  0.165851  0.219651  0.222490  0.239435  0.328095  0.328095   \n3               1  0.150854  0.178407  0.192101  0.201317  0.250775  0.250775   \n4               1  0.077538  0.077538  0.078582  0.097286  0.097286  0.115357   \n...           ...       ...       ...       ...       ...       ...       ...   \n715             3  0.000000  0.000000  0.000000  0.000000  0.000000  0.000000   \n716             3  0.000000  0.021732  0.021732  0.021732  0.021732  0.021732   \n717             3  0.003784  0.003784  0.003784  0.020093  0.020093  0.020093   \n718             3  0.000000  0.027130  0.027130  0.027130  0.027130  0.027130   \n719             3  0.123181  0.182060  0.205839  0.244884  0.269974  0.269974   \n\n               0.07      0.08      0.09  ...       0.9      0.91      0.92  \\\nTIMESTAMP                                ...                                 \n0          0.306213  0.323966  0.339670  ...  0.779335  0.780765  0.795368   \n1          0.322767  0.332469  0.343641  ...  0.791858  0.791858  0.821658   \n2          0.329610  0.342649  0.348092  ...  0.815463  0.815463  0.847344   \n3          0.250775  0.250775  0.271954  ...  0.687585  0.687585  0.696098   \n4          0.133180  0.141754  0.141754  ...  0.559286  0.559286  0.559286   \n...             ...       ...       ...  ...       ...       ...       ...   \n715        0.000000  0.000000  0.000000  ...  0.330174  0.362085  0.362085   \n716        0.021732  0.021732  0.021732  ...  0.405298  0.416001  0.416001   \n717        0.020093  0.020093  0.020093  ...  0.498411  0.509352  0.521497   \n718        0.027130  0.051881  0.051881  ...  0.588513  0.628148  0.628148   \n719        0.269974  0.273339  0.273339  ...  0.771807  0.771807  0.771807   \n\n               0.93      0.94      0.95      0.96      0.97      0.98  \\\nTIMESTAMP                                                               \n0          0.819587  0.827435  0.827435  0.827435  0.838712  0.838712   \n1          0.846098  0.846098  0.846098  0.846098  0.864149  0.864149   \n2          0.872468  0.872468  0.872468  0.872468  0.889387  0.889387   \n3          0.696098  0.723581  0.725518  0.725518  0.725518  0.725518   \n4          0.591690  0.612256  0.618431  0.659756  0.659756  0.659756   \n...             ...       ...       ...       ...       ...       ...   \n715        0.362085  0.362085  0.418588  0.418588  0.427265  0.437833   \n716        0.443032  0.461721  0.552730  0.552730  0.552730  0.621186   \n717        0.531997  0.548994  0.590661  0.590661  0.612179  0.650273   \n718        0.656036  0.656036  0.660298  0.682146  0.682146  0.698230   \n719        0.771807  0.787486  0.797288  0.802161  0.802161  0.806797   \n\n               0.99  \nTIMESTAMP            \n0          0.848934  \n1          0.875525  \n2          0.904399  \n3          0.725518  \n4          0.665116  \n...             ...  \n715        0.498918  \n716        0.621186  \n717        0.650273  \n718        0.698230  \n719        0.806797  \n\n[2160 rows x 100 columns]",
      "text/html": "<div>\n<style scoped>\n    .dataframe tbody tr th:only-of-type {\n        vertical-align: middle;\n    }\n\n    .dataframe tbody tr th {\n        vertical-align: top;\n    }\n\n    .dataframe thead th {\n        text-align: right;\n    }\n</style>\n<table border=\"1\" class=\"dataframe\">\n  <thead>\n    <tr style=\"text-align: right;\">\n      <th></th>\n      <th>ZONEID</th>\n      <th>0.01</th>\n      <th>0.02</th>\n      <th>0.03</th>\n      <th>0.04</th>\n      <th>0.05</th>\n      <th>0.06</th>\n      <th>0.07</th>\n      <th>0.08</th>\n      <th>0.09</th>\n      <th>...</th>\n      <th>0.9</th>\n      <th>0.91</th>\n      <th>0.92</th>\n      <th>0.93</th>\n      <th>0.94</th>\n      <th>0.95</th>\n      <th>0.96</th>\n      <th>0.97</th>\n      <th>0.98</th>\n      <th>0.99</th>\n    </tr>\n    <tr>\n      <th>TIMESTAMP</th>\n      <th></th>\n      <th></th>\n      <th></th>\n      <th></th>\n      <th></th>\n      <th></th>\n      <th></th>\n      <th></th>\n      <th></th>\n      <th></th>\n      <th></th>\n      <th></th>\n      <th></th>\n      <th></th>\n      <th></th>\n      <th></th>\n      <th></th>\n      <th></th>\n      <th></th>\n      <th></th>\n      <th></th>\n    </tr>\n  </thead>\n  <tbody>\n    <tr>\n      <th>0</th>\n      <td>1</td>\n      <td>0.165144</td>\n      <td>0.187938</td>\n      <td>0.220716</td>\n      <td>0.246568</td>\n      <td>0.257210</td>\n      <td>0.306213</td>\n      <td>0.306213</td>\n      <td>0.323966</td>\n      <td>0.339670</td>\n      <td>...</td>\n      <td>0.779335</td>\n      <td>0.780765</td>\n      <td>0.795368</td>\n      <td>0.819587</td>\n      <td>0.827435</td>\n      <td>0.827435</td>\n      <td>0.827435</td>\n      <td>0.838712</td>\n      <td>0.838712</td>\n      <td>0.848934</td>\n    </tr>\n    <tr>\n      <th>1</th>\n      <td>1</td>\n      <td>0.165379</td>\n      <td>0.204030</td>\n      <td>0.220893</td>\n      <td>0.243014</td>\n      <td>0.299527</td>\n      <td>0.322767</td>\n      <td>0.322767</td>\n      <td>0.332469</td>\n      <td>0.343641</td>\n      <td>...</td>\n      <td>0.791858</td>\n      <td>0.791858</td>\n      <td>0.821658</td>\n      <td>0.846098</td>\n      <td>0.846098</td>\n      <td>0.846098</td>\n      <td>0.846098</td>\n      <td>0.864149</td>\n      <td>0.864149</td>\n      <td>0.875525</td>\n    </tr>\n    <tr>\n      <th>2</th>\n      <td>1</td>\n      <td>0.165851</td>\n      <td>0.219651</td>\n      <td>0.222490</td>\n      <td>0.239435</td>\n      <td>0.328095</td>\n      <td>0.328095</td>\n      <td>0.329610</td>\n      <td>0.342649</td>\n      <td>0.348092</td>\n      <td>...</td>\n      <td>0.815463</td>\n      <td>0.815463</td>\n      <td>0.847344</td>\n      <td>0.872468</td>\n      <td>0.872468</td>\n      <td>0.872468</td>\n      <td>0.872468</td>\n      <td>0.889387</td>\n      <td>0.889387</td>\n      <td>0.904399</td>\n    </tr>\n    <tr>\n      <th>3</th>\n      <td>1</td>\n      <td>0.150854</td>\n      <td>0.178407</td>\n      <td>0.192101</td>\n      <td>0.201317</td>\n      <td>0.250775</td>\n      <td>0.250775</td>\n      <td>0.250775</td>\n      <td>0.250775</td>\n      <td>0.271954</td>\n      <td>...</td>\n      <td>0.687585</td>\n      <td>0.687585</td>\n      <td>0.696098</td>\n      <td>0.696098</td>\n      <td>0.723581</td>\n      <td>0.725518</td>\n      <td>0.725518</td>\n      <td>0.725518</td>\n      <td>0.725518</td>\n      <td>0.725518</td>\n    </tr>\n    <tr>\n      <th>4</th>\n      <td>1</td>\n      <td>0.077538</td>\n      <td>0.077538</td>\n      <td>0.078582</td>\n      <td>0.097286</td>\n      <td>0.097286</td>\n      <td>0.115357</td>\n      <td>0.133180</td>\n      <td>0.141754</td>\n      <td>0.141754</td>\n      <td>...</td>\n      <td>0.559286</td>\n      <td>0.559286</td>\n      <td>0.559286</td>\n      <td>0.591690</td>\n      <td>0.612256</td>\n      <td>0.618431</td>\n      <td>0.659756</td>\n      <td>0.659756</td>\n      <td>0.659756</td>\n      <td>0.665116</td>\n    </tr>\n    <tr>\n      <th>...</th>\n      <td>...</td>\n      <td>...</td>\n      <td>...</td>\n      <td>...</td>\n      <td>...</td>\n      <td>...</td>\n      <td>...</td>\n      <td>...</td>\n      <td>...</td>\n      <td>...</td>\n      <td>...</td>\n      <td>...</td>\n      <td>...</td>\n      <td>...</td>\n      <td>...</td>\n      <td>...</td>\n      <td>...</td>\n      <td>...</td>\n      <td>...</td>\n      <td>...</td>\n      <td>...</td>\n    </tr>\n    <tr>\n      <th>715</th>\n      <td>3</td>\n      <td>0.000000</td>\n      <td>0.000000</td>\n      <td>0.000000</td>\n      <td>0.000000</td>\n      <td>0.000000</td>\n      <td>0.000000</td>\n      <td>0.000000</td>\n      <td>0.000000</td>\n      <td>0.000000</td>\n      <td>...</td>\n      <td>0.330174</td>\n      <td>0.362085</td>\n      <td>0.362085</td>\n      <td>0.362085</td>\n      <td>0.362085</td>\n      <td>0.418588</td>\n      <td>0.418588</td>\n      <td>0.427265</td>\n      <td>0.437833</td>\n      <td>0.498918</td>\n    </tr>\n    <tr>\n      <th>716</th>\n      <td>3</td>\n      <td>0.000000</td>\n      <td>0.021732</td>\n      <td>0.021732</td>\n      <td>0.021732</td>\n      <td>0.021732</td>\n      <td>0.021732</td>\n      <td>0.021732</td>\n      <td>0.021732</td>\n      <td>0.021732</td>\n      <td>...</td>\n      <td>0.405298</td>\n      <td>0.416001</td>\n      <td>0.416001</td>\n      <td>0.443032</td>\n      <td>0.461721</td>\n      <td>0.552730</td>\n      <td>0.552730</td>\n      <td>0.552730</td>\n      <td>0.621186</td>\n      <td>0.621186</td>\n    </tr>\n    <tr>\n      <th>717</th>\n      <td>3</td>\n      <td>0.003784</td>\n      <td>0.003784</td>\n      <td>0.003784</td>\n      <td>0.020093</td>\n      <td>0.020093</td>\n      <td>0.020093</td>\n      <td>0.020093</td>\n      <td>0.020093</td>\n      <td>0.020093</td>\n      <td>...</td>\n      <td>0.498411</td>\n      <td>0.509352</td>\n      <td>0.521497</td>\n      <td>0.531997</td>\n      <td>0.548994</td>\n      <td>0.590661</td>\n      <td>0.590661</td>\n      <td>0.612179</td>\n      <td>0.650273</td>\n      <td>0.650273</td>\n    </tr>\n    <tr>\n      <th>718</th>\n      <td>3</td>\n      <td>0.000000</td>\n      <td>0.027130</td>\n      <td>0.027130</td>\n      <td>0.027130</td>\n      <td>0.027130</td>\n      <td>0.027130</td>\n      <td>0.027130</td>\n      <td>0.051881</td>\n      <td>0.051881</td>\n      <td>...</td>\n      <td>0.588513</td>\n      <td>0.628148</td>\n      <td>0.628148</td>\n      <td>0.656036</td>\n      <td>0.656036</td>\n      <td>0.660298</td>\n      <td>0.682146</td>\n      <td>0.682146</td>\n      <td>0.698230</td>\n      <td>0.698230</td>\n    </tr>\n    <tr>\n      <th>719</th>\n      <td>3</td>\n      <td>0.123181</td>\n      <td>0.182060</td>\n      <td>0.205839</td>\n      <td>0.244884</td>\n      <td>0.269974</td>\n      <td>0.269974</td>\n      <td>0.269974</td>\n      <td>0.273339</td>\n      <td>0.273339</td>\n      <td>...</td>\n      <td>0.771807</td>\n      <td>0.771807</td>\n      <td>0.771807</td>\n      <td>0.771807</td>\n      <td>0.787486</td>\n      <td>0.797288</td>\n      <td>0.802161</td>\n      <td>0.802161</td>\n      <td>0.806797</td>\n      <td>0.806797</td>\n    </tr>\n  </tbody>\n</table>\n<p>2160 rows × 100 columns</p>\n</div>"
     },
     "execution_count": 19,
     "metadata": {},
     "output_type": "execute_result"
    }
   ],
   "source": [
    "# maximum\n",
    "\n",
    "prediction = predictions_avg\n",
    "prediction['0.01'] = np.maximum(prediction['0.01'], 0)\n",
    "for p in range(2, 100):\n",
    "    prediction[str(p/100)] = np.maximum(prediction[str((p-1)/100)], prediction[str(p/100)])\n",
    "prediction"
   ]
  },
  {
   "cell_type": "markdown",
   "metadata": {
    "id": "NPF6AUCd3eJk",
    "pycharm": {
     "name": "#%% md\n"
    }
   },
   "source": [
    "# Plotting the quantile prediction for the first entries"
   ]
  },
  {
   "cell_type": "code",
   "execution_count": 20,
   "metadata": {
    "colab": {
     "base_uri": "https://localhost:8080/",
     "height": 878
    },
    "id": "CFOs8yfP3eJl",
    "outputId": "521c561a-4a3c-4c35-83fa-f00b16c7cbe6",
    "pycharm": {
     "name": "#%%\n"
    }
   },
   "outputs": [
    {
     "data": {
      "text/plain": "<Figure size 1080x1080 with 9 Axes>",
      "image/png": "[encoded data removed]"
     },
     "metadata": {
      "needs_background": "light"
     },
     "output_type": "display_data"
    }
   ],
   "source": [
    "import matplotlib.pyplot as plt\n",
    "\n",
    "fig, ax = plt.subplots(3, 3, sharex=True, figsize=(15, 15))\n",
    "\n",
    "for i in range(9):\n",
    "    prediction.iloc[i].tail(99).plot(ax=ax[i // 3, i % 3],\n",
    "                                     title=str(yq_output_df[-24*30:].index[i]))"
   ]
  },
  {
   "cell_type": "markdown",
   "metadata": {
    "id": "t6Tgzcoi3eJl",
    "pycharm": {
     "name": "#%% md\n"
    }
   },
   "source": [
    "# Evaluate Loss"
   ]
  },
  {
   "cell_type": "markdown",
   "metadata": {
    "id": "4joUtUgF3eJl"
   },
   "source": [
    "The loss function is the pinnball loss:\n",
    "$$ L(q_a, y) = \\begin{cases}\n",
    "    (1-\\frac{a}{100})(q_a - y), &\\text{if } y < q_a \\\\\n",
    "    \\frac{a}{100}(y-q_a), &\\text{if } y \\geq q_a.\n",
    "\\end{cases} $$\n",
    "\n",
    "The score is then averaged over all target quantiles for all time periods over the forecast horizon and for all zones."
   ]
  },
  {
   "cell_type": "code",
   "execution_count": 21,
   "metadata": {
    "id": "0vfjdngB3eJl",
    "pycharm": {
     "name": "#%%\n"
    }
   },
   "outputs": [],
   "source": [
    "def pinnball_loss(actual, prediction):\n",
    "    actual = actual[...,None]\n",
    "\n",
    "    percentiles = np.empty((actual.shape[0], 99))\n",
    "    for i in range(1, 100):\n",
    "        percentiles[:, i-1] = i\n",
    "    loss = np.where(actual < prediction,\n",
    "                    (1 - percentiles / 100) * (prediction - actual),\n",
    "                    percentiles / 100 * (actual - prediction))\n",
    "    return loss"
   ]
  },
  {
   "cell_type": "code",
   "execution_count": 22,
   "metadata": {
    "colab": {
     "base_uri": "https://localhost:8080/"
    },
    "id": "U_tgP1lx3eJm",
    "outputId": "c26b6830-f864-49d4-84e7-c22f24e2e66e",
    "pycharm": {
     "name": "#%%\n"
    },
    "scrolled": true
   },
   "outputs": [
    {
     "name": "stdout",
     "output_type": "stream",
     "text": [
      "Loss of task 15 with NNQF: 0.04539\n"
     ]
    }
   ],
   "source": [
    "test_ts1 = np.squeeze(train_data_zones[0][-gefcom14_metadata['prediction_length']:].values)\n",
    "test_ts2 = np.squeeze(train_data_zones[0][-gefcom14_metadata['prediction_length']:].values)\n",
    "test_ts3 = np.squeeze(train_data_zones[0][-gefcom14_metadata['prediction_length']:].values)\n",
    "\n",
    "prediction1 = prediction[prediction['ZONEID'] == 1].drop(columns='ZONEID')\n",
    "prediction2 = prediction[prediction['ZONEID'] == 2].drop(columns='ZONEID')\n",
    "prediction3 = prediction[prediction['ZONEID'] == 3].drop(columns='ZONEID')\n",
    "\n",
    "loss1 = np.mean(pinnball_loss(test_ts1, prediction1))\n",
    "loss2 = np.mean(pinnball_loss(test_ts2, prediction2))\n",
    "loss3 = np.mean(pinnball_loss(test_ts3, prediction3))\n",
    "\n",
    "loss = (loss1 + loss2 + loss3) / 3\n",
    "\n",
    "print(f\"Loss of task {task} with NNQF: {round(loss, 5)}\")"
   ]
  }
 ],
 "metadata": {
  "colab": {
   "name": "gefcom14-s-nnqf.ipynb",
   "provenance": [],
   "toc_visible": true
  },
  "kernelspec": {
   "display_name": "Python 3",
   "language": "python",
   "name": "python3"
  },
  "language_info": {
   "codemirror_mode": {
    "name": "ipython",
    "version": 3
   },
   "file_extension": ".py",
   "mimetype": "text/x-python",
   "name": "python",
   "nbconvert_exporter": "python",
   "pygments_lexer": "ipython3",
   "version": "3.8.10"
  }
 },
 "nbformat": 4,
 "nbformat_minor": 1
}