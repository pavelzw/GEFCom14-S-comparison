{
 "cells": [
  {
   "cell_type": "code",
   "execution_count": 1,
   "metadata": {
    "collapsed": true
   },
   "outputs": [],
   "source": [
    "import seaborn as sns\n",
    "from scipy.stats import norm"
   ]
  },
  {
   "cell_type": "code",
   "execution_count": 36,
   "outputs": [
    {
     "data": {
      "text/plain": "<Figure size 432x288 with 0 Axes>"
     },
     "metadata": {},
     "output_type": "display_data"
    }
   ],
   "source": [
    "x = norm.rvs(size=10000)\n",
    "\n",
    "for scale, name in zip((0.7, 1, 1.414), ('overdispersed', 'neutrally_dispersed', 'underdispersed')):\n",
    "    plot = sns.histplot(norm.cdf(x, loc=0, scale=scale), bins=10)\n",
    "    plot.set_yticks([])\n",
    "    plot.set_ylabel('')\n",
    "    plot.get_figure().tight_layout()\n",
    "    plot.get_figure().savefig(f'{name}.pdf')\n",
    "    plot.get_figure().clear()\n"
   ],
   "metadata": {
    "collapsed": false,
    "pycharm": {
     "name": "#%%\n"
    }
   }
  }
 ],
 "metadata": {
  "kernelspec": {
   "display_name": "Python 3",
   "language": "python",
   "name": "python3"
  },
  "language_info": {
   "codemirror_mode": {
    "name": "ipython",
    "version": 2
   },
   "file_extension": ".py",
   "mimetype": "text/x-python",
   "name": "python",
   "nbconvert_exporter": "python",
   "pygments_lexer": "ipython2",
   "version": "2.7.6"
  }
 },
 "nbformat": 4,
 "nbformat_minor": 0
}