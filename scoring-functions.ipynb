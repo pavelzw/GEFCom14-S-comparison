{
 "cells": [
  {
   "cell_type": "code",
   "execution_count": 1,
   "metadata": {},
   "outputs": [],
   "source": [
    "import pandas as pd\n",
    "import numpy as np\n",
    "import seaborn as sns"
   ]
  },
  {
   "cell_type": "code",
   "execution_count": 2,
   "metadata": {
    "pycharm": {
     "name": "#%%\n"
    }
   },
   "outputs": [],
   "source": [
    "prediction = pd.read_csv('results/prediction_sqf_rnn_task15.csv').set_index(['TIMESTAMP', 'ZONEID'])\n",
    "\n",
    "actual = pd.read_csv('data/Task 16/train16.csv', parse_dates=['TIMESTAMP']).set_index('TIMESTAMP')['2014-06-01 01:00':]\\\n",
    "    .reset_index().set_index(['TIMESTAMP', 'ZONEID'])"
   ]
  },
  {
   "cell_type": "code",
   "execution_count": 3,
   "metadata": {
    "pycharm": {
     "name": "#%%\n"
    }
   },
   "outputs": [],
   "source": [
    "def sample(quantiles, n):\n",
    "    ps = np.random.choice(a=[str(p / 100) for p in range(1, 100)], size=n, replace=True)\n",
    "    xs = quantiles[ps]\n",
    "    return np.array(xs)[None,...]\n",
    "\n",
    "sampled = sample(prediction.iloc[0], 20)"
   ]
  },
  {
   "cell_type": "code",
   "execution_count": 4,
   "metadata": {
    "pycharm": {
     "name": "#%%\n"
    }
   },
   "outputs": [
    {
     "data": {
      "text/plain": [
       "0.06763465664407439"
      ]
     },
     "execution_count": 4,
     "metadata": {},
     "output_type": "execute_result"
    }
   ],
   "source": [
    "def energy_score(quantiles, y, n=100):\n",
    "    \"\"\"\n",
    "    Calculates the energy score.\n",
    "    :param quantiles: np array (99,)\n",
    "    :param y: (d,)\n",
    "    :param n: number of samples\n",
    "    :return:\n",
    "    \"\"\"\n",
    "    xs = sample(quantiles, n)\n",
    "    s1 = np.mean(np.linalg.norm(xs - y, axis=0))\n",
    "    s2 = - 1 / 2 * np.mean(np.linalg.norm(xs[None, ...] - xs[None, ...].T, axis=1))\n",
    "    return s1 + s2\n",
    "\n",
    "# energy_score for first prediction point\n",
    "energy_score(prediction.iloc[0], np.array(actual.iloc[0]))"
   ]
  },
  {
   "cell_type": "code",
   "execution_count": 5,
   "metadata": {
    "pycharm": {
     "name": "#%%\n"
    }
   },
   "outputs": [
    {
     "data": {
      "text/plain": [
       "<AxesSubplot:ylabel='Count'>"
      ]
     },
     "execution_count": 5,
     "metadata": {},
     "output_type": "execute_result"
    },
    {
     "data": {
      "image/png": "[encoded data removed]",
      "text/plain": [
       "<Figure size 432x288 with 1 Axes>"
      ]
     },
     "metadata": {
      "needs_background": "light"
     },
     "output_type": "display_data"
    }
   ],
   "source": [
    "def cdf(quantiles, x):\n",
    "    s = x <= quantiles\n",
    "    if len(s[s==True]) == 0:\n",
    "        return 0\n",
    "    return float(s[s==True].index[0])\n",
    "\n",
    "quantiles = prediction.iloc[0]\n",
    "\n",
    "n = 1000\n",
    "sampled = sample(quantiles, n)\n",
    "xs = []\n",
    "for i in range(n):\n",
    "    xs.append(cdf(quantiles, np.squeeze(sampled[:,i])))\n",
    "xs = np.array(xs)\n",
    "\n",
    "sns.histplot(data=xs)"
   ]
  }
 ],
 "metadata": {
  "kernelspec": {
   "display_name": "Python 3",
   "language": "python",
   "name": "python3"
  },
  "language_info": {
   "codemirror_mode": {
    "name": "ipython",
    "version": 3
   },
   "file_extension": ".py",
   "mimetype": "text/x-python",
   "name": "python",
   "nbconvert_exporter": "python",
   "pygments_lexer": "ipython3",
   "version": "3.8.10"
  }
 },
 "nbformat": 4,
 "nbformat_minor": 1
}
