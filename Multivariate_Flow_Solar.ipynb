{
 "nbformat": 4,
 "nbformat_minor": 0,
 "metadata": {
  "kernelspec": {
   "display_name": "Python 3",
   "language": "python",
   "name": "python3"
  },
  "language_info": {
   "codemirror_mode": {
    "name": "ipython",
    "version": 3
   },
   "file_extension": ".py",
   "mimetype": "text/x-python",
   "name": "python",
   "nbconvert_exporter": "python",
   "pygments_lexer": "ipython3",
   "version": "3.8.2"
  },
  "colab": {
   "name": "Multivariate-Flow-Solar.ipynb",
   "provenance": []
  },
  "accelerator": "GPU"
 },
 "cells": [
  {
   "cell_type": "code",
   "metadata": {
    "id": "GiOSLryMrO0z"
   },
   "source": [
    "!pip install gluonts\n",
    "!pip install pytorchts"
   ],
   "execution_count": 1,
   "outputs": [
    {
     "name": "stdout",
     "output_type": "stream",
     "text": [
      "Collecting gluonts\n",
      "  Downloading gluonts-0.7.3-py3-none-any.whl (896 kB)\n",
      "Collecting pydantic~=1.1\n",
      "  Downloading pydantic-1.8.2-cp38-cp38-win_amd64.whl (2.0 MB)\n",
      "Requirement already satisfied: tqdm~=4.23 in d:\\github\\gefcom14-s-comparison\\venv\\lib\\site-packages (from gluonts) (4.60.0)\n",
      "Requirement already satisfied: matplotlib~=3.0 in d:\\github\\gefcom14-s-comparison\\venv\\lib\\site-packages (from gluonts) (3.4.2)\n",
      "Collecting holidays>=0.9\n",
      "  Using cached holidays-0.11.1-py3-none-any.whl (133 kB)\n",
      "Requirement already satisfied: pandas~=1.0 in d:\\github\\gefcom14-s-comparison\\venv\\lib\\site-packages (from gluonts) (1.2.4)\n",
      "Requirement already satisfied: numpy~=1.16 in d:\\github\\gefcom14-s-comparison\\venv\\lib\\site-packages (from gluonts) (1.20.2)\n",
      "Collecting toolz~=0.10\n",
      "  Using cached toolz-0.11.1-py3-none-any.whl (55 kB)\n",
      "Collecting convertdate>=2.3.0\n",
      "  Using cached convertdate-2.3.2-py3-none-any.whl (47 kB)\n"
     ]
    },
    {
     "name": "stderr",
     "output_type": "stream",
     "text": [
      "WARNING: You are using pip version 21.1.1; however, version 21.1.2 is available.\n",
      "You should consider upgrading via the 'd:\\github\\gefcom14-s-comparison\\venv\\scripts\\python.exe -m pip install --upgrade pip' command.\n"
     ]
    },
    {
     "name": "stdout",
     "output_type": "stream",
     "text": [
      "Requirement already satisfied: python-dateutil in d:\\github\\gefcom14-s-comparison\\venv\\lib\\site-packages (from holidays>=0.9->gluonts) (2.8.1)\n",
      "Collecting hijri-converter\n",
      "  Using cached hijri_converter-2.1.1-py3-none-any.whl (14 kB)\n",
      "Requirement already satisfied: six in d:\\github\\gefcom14-s-comparison\\venv\\lib\\site-packages (from holidays>=0.9->gluonts) (1.15.0)\n",
      "Collecting korean-lunar-calendar\n",
      "  Using cached korean_lunar_calendar-0.2.1-py3-none-any.whl (8.0 kB)\n",
      "Collecting pymeeus<=1,>=0.3.13\n",
      "  Using cached PyMeeus-0.5.11.tar.gz (5.4 MB)\n",
      "Requirement already satisfied: pytz>=2014.10 in d:\\github\\gefcom14-s-comparison\\venv\\lib\\site-packages (from convertdate>=2.3.0->holidays>=0.9->gluonts) (2021.1)\n",
      "Requirement already satisfied: pyparsing>=2.2.1 in d:\\github\\gefcom14-s-comparison\\venv\\lib\\site-packages (from matplotlib~=3.0->gluonts) (2.4.7)\n",
      "Requirement already satisfied: cycler>=0.10 in d:\\github\\gefcom14-s-comparison\\venv\\lib\\site-packages (from matplotlib~=3.0->gluonts) (0.10.0)\n",
      "Requirement already satisfied: kiwisolver>=1.0.1 in d:\\github\\gefcom14-s-comparison\\venv\\lib\\site-packages (from matplotlib~=3.0->gluonts) (1.3.1)\n",
      "Requirement already satisfied: pillow>=6.2.0 in d:\\github\\gefcom14-s-comparison\\venv\\lib\\site-packages (from matplotlib~=3.0->gluonts) (8.2.0)\n",
      "Collecting typing-extensions>=3.7.4.3\n",
      "  Downloading typing_extensions-3.10.0.0-py3-none-any.whl (26 kB)\n",
      "Using legacy 'setup.py install' for pymeeus, since package 'wheel' is not installed.\n",
      "Installing collected packages: pymeeus, typing-extensions, korean-lunar-calendar, hijri-converter, convertdate, toolz, pydantic, holidays, gluonts\n",
      "    Running setup.py install for pymeeus: started\n",
      "    Running setup.py install for pymeeus: finished with status 'done'\n",
      "Successfully installed convertdate-2.3.2 gluonts-0.7.3 hijri-converter-2.1.1 holidays-0.11.1 korean-lunar-calendar-0.2.1 pydantic-1.8.2 pymeeus-0.5.11 toolz-0.11.1 typing-extensions-3.10.0.0\n",
      "Collecting pytorchts\n",
      "  Downloading pytorchts-0.4.0.tar.gz (87 kB)\n",
      "Collecting torch>=1.8.0\n",
      "  Downloading torch-1.8.1-cp38-cp38-win_amd64.whl (190.5 MB)\n",
      "Requirement already satisfied: gluonts>=0.7.0 in d:\\github\\gefcom14-s-comparison\\venv\\lib\\site-packages (from pytorchts) (0.7.3)\n",
      "Requirement already satisfied: holidays in d:\\github\\gefcom14-s-comparison\\venv\\lib\\site-packages (from pytorchts) (0.11.1)\n",
      "Requirement already satisfied: numpy~=1.16 in d:\\github\\gefcom14-s-comparison\\venv\\lib\\site-packages (from pytorchts) (1.20.2)\n",
      "Requirement already satisfied: pandas~=1.1 in d:\\github\\gefcom14-s-comparison\\venv\\lib\\site-packages (from pytorchts) (1.2.4)\n",
      "Requirement already satisfied: scipy in d:\\github\\gefcom14-s-comparison\\venv\\lib\\site-packages (from pytorchts) (1.6.3)\n",
      "Requirement already satisfied: tqdm in d:\\github\\gefcom14-s-comparison\\venv\\lib\\site-packages (from pytorchts) (4.60.0)\n",
      "Requirement already satisfied: matplotlib in d:\\github\\gefcom14-s-comparison\\venv\\lib\\site-packages (from pytorchts) (3.4.2)\n",
      "Collecting tensorboard\n",
      "  Downloading tensorboard-2.5.0-py3-none-any.whl (6.0 MB)\n",
      "Collecting wandb\n",
      "  Downloading wandb-0.10.30-py2.py3-none-any.whl (1.8 MB)\n",
      "Requirement already satisfied: pydantic~=1.1 in d:\\github\\gefcom14-s-comparison\\venv\\lib\\site-packages (from gluonts>=0.7.0->pytorchts) (1.8.2)\n",
      "Requirement already satisfied: toolz~=0.10 in d:\\github\\gefcom14-s-comparison\\venv\\lib\\site-packages (from gluonts>=0.7.0->pytorchts) (0.11.1)\n",
      "Requirement already satisfied: python-dateutil in d:\\github\\gefcom14-s-comparison\\venv\\lib\\site-packages (from holidays->pytorchts) (2.8.1)\n",
      "Requirement already satisfied: six in d:\\github\\gefcom14-s-comparison\\venv\\lib\\site-packages (from holidays->pytorchts) (1.15.0)\n",
      "Requirement already satisfied: hijri-converter in d:\\github\\gefcom14-s-comparison\\venv\\lib\\site-packages (from holidays->pytorchts) (2.1.1)\n",
      "Requirement already satisfied: korean-lunar-calendar in d:\\github\\gefcom14-s-comparison\\venv\\lib\\site-packages (from holidays->pytorchts) (0.2.1)\n",
      "Requirement already satisfied: convertdate>=2.3.0 in d:\\github\\gefcom14-s-comparison\\venv\\lib\\site-packages (from holidays->pytorchts) (2.3.2)\n",
      "Requirement already satisfied: pytz>=2014.10 in d:\\github\\gefcom14-s-comparison\\venv\\lib\\site-packages (from convertdate>=2.3.0->holidays->pytorchts) (2021.1)\n",
      "Requirement already satisfied: pymeeus<=1,>=0.3.13 in d:\\github\\gefcom14-s-comparison\\venv\\lib\\site-packages (from convertdate>=2.3.0->holidays->pytorchts) (0.5.11)\n",
      "Requirement already satisfied: kiwisolver>=1.0.1 in d:\\github\\gefcom14-s-comparison\\venv\\lib\\site-packages (from matplotlib->pytorchts) (1.3.1)\n",
      "Requirement already satisfied: pyparsing>=2.2.1 in d:\\github\\gefcom14-s-comparison\\venv\\lib\\site-packages (from matplotlib->pytorchts) (2.4.7)\n",
      "Requirement already satisfied: cycler>=0.10 in d:\\github\\gefcom14-s-comparison\\venv\\lib\\site-packages (from matplotlib->pytorchts) (0.10.0)\n",
      "Requirement already satisfied: pillow>=6.2.0 in d:\\github\\gefcom14-s-comparison\\venv\\lib\\site-packages (from matplotlib->pytorchts) (8.2.0)\n",
      "Requirement already satisfied: typing-extensions>=3.7.4.3 in d:\\github\\gefcom14-s-comparison\\venv\\lib\\site-packages (from pydantic~=1.1->gluonts>=0.7.0->pytorchts) (3.10.0.0)\n",
      "Collecting protobuf>=3.6.0\n",
      "  Downloading protobuf-3.17.1-py2.py3-none-any.whl (173 kB)\n",
      "Collecting google-auth-oauthlib<0.5,>=0.4.1\n",
      "  Downloading google_auth_oauthlib-0.4.4-py2.py3-none-any.whl (18 kB)\n",
      "Collecting werkzeug>=0.11.15\n",
      "  Downloading Werkzeug-2.0.1-py3-none-any.whl (288 kB)\n",
      "Collecting absl-py>=0.4\n",
      "  Downloading absl_py-0.12.0-py3-none-any.whl (129 kB)\n",
      "Collecting requests<3,>=2.21.0\n",
      "  Using cached requests-2.25.1-py2.py3-none-any.whl (61 kB)\n",
      "Collecting tensorboard-data-server<0.7.0,>=0.6.0\n",
      "  Downloading tensorboard_data_server-0.6.1-py3-none-any.whl (2.4 kB)\n",
      "Requirement already satisfied: setuptools>=41.0.0 in d:\\github\\gefcom14-s-comparison\\venv\\lib\\site-packages (from tensorboard->pytorchts) (56.0.0)\n",
      "Collecting wheel>=0.26\n",
      "  Using cached wheel-0.36.2-py2.py3-none-any.whl (35 kB)\n",
      "Collecting tensorboard-plugin-wit>=1.6.0\n",
      "  Downloading tensorboard_plugin_wit-1.8.0-py3-none-any.whl (781 kB)\n",
      "Collecting markdown>=2.6.8\n",
      "  Downloading Markdown-3.3.4-py3-none-any.whl (97 kB)\n",
      "Collecting grpcio>=1.24.3\n",
      "  Downloading grpcio-1.38.0-cp38-cp38-win_amd64.whl (3.2 MB)\n",
      "Collecting google-auth<2,>=1.6.3\n",
      "  Downloading google_auth-1.30.1-py2.py3-none-any.whl (146 kB)\n",
      "Collecting pyasn1-modules>=0.2.1\n",
      "  Using cached pyasn1_modules-0.2.8-py2.py3-none-any.whl (155 kB)\n",
      "Collecting rsa<5,>=3.1.4\n",
      "  Downloading rsa-4.7.2-py3-none-any.whl (34 kB)\n",
      "Collecting cachetools<5.0,>=2.0.0\n",
      "  Downloading cachetools-4.2.2-py3-none-any.whl (11 kB)\n",
      "Collecting requests-oauthlib>=0.7.0\n",
      "  Using cached requests_oauthlib-1.3.0-py2.py3-none-any.whl (23 kB)\n",
      "Collecting pyasn1<0.5.0,>=0.4.6\n",
      "  Using cached pyasn1-0.4.8-py2.py3-none-any.whl (77 kB)\n",
      "Collecting chardet<5,>=3.0.2\n",
      "  Using cached chardet-4.0.0-py2.py3-none-any.whl (178 kB)\n",
      "Collecting certifi>=2017.4.17\n",
      "  Using cached certifi-2020.12.5-py2.py3-none-any.whl (147 kB)\n",
      "Collecting idna<3,>=2.5\n",
      "  Using cached idna-2.10-py2.py3-none-any.whl (58 kB)\n",
      "Collecting urllib3<1.27,>=1.21.1\n",
      "  Downloading urllib3-1.26.4-py2.py3-none-any.whl (153 kB)\n",
      "Collecting oauthlib>=3.0.0\n",
      "  Using cached oauthlib-3.1.0-py2.py3-none-any.whl (147 kB)\n",
      "Collecting promise<3,>=2.0\n",
      "  Downloading promise-2.3.tar.gz (19 kB)\n",
      "Collecting psutil>=5.0.0\n",
      "  Downloading psutil-5.8.0-cp38-cp38-win_amd64.whl (245 kB)\n",
      "Collecting shortuuid>=0.5.0\n",
      "  Downloading shortuuid-1.0.1-py3-none-any.whl (7.5 kB)\n",
      "Collecting pathtools\n",
      "  Downloading pathtools-0.1.2.tar.gz (11 kB)\n",
      "Collecting GitPython>=1.0.0\n",
      "  Downloading GitPython-3.1.17-py3-none-any.whl (166 kB)\n",
      "Collecting docker-pycreds>=0.4.0\n",
      "  Downloading docker_pycreds-0.4.0-py2.py3-none-any.whl (9.0 kB)\n",
      "Collecting Click>=7.0\n",
      "  Downloading click-8.0.1-py3-none-any.whl (97 kB)\n",
      "Collecting PyYAML"
     ]
    },
    {
     "name": "stderr",
     "output_type": "stream",
     "text": [
      "WARNING: You are using pip version 21.1.1; however, version 21.1.2 is available.\n",
      "You should consider upgrading via the 'd:\\github\\gefcom14-s-comparison\\venv\\scripts\\python.exe -m pip install --upgrade pip' command.\n"
     ]
    },
    {
     "name": "stdout",
     "output_type": "stream",
     "text": [
      "\n",
      "  Downloading PyYAML-5.4.1-cp38-cp38-win_amd64.whl (213 kB)\n",
      "Collecting subprocess32>=3.5.3\n",
      "  Downloading subprocess32-3.5.4.tar.gz (97 kB)\n",
      "Collecting configparser>=3.8.1\n",
      "  Downloading configparser-5.0.2-py3-none-any.whl (19 kB)\n",
      "Collecting sentry-sdk>=0.4.0\n",
      "  Downloading sentry_sdk-1.1.0-py2.py3-none-any.whl (131 kB)\n",
      "Requirement already satisfied: colorama in d:\\github\\gefcom14-s-comparison\\venv\\lib\\site-packages (from Click>=7.0->wandb->pytorchts) (0.4.4)\n",
      "Collecting gitdb<5,>=4.0.1\n",
      "  Downloading gitdb-4.0.7-py3-none-any.whl (63 kB)\n",
      "Collecting smmap<5,>=3.0.1\n",
      "  Downloading smmap-4.0.0-py2.py3-none-any.whl (24 kB)\n",
      "Using legacy 'setup.py install' for pytorchts, since package 'wheel' is not installed.\n",
      "Using legacy 'setup.py install' for promise, since package 'wheel' is not installed.\n",
      "Using legacy 'setup.py install' for subprocess32, since package 'wheel' is not installed.\n",
      "Using legacy 'setup.py install' for pathtools, since package 'wheel' is not installed.\n",
      "Installing collected packages: urllib3, pyasn1, idna, chardet, certifi, smmap, rsa, requests, pyasn1-modules, oauthlib, cachetools, requests-oauthlib, google-auth, gitdb, wheel, werkzeug, tensorboard-plugin-wit, tensorboard-data-server, subprocess32, shortuuid, sentry-sdk, PyYAML, psutil, protobuf, promise, pathtools, markdown, grpcio, google-auth-oauthlib, GitPython, docker-pycreds, configparser, Click, absl-py, wandb, torch, tensorboard, pytorchts\n",
      "    Running setup.py install for subprocess32: started\n",
      "    Running setup.py install for subprocess32: finished with status 'done'\n",
      "    Running setup.py install for promise: started\n",
      "    Running setup.py install for promise: finished with status 'done'\n",
      "    Running setup.py install for pathtools: started\n",
      "    Running setup.py install for pathtools: finished with status 'done'\n",
      "    Running setup.py install for pytorchts: started\n",
      "    Running setup.py install for pytorchts: finished with status 'done'\n",
      "Successfully installed Click-8.0.1 GitPython-3.1.17 PyYAML-5.4.1 absl-py-0.12.0 cachetools-4.2.2 certifi-2020.12.5 chardet-4.0.0 configparser-5.0.2 docker-pycreds-0.4.0 gitdb-4.0.7 google-auth-1.30.1 google-auth-oauthlib-0.4.4 grpcio-1.38.0 idna-2.10 markdown-3.3.4 oauthlib-3.1.0 pathtools-0.1.2 promise-2.3 protobuf-3.17.1 psutil-5.8.0 pyasn1-0.4.8 pyasn1-modules-0.2.8 pytorchts-0.4.0 requests-2.25.1 requests-oauthlib-1.3.0 rsa-4.7.2 sentry-sdk-1.1.0 shortuuid-1.0.1 smmap-4.0.0 subprocess32-3.5.4 tensorboard-2.5.0 tensorboard-data-server-0.6.1 tensorboard-plugin-wit-1.8.0 torch-1.8.1 urllib3-1.26.4 wandb-0.10.30 werkzeug-2.0.1 wheel-0.36.2\n"
     ]
    }
   ]
  },
  {
   "cell_type": "code",
   "metadata": {
    "id": "l-GBiRJOrAcH"
   },
   "source": [
    "import numpy as np\n",
    "import pandas as pd\n",
    "import gluonts\n",
    "import torch"
   ],
   "execution_count": 2,
   "outputs": []
  },
  {
   "cell_type": "code",
   "metadata": {
    "colab": {
     "base_uri": "https://localhost:8080/"
    },
    "id": "Tga3SFF9rAcK",
    "outputId": "b6d7abee-9ff0-4557-f7d6-b9d1bf363ee4"
   },
   "source": [
    "from gluonts.dataset.multivariate_grouper import MultivariateGrouper\n",
    "from gluonts.dataset.repository.datasets import dataset_recipes, get_dataset\n",
    "from pts.model.tempflow import TempFlowEstimator\n",
    "from pts.model.transformer_tempflow import TransformerTempFlowEstimator\n",
    "from pts import Trainer\n",
    "from gluonts.evaluation.backtest import make_evaluation_predictions\n",
    "from gluonts.evaluation import MultivariateEvaluator"
   ],
   "execution_count": 3,
   "outputs": [
    {
     "output_type": "stream",
     "text": [
      "/usr/local/lib/python3.7/dist-packages/gluonts/json.py:46: UserWarning: Using `json`-module for json-handling. Consider installing one of `orjson`, `ujson` to speed up serialization and deserialization.\n",
      "  \"Using `json`-module for json-handling. \"\n"
     ],
     "name": "stderr"
    }
   ]
  },
  {
   "cell_type": "code",
   "metadata": {
    "colab": {
     "base_uri": "https://localhost:8080/"
    },
    "id": "RHMrXLM1rAcK",
    "outputId": "91fdd169-fd65-48e7-c60e-a091a7346b18"
   },
   "source": [
    "device = torch.device(\"cuda\" if torch.cuda.is_available() else \"cpu\")\n",
    "device"
   ],
   "execution_count": 4,
   "outputs": [
    {
     "output_type": "execute_result",
     "data": {
      "text/plain": [
       "device(type='cuda')"
      ]
     },
     "metadata": {
      "tags": []
     },
     "execution_count": 4
    }
   ]
  },
  {
   "cell_type": "markdown",
   "metadata": {
    "id": "9EPI0-jWrAcL"
   },
   "source": [
    "## Prepeare data set"
   ]
  },
  {
   "cell_type": "code",
   "metadata": {
    "colab": {
     "base_uri": "https://localhost:8080/"
    },
    "id": "30cr4N_DrAcL",
    "outputId": "dd37a7f2-7049-44c5-81fc-97b43f3cfa79"
   },
   "source": [
    "dataset = get_dataset(\"solar_nips\", regenerate=False)"
   ],
   "execution_count": 5,
   "outputs": [
    {
     "output_type": "stream",
     "text": [
      "saving time-series into /root/.mxnet/gluon-ts/datasets/solar_nips/train/data.json\n",
      "saving time-series into /root/.mxnet/gluon-ts/datasets/solar_nips/test/data.json\n"
     ],
     "name": "stdout"
    }
   ]
  },
  {
   "cell_type": "code",
   "metadata": {
    "colab": {
     "base_uri": "https://localhost:8080/"
    },
    "id": "kkMRLtsGrAcL",
    "outputId": "c1bafbc6-88c6-4ea3-c949-6b12a30e5908"
   },
   "source": [
    "dataset.metadata"
   ],
   "execution_count": 6,
   "outputs": [
    {
     "output_type": "execute_result",
     "data": {
      "text/plain": [
       "MetaData(freq='H', target=None, feat_static_cat=[CategoricalFeatureInfo(name='feat_static_cat', cardinality='137')], feat_static_real=[], feat_dynamic_real=[], feat_dynamic_cat=[], prediction_length=24)"
      ]
     },
     "metadata": {
      "tags": []
     },
     "execution_count": 6
    }
   ]
  },
  {
   "cell_type": "code",
   "metadata": {
    "id": "HAEBzcXcrAcM"
   },
   "source": [
    "train_grouper = MultivariateGrouper(max_target_dim=int(dataset.metadata.feat_static_cat[0].cardinality))\n",
    "\n",
    "test_grouper = MultivariateGrouper(num_test_dates=int(len(dataset.test)/len(dataset.train)), \n",
    "                                   max_target_dim=int(dataset.metadata.feat_static_cat[0].cardinality))"
   ],
   "execution_count": 7,
   "outputs": []
  },
  {
   "cell_type": "code",
   "metadata": {
    "colab": {
     "base_uri": "https://localhost:8080/"
    },
    "id": "ROTUcOJIrAcN",
    "outputId": "c90a2d55-849d-46f5-b6f7-9699781e4595"
   },
   "source": [
    "dataset_train = train_grouper(dataset.train)\n",
    "dataset_test = test_grouper(dataset.test)"
   ],
   "execution_count": 8,
   "outputs": [
    {
     "output_type": "stream",
     "text": [
      "/usr/local/lib/python3.7/dist-packages/gluonts/dataset/multivariate_grouper.py:182: VisibleDeprecationWarning: Creating an ndarray from ragged nested sequences (which is a list-or-tuple of lists-or-tuples-or ndarrays with different lengths or shapes) is deprecated. If you meant to do this, you must specify 'dtype=object' when creating the ndarray\n",
      "  return {FieldName.TARGET: np.array([funcs(data) for data in dataset])}\n"
     ],
     "name": "stderr"
    }
   ]
  },
  {
   "cell_type": "markdown",
   "metadata": {
    "id": "iWi3M6iRrAcN"
   },
   "source": [
    "## Evaluator"
   ]
  },
  {
   "cell_type": "code",
   "metadata": {
    "id": "Wc9TlNoPrAcO"
   },
   "source": [
    "evaluator = MultivariateEvaluator(quantiles=(np.arange(20)/20.0)[1:],\n",
    "                                  target_agg_funcs={'sum': np.sum})"
   ],
   "execution_count": 9,
   "outputs": []
  },
  {
   "cell_type": "markdown",
   "metadata": {
    "id": "AfY5c00MrAcO"
   },
   "source": [
    "## `GRU-Real-NVP`"
   ]
  },
  {
   "cell_type": "code",
   "metadata": {
    "id": "QFwf37UprAcO"
   },
   "source": [
    "estimator = TempFlowEstimator(\n",
    "    target_dim=int(dataset.metadata.feat_static_cat[0].cardinality),\n",
    "    prediction_length=dataset.metadata.prediction_length,\n",
    "    cell_type='GRU',\n",
    "    input_size=552,\n",
    "    freq=dataset.metadata.freq,\n",
    "    scaling=True,\n",
    "    dequantize=True,\n",
    "    n_blocks=4,\n",
    "    trainer=Trainer(device=device,\n",
    "                    epochs=45,\n",
    "                    learning_rate=1e-3,\n",
    "                    num_batches_per_epoch=100,\n",
    "                    batch_size=64)\n",
    ")"
   ],
   "execution_count": 10,
   "outputs": []
  },
  {
   "cell_type": "code",
   "metadata": {
    "colab": {
     "base_uri": "https://localhost:8080/"
    },
    "id": "7WE0-evmrAcP",
    "outputId": "791436d2-79e8-4dcd-aa33-19e37fe0daa3"
   },
   "source": [
    "predictor = estimator.train(dataset_train)\n",
    "forecast_it, ts_it = make_evaluation_predictions(dataset=dataset_test,\n",
    "                                             predictor=predictor,\n",
    "                                             num_samples=100)\n",
    "forecasts = list(forecast_it)\n",
    "targets = list(ts_it)\n",
    "\n",
    "agg_metric, _ = evaluator(targets, forecasts, num_series=len(dataset_test))"
   ],
   "execution_count": 11,
   "outputs": [
    {
     "output_type": "stream",
     "text": [
      "99it [00:21,  4.66it/s, avg_epoch_loss=27.7, epoch=0]\n",
      "99it [00:20,  4.74it/s, avg_epoch_loss=-111, epoch=1]\n",
      "99it [00:20,  4.78it/s, avg_epoch_loss=-137, epoch=2]\n",
      "99it [00:20,  4.77it/s, avg_epoch_loss=-143, epoch=3]\n",
      "99it [00:20,  4.82it/s, avg_epoch_loss=-143, epoch=4]\n",
      "99it [00:20,  4.85it/s, avg_epoch_loss=-141, epoch=5]\n",
      "99it [00:20,  4.86it/s, avg_epoch_loss=-137, epoch=6]\n",
      "99it [00:20,  4.81it/s, avg_epoch_loss=-101, epoch=7]\n",
      "99it [00:20,  4.87it/s, avg_epoch_loss=-129, epoch=8]\n",
      "99it [00:20,  4.86it/s, avg_epoch_loss=-131, epoch=9]\n",
      "99it [00:20,  4.78it/s, avg_epoch_loss=-148, epoch=10]\n",
      "99it [00:20,  4.78it/s, avg_epoch_loss=-156, epoch=11]\n",
      "99it [00:20,  4.76it/s, avg_epoch_loss=-163, epoch=12]\n",
      "99it [00:20,  4.80it/s, avg_epoch_loss=-169, epoch=13]\n",
      "99it [00:20,  4.83it/s, avg_epoch_loss=-171, epoch=14]\n",
      "99it [00:20,  4.81it/s, avg_epoch_loss=-176, epoch=15]\n",
      "99it [00:20,  4.81it/s, avg_epoch_loss=-175, epoch=16]\n",
      "99it [00:20,  4.84it/s, avg_epoch_loss=-179, epoch=17]\n",
      "99it [00:20,  4.74it/s, avg_epoch_loss=-182, epoch=18]\n",
      "99it [00:20,  4.80it/s, avg_epoch_loss=-186, epoch=19]\n",
      "99it [00:20,  4.82it/s, avg_epoch_loss=-187, epoch=20]\n",
      "99it [00:20,  4.74it/s, avg_epoch_loss=-190, epoch=21]\n",
      "99it [00:20,  4.77it/s, avg_epoch_loss=-191, epoch=22]\n",
      "99it [00:20,  4.77it/s, avg_epoch_loss=-191, epoch=23]\n",
      "99it [00:21,  4.68it/s, avg_epoch_loss=-195, epoch=24]\n",
      "99it [00:21,  4.71it/s, avg_epoch_loss=-199, epoch=25]\n",
      "99it [00:21,  4.70it/s, avg_epoch_loss=-199, epoch=26]\n",
      "99it [00:21,  4.71it/s, avg_epoch_loss=-200, epoch=27]\n",
      "99it [00:21,  4.69it/s, avg_epoch_loss=-202, epoch=28]\n",
      "99it [00:20,  4.76it/s, avg_epoch_loss=-199, epoch=29]\n",
      "99it [00:21,  4.70it/s, avg_epoch_loss=-202, epoch=30]\n",
      "99it [00:20,  4.75it/s, avg_epoch_loss=-205, epoch=31]\n",
      "99it [00:20,  4.73it/s, avg_epoch_loss=-206, epoch=32]\n",
      "99it [00:20,  4.80it/s, avg_epoch_loss=-208, epoch=33]\n",
      "99it [00:20,  4.77it/s, avg_epoch_loss=-210, epoch=34]\n",
      "99it [00:20,  4.78it/s, avg_epoch_loss=-209, epoch=35]\n",
      "99it [00:20,  4.76it/s, avg_epoch_loss=-211, epoch=36]\n",
      "99it [00:21,  4.71it/s, avg_epoch_loss=-213, epoch=37]\n",
      "99it [00:20,  4.73it/s, avg_epoch_loss=-214, epoch=38]\n",
      "99it [00:20,  4.75it/s, avg_epoch_loss=-214, epoch=39]\n",
      "99it [00:20,  4.73it/s, avg_epoch_loss=-215, epoch=40]\n",
      "99it [00:20,  4.83it/s, avg_epoch_loss=-214, epoch=41]\n",
      "99it [00:20,  4.75it/s, avg_epoch_loss=-213, epoch=42]\n",
      "99it [00:20,  4.73it/s, avg_epoch_loss=-216, epoch=43]\n",
      "99it [00:20,  4.75it/s, avg_epoch_loss=-216, epoch=44]\n",
      "Running evaluation: 7it [00:00, 49.90it/s]\n",
      "Running evaluation: 7it [00:00, 49.69it/s]\n",
      "Running evaluation: 7it [00:00, 52.08it/s]\n",
      "Running evaluation: 7it [00:00, 47.78it/s]\n",
      "Running evaluation: 7it [00:00, 50.08it/s]\n",
      "Running evaluation: 7it [00:00, 42.87it/s]\n",
      "Running evaluation: 7it [00:00, 55.45it/s]\n",
      "Running evaluation: 7it [00:00, 46.80it/s]\n",
      "Running evaluation: 7it [00:00, 51.65it/s]\n",
      "Running evaluation: 7it [00:00, 43.32it/s]\n",
      "Running evaluation: 7it [00:00, 59.66it/s]\n",
      "Running evaluation: 7it [00:00, 42.90it/s]\n",
      "Running evaluation: 7it [00:00, 51.88it/s]\n",
      "Running evaluation: 7it [00:00, 53.55it/s]\n",
      "Running evaluation: 7it [00:00, 51.68it/s]\n",
      "Running evaluation: 7it [00:00, 44.25it/s]\n",
      "Running evaluation: 7it [00:00, 54.23it/s]\n",
      "Running evaluation: 7it [00:00, 43.84it/s]\n",
      "Running evaluation: 7it [00:00, 54.36it/s]\n",
      "Running evaluation: 7it [00:00, 49.31it/s]\n",
      "Running evaluation: 7it [00:00, 53.62it/s]\n",
      "Running evaluation: 7it [00:00, 49.54it/s]\n",
      "Running evaluation: 7it [00:00, 50.98it/s]\n",
      "Running evaluation: 7it [00:00, 47.44it/s]\n",
      "Running evaluation: 7it [00:00, 53.32it/s]\n",
      "Running evaluation: 7it [00:00, 50.20it/s]\n",
      "Running evaluation: 7it [00:00, 53.06it/s]\n",
      "Running evaluation: 7it [00:00, 54.58it/s]\n",
      "Running evaluation: 7it [00:00, 54.86it/s]\n",
      "Running evaluation: 7it [00:00, 48.99it/s]\n",
      "Running evaluation: 7it [00:00, 49.94it/s]\n",
      "Running evaluation: 7it [00:00, 51.12it/s]\n",
      "Running evaluation: 7it [00:00, 53.15it/s]\n",
      "Running evaluation: 7it [00:00, 45.70it/s]\n",
      "Running evaluation: 7it [00:00, 55.95it/s]\n",
      "Running evaluation: 7it [00:00, 53.41it/s]\n",
      "Running evaluation: 7it [00:00, 51.62it/s]\n",
      "Running evaluation: 7it [00:00, 55.43it/s]\n",
      "Running evaluation: 7it [00:00, 51.29it/s]\n",
      "Running evaluation: 7it [00:00, 56.32it/s]\n",
      "Running evaluation: 7it [00:00, 51.53it/s]\n",
      "Running evaluation: 7it [00:00, 55.25it/s]\n",
      "Running evaluation: 7it [00:00, 51.69it/s]\n",
      "Running evaluation: 7it [00:00, 47.47it/s]\n",
      "Running evaluation: 7it [00:00, 55.87it/s]\n",
      "Running evaluation: 7it [00:00, 52.81it/s]\n",
      "Running evaluation: 7it [00:00, 53.21it/s]\n",
      "Running evaluation: 7it [00:00, 51.10it/s]\n",
      "Running evaluation: 7it [00:00, 49.53it/s]\n",
      "Running evaluation: 7it [00:00, 44.30it/s]\n",
      "Running evaluation: 7it [00:00, 55.33it/s]\n",
      "Running evaluation: 7it [00:00, 50.32it/s]\n",
      "Running evaluation: 7it [00:00, 56.12it/s]\n",
      "Running evaluation: 7it [00:00, 52.11it/s]\n",
      "Running evaluation: 7it [00:00, 53.35it/s]\n",
      "Running evaluation: 7it [00:00, 47.49it/s]\n",
      "Running evaluation: 7it [00:00, 50.61it/s]\n",
      "Running evaluation: 7it [00:00, 55.74it/s]\n",
      "Running evaluation: 7it [00:00, 52.11it/s]\n",
      "Running evaluation: 7it [00:00, 44.03it/s]\n",
      "Running evaluation: 7it [00:00, 50.47it/s]\n",
      "Running evaluation: 7it [00:00, 48.61it/s]\n",
      "Running evaluation: 7it [00:00, 46.86it/s]\n",
      "Running evaluation: 7it [00:00, 54.14it/s]\n",
      "Running evaluation: 7it [00:00, 52.62it/s]\n",
      "Running evaluation: 7it [00:00, 52.90it/s]\n",
      "Running evaluation: 7it [00:00, 53.58it/s]\n",
      "Running evaluation: 7it [00:00, 52.37it/s]\n",
      "Running evaluation: 7it [00:00, 45.23it/s]\n",
      "Running evaluation: 7it [00:00, 55.22it/s]\n",
      "Running evaluation: 7it [00:00, 44.86it/s]\n",
      "Running evaluation: 7it [00:00, 52.36it/s]\n",
      "Running evaluation: 7it [00:00, 46.33it/s]\n",
      "Running evaluation: 7it [00:00, 48.62it/s]\n",
      "Running evaluation: 7it [00:00, 46.42it/s]\n",
      "Running evaluation: 7it [00:00, 51.23it/s]\n",
      "Running evaluation: 7it [00:00, 46.14it/s]\n",
      "Running evaluation: 7it [00:00, 53.45it/s]\n",
      "Running evaluation: 7it [00:00, 43.97it/s]\n",
      "Running evaluation: 7it [00:00, 44.90it/s]\n",
      "Running evaluation: 7it [00:00, 47.67it/s]\n",
      "Running evaluation: 7it [00:00, 49.13it/s]\n",
      "Running evaluation: 7it [00:00, 49.74it/s]\n",
      "Running evaluation: 7it [00:00, 51.90it/s]\n",
      "Running evaluation: 7it [00:00, 43.44it/s]\n",
      "Running evaluation: 7it [00:00, 46.49it/s]\n",
      "Running evaluation: 7it [00:00, 50.97it/s]\n",
      "Running evaluation: 7it [00:00, 52.74it/s]\n",
      "Running evaluation: 7it [00:00, 52.65it/s]\n",
      "Running evaluation: 7it [00:00, 49.26it/s]\n",
      "Running evaluation: 7it [00:00, 43.01it/s]\n",
      "Running evaluation: 7it [00:00, 46.82it/s]\n",
      "Running evaluation: 7it [00:00, 47.44it/s]\n",
      "Running evaluation: 7it [00:00, 50.98it/s]\n",
      "Running evaluation: 7it [00:00, 47.21it/s]\n",
      "Running evaluation: 7it [00:00, 49.80it/s]\n",
      "Running evaluation: 7it [00:00, 41.20it/s]\n",
      "Running evaluation: 7it [00:00, 42.31it/s]\n",
      "Running evaluation: 7it [00:00, 48.16it/s]\n",
      "Running evaluation: 7it [00:00, 53.75it/s]\n",
      "Running evaluation: 7it [00:00, 47.87it/s]\n",
      "Running evaluation: 7it [00:00, 51.21it/s]\n",
      "Running evaluation: 7it [00:00, 41.45it/s]\n",
      "Running evaluation: 7it [00:00, 50.65it/s]\n",
      "Running evaluation: 7it [00:00, 50.84it/s]\n",
      "Running evaluation: 7it [00:00, 49.20it/s]\n",
      "Running evaluation: 7it [00:00, 45.90it/s]\n",
      "Running evaluation: 7it [00:00, 55.75it/s]\n",
      "Running evaluation: 7it [00:00, 53.74it/s]\n",
      "Running evaluation: 7it [00:00, 45.79it/s]\n",
      "Running evaluation: 7it [00:00, 45.70it/s]\n",
      "Running evaluation: 7it [00:00, 46.63it/s]\n",
      "Running evaluation: 7it [00:00, 42.63it/s]\n",
      "Running evaluation: 7it [00:00, 54.30it/s]\n",
      "Running evaluation: 7it [00:00, 48.99it/s]\n",
      "Running evaluation: 7it [00:00, 49.08it/s]\n",
      "Running evaluation: 7it [00:00, 48.66it/s]\n",
      "Running evaluation: 7it [00:00, 48.09it/s]\n",
      "Running evaluation: 7it [00:00, 47.80it/s]\n",
      "Running evaluation: 7it [00:00, 53.80it/s]\n",
      "Running evaluation: 7it [00:00, 51.42it/s]\n",
      "Running evaluation: 7it [00:00, 49.49it/s]\n",
      "Running evaluation: 7it [00:00, 49.28it/s]\n",
      "Running evaluation: 7it [00:00, 42.18it/s]\n",
      "Running evaluation: 7it [00:00, 49.42it/s]\n",
      "Running evaluation: 7it [00:00, 51.04it/s]\n",
      "Running evaluation: 7it [00:00, 43.10it/s]\n",
      "Running evaluation: 7it [00:00, 50.10it/s]\n",
      "Running evaluation: 7it [00:00, 49.65it/s]\n",
      "Running evaluation: 7it [00:00, 51.23it/s]\n",
      "Running evaluation: 7it [00:00, 44.58it/s]\n",
      "Running evaluation: 7it [00:00, 53.01it/s]\n",
      "Running evaluation: 7it [00:00, 48.04it/s]\n",
      "Running evaluation: 7it [00:00, 49.93it/s]\n",
      "Running evaluation: 7it [00:00, 48.46it/s]\n",
      "Running evaluation: 7it [00:00, 54.60it/s]\n",
      "Running evaluation: 7it [00:00, 47.49it/s]\n",
      "Running evaluation: 7it [00:00, 24.90it/s]\n"
     ],
     "name": "stderr"
    }
   ]
  },
  {
   "cell_type": "markdown",
   "metadata": {
    "id": "sctM2rhgrAcP"
   },
   "source": [
    "### Metrics"
   ]
  },
  {
   "cell_type": "code",
   "metadata": {
    "colab": {
     "base_uri": "https://localhost:8080/"
    },
    "id": "V1XeqeVurAcP",
    "outputId": "f84bde72-6a4a-4132-b94a-f08d81ec7b58"
   },
   "source": [
    "print(\"CRPS: {}\".format(agg_metric['mean_wQuantileLoss']))\n",
    "print(\"ND: {}\".format(agg_metric['ND']))\n",
    "print(\"NRMSE: {}\".format(agg_metric['NRMSE']))\n",
    "print(\"MSE: {}\".format(agg_metric['MSE']))"
   ],
   "execution_count": 12,
   "outputs": [
    {
     "output_type": "stream",
     "text": [
      "CRPS: 0.4354353082379938\n",
      "ND: 0.5441695457837461\n",
      "NRMSE: 1.0811582813390421\n",
      "MSE: 1108.8079876990867\n"
     ],
     "name": "stdout"
    }
   ]
  },
  {
   "cell_type": "code",
   "metadata": {
    "colab": {
     "base_uri": "https://localhost:8080/"
    },
    "id": "knQK0207rAcQ",
    "outputId": "43e3f164-b527-46e7-ed77-a8bd7d8aff18"
   },
   "source": [
    "print(\"CRPS-Sum: {}\".format(agg_metric['m_sum_mean_wQuantileLoss']))\n",
    "print(\"ND-Sum: {}\".format(agg_metric['m_sum_ND']))\n",
    "print(\"NRMSE-Sum: {}\".format(agg_metric['m_sum_NRMSE']))\n",
    "print(\"MSE-Sum: {}\".format(agg_metric['m_sum_MSE']))"
   ],
   "execution_count": 13,
   "outputs": [
    {
     "output_type": "stream",
     "text": [
      "CRPS-Sum: 0.388968382038156\n",
      "ND-Sum: 0.47992752266206956\n",
      "NRMSE-Sum: 0.8563455028685072\n",
      "MSE-Sum: 13056205.761904761\n"
     ],
     "name": "stdout"
    }
   ]
  },
  {
   "cell_type": "markdown",
   "metadata": {
    "id": "QR7-2pYtrAcQ"
   },
   "source": [
    "## `GRU-MAF`"
   ]
  },
  {
   "cell_type": "code",
   "metadata": {
    "id": "fBlbsvanrAcQ"
   },
   "source": [
    "estimator = TempFlowEstimator(\n",
    "    target_dim=int(dataset.metadata.feat_static_cat[0].cardinality),\n",
    "    prediction_length=dataset.metadata.prediction_length,\n",
    "    cell_type='GRU',\n",
    "    input_size=552,\n",
    "    freq=dataset.metadata.freq,\n",
    "    scaling=True,\n",
    "    dequantize=True,\n",
    "    flow_type='MAF',\n",
    "    trainer=Trainer(device=device,\n",
    "                    epochs=25,\n",
    "                    learning_rate=1e-3,\n",
    "                    num_batches_per_epoch=100,\n",
    "                    batch_size=64)\n",
    ")"
   ],
   "execution_count": 14,
   "outputs": []
  },
  {
   "cell_type": "code",
   "metadata": {
    "colab": {
     "base_uri": "https://localhost:8080/"
    },
    "id": "02yCCTPRrAcQ",
    "outputId": "6ed329fd-49a8-4bc3-8778-92bfa4e832ae"
   },
   "source": [
    "predictor = estimator.train(dataset_train)\n",
    "forecast_it, ts_it = make_evaluation_predictions(dataset=dataset_test,\n",
    "                                             predictor=predictor,\n",
    "                                             num_samples=100)\n",
    "forecasts = list(forecast_it)\n",
    "targets = list(ts_it)\n",
    "\n",
    "agg_metric, _ = evaluator(targets, forecasts, num_series=len(dataset_test))"
   ],
   "execution_count": 15,
   "outputs": [
    {
     "output_type": "stream",
     "text": [
      "99it [00:18,  5.38it/s, avg_epoch_loss=101, epoch=0]\n",
      "99it [00:18,  5.44it/s, avg_epoch_loss=-116, epoch=1]\n",
      "99it [00:18,  5.36it/s, avg_epoch_loss=-171, epoch=2]\n",
      "99it [00:18,  5.41it/s, avg_epoch_loss=-189, epoch=3]\n",
      "99it [00:18,  5.39it/s, avg_epoch_loss=-200, epoch=4]\n",
      "99it [00:18,  5.40it/s, avg_epoch_loss=-204, epoch=5]\n",
      "99it [00:18,  5.41it/s, avg_epoch_loss=-208, epoch=6]\n",
      "99it [00:18,  5.40it/s, avg_epoch_loss=-212, epoch=7]\n",
      "99it [00:18,  5.42it/s, avg_epoch_loss=-217, epoch=8]\n",
      "99it [00:18,  5.44it/s, avg_epoch_loss=-217, epoch=9]\n",
      "99it [00:18,  5.41it/s, avg_epoch_loss=-220, epoch=10]\n",
      "99it [00:18,  5.39it/s, avg_epoch_loss=-221, epoch=11]\n",
      "99it [00:18,  5.43it/s, avg_epoch_loss=-223, epoch=12]\n",
      "99it [00:18,  5.47it/s, avg_epoch_loss=-224, epoch=13]\n",
      "99it [00:18,  5.37it/s, avg_epoch_loss=-225, epoch=14]\n",
      "99it [00:18,  5.34it/s, avg_epoch_loss=-227, epoch=15]\n",
      "99it [00:18,  5.33it/s, avg_epoch_loss=-227, epoch=16]\n",
      "99it [00:18,  5.38it/s, avg_epoch_loss=-227, epoch=17]\n",
      "99it [00:18,  5.39it/s, avg_epoch_loss=-229, epoch=18]\n",
      "99it [00:18,  5.39it/s, avg_epoch_loss=-228, epoch=19]\n",
      "99it [00:18,  5.41it/s, avg_epoch_loss=-231, epoch=20]\n",
      "99it [00:18,  5.43it/s, avg_epoch_loss=-231, epoch=21]\n",
      "99it [00:18,  5.42it/s, avg_epoch_loss=-230, epoch=22]\n",
      "99it [00:18,  5.43it/s, avg_epoch_loss=-230, epoch=23]\n",
      "99it [00:18,  5.47it/s, avg_epoch_loss=-231, epoch=24]\n",
      "Running evaluation: 7it [00:00, 47.87it/s]\n",
      "Running evaluation: 7it [00:00, 54.27it/s]\n",
      "Running evaluation: 7it [00:00, 54.93it/s]\n",
      "Running evaluation: 7it [00:00, 47.94it/s]\n",
      "Running evaluation: 7it [00:00, 50.88it/s]\n",
      "Running evaluation: 7it [00:00, 48.21it/s]\n",
      "Running evaluation: 7it [00:00, 57.86it/s]\n",
      "Running evaluation: 7it [00:00, 47.65it/s]\n",
      "Running evaluation: 7it [00:00, 53.12it/s]\n",
      "Running evaluation: 7it [00:00, 50.06it/s]\n",
      "Running evaluation: 7it [00:00, 54.27it/s]\n",
      "Running evaluation: 7it [00:00, 45.21it/s]\n",
      "Running evaluation: 7it [00:00, 54.21it/s]\n",
      "Running evaluation: 7it [00:00, 47.86it/s]\n",
      "Running evaluation: 7it [00:00, 56.03it/s]\n",
      "Running evaluation: 7it [00:00, 47.84it/s]\n",
      "Running evaluation: 7it [00:00, 53.52it/s]\n",
      "Running evaluation: 7it [00:00, 42.86it/s]\n",
      "Running evaluation: 7it [00:00, 54.60it/s]\n",
      "Running evaluation: 7it [00:00, 40.96it/s]\n",
      "Running evaluation: 7it [00:00, 56.66it/s]\n",
      "Running evaluation: 7it [00:00, 50.34it/s]\n",
      "Running evaluation: 7it [00:00, 54.95it/s]\n",
      "Running evaluation: 7it [00:00, 49.53it/s]\n",
      "Running evaluation: 7it [00:00, 52.26it/s]\n",
      "Running evaluation: 7it [00:00, 43.77it/s]\n",
      "Running evaluation: 7it [00:00, 53.91it/s]\n",
      "Running evaluation: 7it [00:00, 47.76it/s]\n",
      "Running evaluation: 7it [00:00, 53.29it/s]\n",
      "Running evaluation: 7it [00:00, 48.45it/s]\n",
      "Running evaluation: 7it [00:00, 50.49it/s]\n",
      "Running evaluation: 7it [00:00, 44.34it/s]\n",
      "Running evaluation: 7it [00:00, 48.03it/s]\n",
      "Running evaluation: 7it [00:00, 46.26it/s]\n",
      "Running evaluation: 7it [00:00, 57.31it/s]\n",
      "Running evaluation: 7it [00:00, 49.90it/s]\n",
      "Running evaluation: 7it [00:00, 46.08it/s]\n",
      "Running evaluation: 7it [00:00, 46.47it/s]\n",
      "Running evaluation: 7it [00:00, 46.96it/s]\n",
      "Running evaluation: 7it [00:00, 50.77it/s]\n",
      "Running evaluation: 7it [00:00, 50.97it/s]\n",
      "Running evaluation: 7it [00:00, 49.29it/s]\n",
      "Running evaluation: 7it [00:00, 44.51it/s]\n",
      "Running evaluation: 7it [00:00, 47.51it/s]\n",
      "Running evaluation: 7it [00:00, 43.70it/s]\n",
      "Running evaluation: 7it [00:00, 54.62it/s]\n",
      "Running evaluation: 7it [00:00, 51.43it/s]\n",
      "Running evaluation: 7it [00:00, 49.55it/s]\n",
      "Running evaluation: 7it [00:00, 44.04it/s]\n",
      "Running evaluation: 7it [00:00, 49.11it/s]\n",
      "Running evaluation: 7it [00:00, 48.44it/s]\n",
      "Running evaluation: 7it [00:00, 55.89it/s]\n",
      "Running evaluation: 7it [00:00, 44.13it/s]\n",
      "Running evaluation: 7it [00:00, 53.25it/s]\n",
      "Running evaluation: 7it [00:00, 57.27it/s]\n",
      "Running evaluation: 7it [00:00, 51.60it/s]\n",
      "Running evaluation: 7it [00:00, 51.70it/s]\n",
      "Running evaluation: 7it [00:00, 54.65it/s]\n",
      "Running evaluation: 7it [00:00, 46.98it/s]\n",
      "Running evaluation: 7it [00:00, 53.62it/s]\n",
      "Running evaluation: 7it [00:00, 46.82it/s]\n",
      "Running evaluation: 7it [00:00, 52.71it/s]\n",
      "Running evaluation: 7it [00:00, 53.12it/s]\n",
      "Running evaluation: 7it [00:00, 50.25it/s]\n",
      "Running evaluation: 7it [00:00, 52.70it/s]\n",
      "Running evaluation: 7it [00:00, 52.26it/s]\n",
      "Running evaluation: 7it [00:00, 51.32it/s]\n",
      "Running evaluation: 7it [00:00, 53.38it/s]\n",
      "Running evaluation: 7it [00:00, 45.90it/s]\n",
      "Running evaluation: 7it [00:00, 55.48it/s]\n",
      "Running evaluation: 7it [00:00, 58.75it/s]\n",
      "Running evaluation: 7it [00:00, 52.94it/s]\n",
      "Running evaluation: 7it [00:00, 51.85it/s]\n",
      "Running evaluation: 7it [00:00, 54.06it/s]\n",
      "Running evaluation: 7it [00:00, 51.20it/s]\n",
      "Running evaluation: 7it [00:00, 54.46it/s]\n",
      "Running evaluation: 7it [00:00, 58.49it/s]\n",
      "Running evaluation: 7it [00:00, 46.17it/s]\n",
      "Running evaluation: 7it [00:00, 54.19it/s]\n",
      "Running evaluation: 7it [00:00, 43.11it/s]\n",
      "Running evaluation: 7it [00:00, 54.85it/s]\n",
      "Running evaluation: 7it [00:00, 49.18it/s]\n",
      "Running evaluation: 7it [00:00, 53.98it/s]\n",
      "Running evaluation: 7it [00:00, 55.38it/s]\n",
      "Running evaluation: 7it [00:00, 50.74it/s]\n",
      "Running evaluation: 7it [00:00, 41.47it/s]\n",
      "Running evaluation: 7it [00:00, 48.08it/s]\n",
      "Running evaluation: 7it [00:00, 45.11it/s]\n",
      "Running evaluation: 7it [00:00, 53.88it/s]\n",
      "Running evaluation: 7it [00:00, 48.06it/s]\n",
      "Running evaluation: 7it [00:00, 54.43it/s]\n",
      "Running evaluation: 7it [00:00, 44.53it/s]\n",
      "Running evaluation: 7it [00:00, 51.66it/s]\n",
      "Running evaluation: 7it [00:00, 42.73it/s]\n",
      "Running evaluation: 7it [00:00, 54.06it/s]\n",
      "Running evaluation: 7it [00:00, 48.29it/s]\n",
      "Running evaluation: 7it [00:00, 48.41it/s]\n",
      "Running evaluation: 7it [00:00, 41.52it/s]\n",
      "Running evaluation: 7it [00:00, 52.10it/s]\n",
      "Running evaluation: 7it [00:00, 43.35it/s]\n",
      "Running evaluation: 7it [00:00, 53.62it/s]\n",
      "Running evaluation: 7it [00:00, 53.09it/s]\n",
      "Running evaluation: 7it [00:00, 53.47it/s]\n",
      "Running evaluation: 7it [00:00, 40.19it/s]\n",
      "Running evaluation: 7it [00:00, 56.89it/s]\n",
      "Running evaluation: 7it [00:00, 46.32it/s]\n",
      "Running evaluation: 7it [00:00, 58.28it/s]\n",
      "Running evaluation: 7it [00:00, 49.02it/s]\n",
      "Running evaluation: 7it [00:00, 50.52it/s]\n",
      "Running evaluation: 7it [00:00, 41.37it/s]\n",
      "Running evaluation: 7it [00:00, 52.11it/s]\n",
      "Running evaluation: 7it [00:00, 48.84it/s]\n",
      "Running evaluation: 7it [00:00, 49.49it/s]\n",
      "Running evaluation: 7it [00:00, 48.46it/s]\n",
      "Running evaluation: 7it [00:00, 50.68it/s]\n",
      "Running evaluation: 7it [00:00, 44.35it/s]\n",
      "Running evaluation: 7it [00:00, 51.63it/s]\n",
      "Running evaluation: 7it [00:00, 48.41it/s]\n",
      "Running evaluation: 7it [00:00, 49.12it/s]\n",
      "Running evaluation: 7it [00:00, 55.34it/s]\n",
      "Running evaluation: 7it [00:00, 50.06it/s]\n",
      "Running evaluation: 7it [00:00, 42.86it/s]\n",
      "Running evaluation: 7it [00:00, 51.89it/s]\n",
      "Running evaluation: 7it [00:00, 42.96it/s]\n",
      "Running evaluation: 7it [00:00, 53.47it/s]\n",
      "Running evaluation: 7it [00:00, 48.47it/s]\n",
      "Running evaluation: 7it [00:00, 49.06it/s]\n",
      "Running evaluation: 7it [00:00, 40.14it/s]\n",
      "Running evaluation: 7it [00:00, 51.08it/s]\n",
      "Running evaluation: 7it [00:00, 48.70it/s]\n",
      "Running evaluation: 7it [00:00, 48.86it/s]\n",
      "Running evaluation: 7it [00:00, 49.21it/s]\n",
      "Running evaluation: 7it [00:00, 51.35it/s]\n",
      "Running evaluation: 7it [00:00, 47.42it/s]\n",
      "Running evaluation: 7it [00:00, 50.02it/s]\n",
      "Running evaluation: 7it [00:00, 45.28it/s]\n",
      "Running evaluation: 7it [00:00, 59.23it/s]\n",
      "Running evaluation: 7it [00:00, 25.04it/s]\n"
     ],
     "name": "stderr"
    }
   ]
  },
  {
   "cell_type": "markdown",
   "metadata": {
    "id": "lxvKgYH2rAcR"
   },
   "source": [
    "### Metrics"
   ]
  },
  {
   "cell_type": "code",
   "metadata": {
    "colab": {
     "base_uri": "https://localhost:8080/"
    },
    "id": "m4UjAI2VrAcR",
    "outputId": "26b41d0b-f93f-4597-ca78-a9ff174f1751"
   },
   "source": [
    "print(\"CRPS: {}\".format(agg_metric['mean_wQuantileLoss']))\n",
    "print(\"ND: {}\".format(agg_metric['ND']))\n",
    "print(\"NRMSE: {}\".format(agg_metric['NRMSE']))\n",
    "print(\"MSE: {}\".format(agg_metric['MSE']))"
   ],
   "execution_count": 16,
   "outputs": [
    {
     "output_type": "stream",
     "text": [
      "CRPS: 0.4539193228769728\n",
      "ND: 0.5683486104008995\n",
      "NRMSE: 1.1302776657048887\n",
      "MSE: 1211.8478019682525\n"
     ],
     "name": "stdout"
    }
   ]
  },
  {
   "cell_type": "code",
   "metadata": {
    "colab": {
     "base_uri": "https://localhost:8080/"
    },
    "id": "Jf6cFgg2rAcR",
    "outputId": "ef4c70b0-333e-437e-e1f4-b777bf35ccbe"
   },
   "source": [
    "print(\"CRPS-Sum: {}\".format(agg_metric['m_sum_mean_wQuantileLoss']))\n",
    "print(\"ND-Sum: {}\".format(agg_metric['m_sum_ND']))\n",
    "print(\"NRMSE-Sum: {}\".format(agg_metric['m_sum_NRMSE']))\n",
    "print(\"MSE-Sum: {}\".format(agg_metric['m_sum_MSE']))"
   ],
   "execution_count": 17,
   "outputs": [
    {
     "output_type": "stream",
     "text": [
      "CRPS-Sum: 0.4286909997228526\n",
      "ND-Sum: 0.5315364158233865\n",
      "NRMSE-Sum: 0.9158534199597169\n",
      "MSE-Sum: 14933819.095238095\n"
     ],
     "name": "stdout"
    }
   ]
  },
  {
   "cell_type": "markdown",
   "metadata": {
    "id": "NZoLAfSvrAcS"
   },
   "source": [
    "## `Transformer-MAF`"
   ]
  },
  {
   "cell_type": "code",
   "metadata": {
    "id": "cDsFff2YrAcS"
   },
   "source": [
    "estimator = TransformerTempFlowEstimator(\n",
    "    d_model=16,\n",
    "    num_heads=4,\n",
    "    input_size=552,\n",
    "    target_dim=int(dataset.metadata.feat_static_cat[0].cardinality),\n",
    "    prediction_length=dataset.metadata.prediction_length,\n",
    "    context_length=dataset.metadata.prediction_length*4,\n",
    "    flow_type='MAF',\n",
    "    dequantize=True,\n",
    "    freq=dataset.metadata.freq,\n",
    "    trainer=Trainer(\n",
    "        device=device,\n",
    "        epochs=14,\n",
    "        learning_rate=1e-3,\n",
    "        num_batches_per_epoch=100,\n",
    "        batch_size=64,\n",
    "    )\n",
    ")"
   ],
   "execution_count": 18,
   "outputs": []
  },
  {
   "cell_type": "code",
   "metadata": {
    "colab": {
     "base_uri": "https://localhost:8080/"
    },
    "id": "sxQLipp-rAcS",
    "outputId": "889e939c-a2b7-4b02-9afe-8149b150bcf0"
   },
   "source": [
    "predictor = estimator.train(dataset_train)\n",
    "forecast_it, ts_it = make_evaluation_predictions(dataset=dataset_test,\n",
    "                                             predictor=predictor,\n",
    "                                             num_samples=100)\n",
    "forecasts = list(forecast_it)\n",
    "targets = list(ts_it)\n",
    "\n",
    "agg_metric, _ = evaluator(targets, forecasts, num_series=len(dataset_test))"
   ],
   "execution_count": 19,
   "outputs": [
    {
     "output_type": "stream",
     "text": [
      "99it [00:22,  4.42it/s, avg_epoch_loss=45.1, epoch=0]\n",
      "99it [00:22,  4.44it/s, avg_epoch_loss=-160, epoch=1]\n",
      "99it [00:22,  4.38it/s, avg_epoch_loss=-191, epoch=2]\n",
      "99it [00:22,  4.45it/s, avg_epoch_loss=-207, epoch=3]\n",
      "99it [00:22,  4.42it/s, avg_epoch_loss=-217, epoch=4]\n",
      "99it [00:22,  4.46it/s, avg_epoch_loss=-221, epoch=5]\n",
      "99it [00:22,  4.44it/s, avg_epoch_loss=-226, epoch=6]\n",
      "99it [00:22,  4.42it/s, avg_epoch_loss=-228, epoch=7]\n",
      "99it [00:22,  4.45it/s, avg_epoch_loss=-231, epoch=8]\n",
      "99it [00:22,  4.45it/s, avg_epoch_loss=-233, epoch=9]\n",
      "99it [00:22,  4.42it/s, avg_epoch_loss=-234, epoch=10]\n",
      "99it [00:22,  4.43it/s, avg_epoch_loss=-235, epoch=11]\n",
      "99it [00:22,  4.44it/s, avg_epoch_loss=-236, epoch=12]\n",
      "99it [00:22,  4.40it/s, avg_epoch_loss=-237, epoch=13]\n",
      "Running evaluation: 7it [00:00, 51.17it/s]\n",
      "Running evaluation: 7it [00:00, 48.80it/s]\n",
      "Running evaluation: 7it [00:00, 44.03it/s]\n",
      "Running evaluation: 7it [00:00, 46.71it/s]\n",
      "Running evaluation: 7it [00:00, 48.42it/s]\n",
      "Running evaluation: 7it [00:00, 51.21it/s]\n",
      "Running evaluation: 7it [00:00, 42.51it/s]\n",
      "Running evaluation: 7it [00:00, 52.93it/s]\n",
      "Running evaluation: 7it [00:00, 50.86it/s]\n",
      "Running evaluation: 7it [00:00, 43.83it/s]\n",
      "Running evaluation: 7it [00:00, 48.46it/s]\n",
      "Running evaluation: 7it [00:00, 55.62it/s]\n",
      "Running evaluation: 7it [00:00, 43.02it/s]\n",
      "Running evaluation: 7it [00:00, 56.89it/s]\n",
      "Running evaluation: 7it [00:00, 50.66it/s]\n",
      "Running evaluation: 7it [00:00, 48.44it/s]\n",
      "Running evaluation: 7it [00:00, 54.65it/s]\n",
      "Running evaluation: 7it [00:00, 50.42it/s]\n",
      "Running evaluation: 7it [00:00, 45.27it/s]\n",
      "Running evaluation: 7it [00:00, 52.45it/s]\n",
      "Running evaluation: 7it [00:00, 44.98it/s]\n",
      "Running evaluation: 7it [00:00, 52.23it/s]\n",
      "Running evaluation: 7it [00:00, 48.00it/s]\n",
      "Running evaluation: 7it [00:00, 51.99it/s]\n",
      "Running evaluation: 7it [00:00, 48.71it/s]\n",
      "Running evaluation: 7it [00:00, 50.21it/s]\n",
      "Running evaluation: 7it [00:00, 45.33it/s]\n",
      "Running evaluation: 7it [00:00, 51.46it/s]\n",
      "Running evaluation: 7it [00:00, 49.11it/s]\n",
      "Running evaluation: 7it [00:00, 55.60it/s]\n",
      "Running evaluation: 7it [00:00, 49.22it/s]\n",
      "Running evaluation: 7it [00:00, 57.18it/s]\n",
      "Running evaluation: 7it [00:00, 57.84it/s]\n",
      "Running evaluation: 7it [00:00, 55.41it/s]\n",
      "Running evaluation: 7it [00:00, 50.43it/s]\n",
      "Running evaluation: 7it [00:00, 56.77it/s]\n",
      "Running evaluation: 7it [00:00, 51.00it/s]\n",
      "Running evaluation: 7it [00:00, 45.88it/s]\n",
      "Running evaluation: 7it [00:00, 49.66it/s]\n",
      "Running evaluation: 7it [00:00, 49.35it/s]\n",
      "Running evaluation: 7it [00:00, 50.92it/s]\n",
      "Running evaluation: 7it [00:00, 46.65it/s]\n",
      "Running evaluation: 7it [00:00, 50.62it/s]\n",
      "Running evaluation: 7it [00:00, 50.57it/s]\n",
      "Running evaluation: 7it [00:00, 53.40it/s]\n",
      "Running evaluation: 7it [00:00, 48.89it/s]\n",
      "Running evaluation: 7it [00:00, 55.68it/s]\n",
      "Running evaluation: 7it [00:00, 49.80it/s]\n",
      "Running evaluation: 7it [00:00, 51.75it/s]\n",
      "Running evaluation: 7it [00:00, 42.39it/s]\n",
      "Running evaluation: 7it [00:00, 59.95it/s]\n",
      "Running evaluation: 7it [00:00, 46.07it/s]\n",
      "Running evaluation: 7it [00:00, 56.78it/s]\n",
      "Running evaluation: 7it [00:00, 46.13it/s]\n",
      "Running evaluation: 7it [00:00, 50.91it/s]\n",
      "Running evaluation: 7it [00:00, 47.67it/s]\n",
      "Running evaluation: 7it [00:00, 52.85it/s]\n",
      "Running evaluation: 7it [00:00, 54.06it/s]\n",
      "Running evaluation: 7it [00:00, 46.08it/s]\n",
      "Running evaluation: 7it [00:00, 54.39it/s]\n",
      "Running evaluation: 7it [00:00, 50.29it/s]\n",
      "Running evaluation: 7it [00:00, 47.92it/s]\n",
      "Running evaluation: 7it [00:00, 51.67it/s]\n",
      "Running evaluation: 7it [00:00, 51.21it/s]\n",
      "Running evaluation: 7it [00:00, 52.38it/s]\n",
      "Running evaluation: 7it [00:00, 51.53it/s]\n",
      "Running evaluation: 7it [00:00, 53.92it/s]\n",
      "Running evaluation: 7it [00:00, 53.66it/s]\n",
      "Running evaluation: 7it [00:00, 50.60it/s]\n",
      "Running evaluation: 7it [00:00, 52.08it/s]\n",
      "Running evaluation: 7it [00:00, 48.43it/s]\n",
      "Running evaluation: 7it [00:00, 53.72it/s]\n",
      "Running evaluation: 7it [00:00, 52.12it/s]\n",
      "Running evaluation: 7it [00:00, 44.52it/s]\n",
      "Running evaluation: 7it [00:00, 54.68it/s]\n",
      "Running evaluation: 7it [00:00, 45.32it/s]\n",
      "Running evaluation: 7it [00:00, 51.75it/s]\n",
      "Running evaluation: 7it [00:00, 50.29it/s]\n",
      "Running evaluation: 7it [00:00, 52.65it/s]\n",
      "Running evaluation: 7it [00:00, 49.16it/s]\n",
      "Running evaluation: 7it [00:00, 51.36it/s]\n",
      "Running evaluation: 7it [00:00, 48.53it/s]\n",
      "Running evaluation: 7it [00:00, 53.51it/s]\n",
      "Running evaluation: 7it [00:00, 42.47it/s]\n",
      "Running evaluation: 7it [00:00, 54.97it/s]\n",
      "Running evaluation: 7it [00:00, 49.04it/s]\n",
      "Running evaluation: 7it [00:00, 54.16it/s]\n",
      "Running evaluation: 7it [00:00, 48.06it/s]\n",
      "Running evaluation: 7it [00:00, 52.19it/s]\n",
      "Running evaluation: 7it [00:00, 45.17it/s]\n",
      "Running evaluation: 7it [00:00, 51.67it/s]\n",
      "Running evaluation: 7it [00:00, 46.73it/s]\n",
      "Running evaluation: 7it [00:00, 52.11it/s]\n",
      "Running evaluation: 7it [00:00, 46.67it/s]\n",
      "Running evaluation: 7it [00:00, 52.51it/s]\n",
      "Running evaluation: 7it [00:00, 44.26it/s]\n",
      "Running evaluation: 7it [00:00, 56.24it/s]\n",
      "Running evaluation: 7it [00:00, 44.82it/s]\n",
      "Running evaluation: 7it [00:00, 53.43it/s]\n",
      "Running evaluation: 7it [00:00, 48.61it/s]\n",
      "Running evaluation: 7it [00:00, 54.88it/s]\n",
      "Running evaluation: 7it [00:00, 44.18it/s]\n",
      "Running evaluation: 7it [00:00, 51.09it/s]\n",
      "Running evaluation: 7it [00:00, 48.71it/s]\n",
      "Running evaluation: 7it [00:00, 46.78it/s]\n",
      "Running evaluation: 7it [00:00, 40.27it/s]\n",
      "Running evaluation: 7it [00:00, 53.50it/s]\n",
      "Running evaluation: 7it [00:00, 42.79it/s]\n",
      "Running evaluation: 7it [00:00, 49.88it/s]\n",
      "Running evaluation: 7it [00:00, 48.36it/s]\n",
      "Running evaluation: 7it [00:00, 48.91it/s]\n",
      "Running evaluation: 7it [00:00, 40.89it/s]\n",
      "Running evaluation: 7it [00:00, 51.40it/s]\n",
      "Running evaluation: 7it [00:00, 42.39it/s]\n",
      "Running evaluation: 7it [00:00, 57.53it/s]\n",
      "Running evaluation: 7it [00:00, 50.87it/s]\n",
      "Running evaluation: 7it [00:00, 48.99it/s]\n",
      "Running evaluation: 7it [00:00, 42.57it/s]\n",
      "Running evaluation: 7it [00:00, 55.26it/s]\n",
      "Running evaluation: 7it [00:00, 43.52it/s]\n",
      "Running evaluation: 7it [00:00, 48.80it/s]\n",
      "Running evaluation: 7it [00:00, 46.05it/s]\n",
      "Running evaluation: 7it [00:00, 50.09it/s]\n",
      "Running evaluation: 7it [00:00, 44.08it/s]\n",
      "Running evaluation: 7it [00:00, 53.83it/s]\n",
      "Running evaluation: 7it [00:00, 45.69it/s]\n",
      "Running evaluation: 7it [00:00, 51.76it/s]\n",
      "Running evaluation: 7it [00:00, 50.01it/s]\n",
      "Running evaluation: 7it [00:00, 50.60it/s]\n",
      "Running evaluation: 7it [00:00, 42.17it/s]\n",
      "Running evaluation: 7it [00:00, 56.44it/s]\n",
      "Running evaluation: 7it [00:00, 47.82it/s]\n",
      "Running evaluation: 7it [00:00, 51.23it/s]\n",
      "Running evaluation: 7it [00:00, 51.67it/s]\n",
      "Running evaluation: 7it [00:00, 52.07it/s]\n",
      "Running evaluation: 7it [00:00, 42.25it/s]\n",
      "Running evaluation: 7it [00:00, 54.43it/s]\n",
      "Running evaluation: 7it [00:00, 24.67it/s]\n"
     ],
     "name": "stderr"
    }
   ]
  },
  {
   "cell_type": "markdown",
   "metadata": {
    "id": "1HfZZavyrAcT"
   },
   "source": [
    "### Metrics"
   ]
  },
  {
   "cell_type": "code",
   "metadata": {
    "colab": {
     "base_uri": "https://localhost:8080/"
    },
    "id": "jE7T4qm3rAcT",
    "outputId": "0b25c0c3-7c9e-4bba-a11e-4ee2f72596d1"
   },
   "source": [
    "print(\"CRPS: {}\".format(agg_metric['mean_wQuantileLoss']))\n",
    "print(\"ND: {}\".format(agg_metric['ND']))\n",
    "print(\"NRMSE: {}\".format(agg_metric['NRMSE']))\n",
    "print(\"MSE: {}\".format(agg_metric['MSE']))"
   ],
   "execution_count": 20,
   "outputs": [
    {
     "output_type": "stream",
     "text": [
      "CRPS: 0.3778790538056557\n",
      "ND: 0.5088008270871934\n",
      "NRMSE: 0.9849331182781657\n",
      "MSE: 920.219154717236\n"
     ],
     "name": "stdout"
    }
   ]
  },
  {
   "cell_type": "code",
   "metadata": {
    "colab": {
     "base_uri": "https://localhost:8080/"
    },
    "id": "gaPnsj4_rAcT",
    "outputId": "bbb00acc-bfb7-46f5-9ad7-70a5d805003d"
   },
   "source": [
    "print(\"CRPS-Sum: {}\".format(agg_metric['m_sum_mean_wQuantileLoss']))\n",
    "print(\"ND-Sum: {}\".format(agg_metric['m_sum_ND']))\n",
    "print(\"NRMSE-Sum: {}\".format(agg_metric['m_sum_NRMSE']))\n",
    "print(\"MSE-Sum: {}\".format(agg_metric['m_sum_MSE']))"
   ],
   "execution_count": 21,
   "outputs": [
    {
     "output_type": "stream",
     "text": [
      "CRPS-Sum: 0.32848166435879894\n",
      "ND-Sum: 0.43418536499434257\n",
      "NRMSE-Sum: 0.7728329325889608\n",
      "MSE-Sum: 10633841.523809524\n"
     ],
     "name": "stdout"
    }
   ]
  },
  {
   "cell_type": "code",
   "metadata": {
    "id": "A9OHSaARrAcU"
   },
   "source": [
    ""
   ],
   "execution_count": null,
   "outputs": []
  }
 ]
}