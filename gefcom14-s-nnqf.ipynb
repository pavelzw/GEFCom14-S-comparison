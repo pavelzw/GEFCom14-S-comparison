{
 "cells": [
  {
   "cell_type": "markdown",
   "metadata": {
    "id": "cgiJf3fq3eJU"
   },
   "source": [
    "<table class=\"tfo-notebook-buttons\" align=\"left\">\n",
    "  <td>\n",
    "    <a target=\"_blank\" href=\"https://colab.research.google.com/github/pavelzw/GEFCom14-S-comparison/blob/main/gefcom14-s-nnqf.ipynb\">\n",
    "    <img src=\"https://www.tensorflow.org/images/colab_logo_32px.png\" />\n",
    "    Run in Google Colab</a>\n",
    "  </td>\n",
    "  <td>\n",
    "    <a target=\"_blank\" href=\"https://github.com/pavelzw/GEFCom14-S-comparison/blob/main/gefcom14-s-nnqf.ipynb\">\n",
    "    <img src=\"https://www.tensorflow.org/images/GitHub-Mark-32px.png\" />\n",
    "    View source on GitHub</a>\n",
    "  </td>\n",
    "  <td>\n",
    "    <a href=\"https://minhaskamal.github.io/DownGit/#/home?url=https://github.com/pavelzw/GEFCom14-S-comparison/blob/main/gefcom14-s-deepar.ipynb&fileName=gefcom14-s-nnqf\"><img src=\"https://www.tensorflow.org/images/download_logo_32px.png\" />Download notebook</a>\n",
    "  </td>\n",
    "</table>"
   ]
  },
  {
   "cell_type": "markdown",
   "metadata": {
    "id": "V3G4gmCR3eJc"
   },
   "source": [
    "# Download data"
   ]
  },
  {
   "cell_type": "code",
   "execution_count": 1,
   "metadata": {
    "colab": {
     "base_uri": "https://localhost:8080/"
    },
    "id": "MHv6oUat3eJd",
    "outputId": "1573e1de-f8c2-4f4f-a79d-9c788f1f834c",
    "pycharm": {
     "name": "#%%\n"
    },
    "scrolled": true
   },
   "outputs": [
    {
     "name": "stdout",
     "output_type": "stream",
     "text": [
      "\"Downloading GEFCom14-S...\"\n"
     ]
    },
    {
     "name": "stderr",
     "output_type": "stream",
     "text": [
      "Das System kann den angegebenen Pfad nicht finden.\n",
      "Der Befehl \"wget\" ist entweder falsch geschrieben oder\n",
      "konnte nicht gefunden werden.\n",
      "Das System kann den angegebenen Pfad nicht finden.\n",
      "Das System kann den angegebenen Pfad nicht finden.\n",
      "Das System kann den angegebenen Pfad nicht finden.\n",
      "Das System kann den angegebenen Pfad nicht finden.\n",
      "Das System kann den angegebenen Pfad nicht finden.\n"
     ]
    },
    {
     "name": "stdout",
     "output_type": "stream",
     "text": [
      "\"------------------------------\"\n",
      "\"Downloaded GEFCom14-S in data/\"\n"
     ]
    }
   ],
   "source": [
    "!echo \"Downloading GEFCom14-S...\"\n",
    "!rm -R data > /dev/null\n",
    "!wget -O gefcom14.zip https://www.dropbox.com/s/pqenrr2mcvl0hk9/GEFCom2014.zip?dl=0\n",
    "!unzip gefcom14 > /dev/null\n",
    "!rm gefcom14.zip > /dev/null\n",
    "!unzip GEFCom2014\\ Data/GEFCom2014-S_V2.zip > /dev/null\n",
    "!rm -R GEFCom2014\\ Data > /dev/null\n",
    "!mv Solar data > /dev/null\n",
    "!echo \"------------------------------\"\n",
    "!echo \"Downloaded GEFCom14-S in data/\""
   ]
  },
  {
   "cell_type": "markdown",
   "metadata": {
    "id": "TdUISeru3jKc"
   },
   "source": [
    "# Select Task"
   ]
  },
  {
   "cell_type": "code",
   "execution_count": 2,
   "metadata": {
    "id": "15dgDphe3lKs"
   },
   "outputs": [],
   "source": [
    "task = 5"
   ]
  },
  {
   "cell_type": "markdown",
   "metadata": {
    "collapsed": true,
    "id": "Kp6b1bib3eJe",
    "pycharm": {
     "name": "#%% md\n"
    }
   },
   "source": [
    "# Prepare data"
   ]
  },
  {
   "cell_type": "code",
   "execution_count": 3,
   "metadata": {
    "id": "kg-eEIae3eJe",
    "pycharm": {
     "name": "#%%\n"
    }
   },
   "outputs": [],
   "source": [
    "import numpy as np\n",
    "import pandas as pd\n",
    "\n",
    "predictors = pd.read_csv(f'data/Task {task}/predictors{task}.csv', parse_dates=['TIMESTAMP'])\\\n",
    "    [['ZONEID', 'TIMESTAMP', 'VAR164', 'VAR169', 'VAR175', 'VAR178', 'VAR228']].set_index('TIMESTAMP')\n",
    "train = pd.read_csv(f'data/Task {task+1}/train{task+1}.csv', parse_dates=['TIMESTAMP']).set_index('TIMESTAMP')\n",
    "benchmark = pd.read_csv(f\"data/Task {task}/benchmark{'0' + str(task) if task < 10 else task}.csv\",\n",
    "                        parse_dates=['TIMESTAMP']).set_index('TIMESTAMP')\n",
    "\n",
    "solar_plants = [train[train['ZONEID'] == i][['POWER']].rename({'POWER': f'ZONEID {i}'}, axis='columns')\n",
    "                for i in [1,2,3]]\n",
    "train_data = pd.concat(solar_plants, axis=1)\n",
    "\n",
    "#predictors['VAR164*169'] = predictors['VAR164'] * predictors['VAR169']\n",
    "\n",
    "predictors_categories = [predictors[predictors['ZONEID'] == i][['VAR169', 'VAR175', 'VAR178', 'VAR228', 'VAR164'#, 'VAR164*169'\n",
    "                        ]]\n",
    "                             .rename({'VAR169': f'SSRD {i}',\n",
    "                                      'VAR175': f'STRD {i}',\n",
    "                                      'VAR178': f'TSR {i}', \n",
    "                                      'VAR228': f'TP {i}',\n",
    "                                      'VAR164': f'TCC {i}'\n",
    "                                      #'VAR164*169': f'TCC*SSRD {i}'\n",
    "                                      }, axis='columns')\n",
    "                         for i in [1,2,3]]\n",
    "predictor_data = pd.concat(predictors_categories, axis=1)"
   ]
  },
  {
   "cell_type": "code",
   "execution_count": 4,
   "metadata": {
    "pycharm": {
     "name": "#%%\n"
    }
   },
   "outputs": [],
   "source": [
    "# decumulate data\n",
    "\n",
    "from itertools import product\n",
    "\n",
    "for name, zoneid in product(['SSRD', 'STRD', 'TSR'], range(1, 4)):\n",
    "    subtract = predictor_data[f'{name} {zoneid}'].copy()\n",
    "    subtract.iloc[1:] = subtract[:-1]\n",
    "    subtract.iloc[::24] = 0\n",
    "\n",
    "    predictor_data[f'{name} {zoneid}'] -= subtract"
   ]
  },
  {
   "cell_type": "code",
   "execution_count": 5,
   "metadata": {
    "pycharm": {
     "name": "#%%\n"
    }
   },
   "outputs": [
    {
     "data": {
      "text/plain": "<AxesSubplot:xlabel='TIMESTAMP'>"
     },
     "execution_count": 5,
     "metadata": {},
     "output_type": "execute_result"
    },
    {
     "data": {
      "text/plain": "<Figure size 432x288 with 1 Axes>",
      "image/png": "[encoded data removed]"
     },
     "metadata": {
      "needs_background": "light"
     },
     "output_type": "display_data"
    }
   ],
   "source": [
    "predictor_data['SSRD 2'].iloc[:80].plot()"
   ]
  },
  {
   "cell_type": "code",
   "execution_count": 6,
   "metadata": {
    "pycharm": {
     "name": "#%%\n"
    }
   },
   "outputs": [],
   "source": [
    "gefcom14_metadata = {\n",
    "    'num_series': 3,\n",
    "    'num_steps': len(predictor_data),\n",
    "    'prediction_length': len(benchmark) // 3,\n",
    "    'start': predictor_data.index[0]\n",
    "}"
   ]
  },
  {
   "cell_type": "code",
   "execution_count": 7,
   "metadata": {
    "id": "6EqaL6Ef3eJf",
    "pycharm": {
     "name": "#%%\n"
    }
   },
   "outputs": [],
   "source": [
    "for i in range(1, 4):\n",
    "    predictor_data[f'SSRD {i}'] /= predictor_data[f'SSRD {i}'].max()\n",
    "    predictor_data[f'STRD {i}'] /= predictor_data[f'STRD {i}'].max()\n",
    "    predictor_data[f'TSR {i}'] /= predictor_data[f'TSR {i}'].max()\n",
    "    #predictor_data[f'TP {i}'] /= predictor_data[f'TP {i}'].max()\n",
    "    #predictor_data[f'TCC*SSRD {i}'] /= predictor_data[f'TCC*SSRD {i}'].max()"
   ]
  },
  {
   "cell_type": "code",
   "execution_count": 8,
   "metadata": {
    "id": "4HOmZEuY3eJg",
    "pycharm": {
     "name": "#%%\n"
    }
   },
   "outputs": [],
   "source": [
    "predictor_zones = []\n",
    "train_data_zones = []\n",
    "\n",
    "for i in range(1, 4):\n",
    "    predictor = predictor_data[[f'SSRD {i}', f'STRD {i}', f'TSR {i}', f'TP {i}', f'TCC {i}'#, f'TCC*SSRD {i}'\n",
    "    ]]\n",
    "    predictor_zones.append(predictor)\n",
    "    train_data_zone = train_data[[f'ZONEID {i}']]\n",
    "    train_data_zones.append(train_data_zone)"
   ]
  },
  {
   "cell_type": "code",
   "execution_count": 9,
   "metadata": {
    "id": "9MAZFa0T3eJg",
    "pycharm": {
     "name": "#%%\n"
    }
   },
   "outputs": [],
   "source": [
    "x_input_zones = []\n",
    "y_output_zones = []\n",
    "\n",
    "for predictor, train_data in zip(predictor_zones, train_data_zones):\n",
    "    x_input_df = predictor[:-gefcom14_metadata['prediction_length']]\n",
    "    x_input = np.array(x_input_df)\n",
    "    x_input_zones.append(x_input)\n",
    "    y_output = np.array(train_data[:-gefcom14_metadata['prediction_length']])\n",
    "    y_output_zones.append(y_output)"
   ]
  },
  {
   "cell_type": "markdown",
   "metadata": {
    "id": "_hGCHDgTejw8"
   },
   "source": [
    "# NNQF"
   ]
  },
  {
   "cell_type": "code",
   "execution_count": 10,
   "metadata": {
    "id": "aex-xN--5GXD"
   },
   "outputs": [],
   "source": [
    "import numpy as np\n",
    "from sklearn.neighbors import NearestNeighbors as nn_fun\n",
    "\n",
    "def nnqf_filter(x_input, \n",
    "                y_output, \n",
    "                num_neighbors = 10, \n",
    "                q_quantile = 0.5, \n",
    "                var_weighting = True, \n",
    "                minkowski_dist = 2):\n",
    "    \"\"\"\n",
    "    Parameters\n",
    "    ----------\n",
    "    x_input : numpy array ;\n",
    "    Input matrix of dimension (N,S), with N representing the number of\n",
    "    samples and S the number of features\n",
    "\n",
    "    y_output : numpy array ;\n",
    "    Output vector of dimension (N,)\n",
    "\n",
    "    num_neighbors : int, default = 10 ;\n",
    "    Number of nearest neighbors that the filter is going to search for     \n",
    "\n",
    "    q_quantile : float, default = 0.5 ;\n",
    "    Must be a value between 0 and 1. \n",
    "    Probability of the quantile that is going to be calculated from the \n",
    "    nearest neighbors output values      \n",
    "\n",
    "    var_weighting : bool, default = True ;\n",
    "    Value defining if the columns of the input matrix are going to be multiplied \n",
    "    by the inverse of their variance\n",
    "\n",
    "    minkowski_dist : int, default = 2 ;\n",
    "    Parameter used to define the type of minkoswki distance used to calculate \n",
    "    the nearest neighbors\n",
    "\n",
    "    Returns\n",
    "    -------\n",
    "    yq_output : numpy array ;\n",
    "    New output vector containing the quantiles of the output values of the\n",
    "    input's nearest neighbors\n",
    "\n",
    "    \"\"\"\n",
    "    # --\n",
    "    # Each column of the input matrix is multiplied by the inverse of its variance, \n",
    "    # in order to avoid a feature with a huge scale to overpower the others at the \n",
    "    # moment of calculating the distances\n",
    "\n",
    "    if var_weighting:\n",
    "        var_weights = np.var(x_input, axis=0)\n",
    "        x_input = var_weights ** (-1) * x_input    \n",
    "\n",
    "    # --\n",
    "    # We calculate the nearest neighbor of each feature vector within the input matrix\n",
    "    # and obtain their corresponding indices\n",
    "    # The distance used is the minkowski distance with p = minkowski_dist\n",
    "\n",
    "    x_neighbors = nn_fun(n_neighbors=num_neighbors, algorithm='auto', p=minkowski_dist).fit(x_input)\n",
    "    dist, indx = x_neighbors.kneighbors(x_input)\n",
    "\n",
    "\n",
    "    # --\n",
    "    # We create a matrix containing the output values of nearest neighbors of\n",
    "    # each input vector\n",
    "\n",
    "    y_neighbors = y_output[indx[0,:]].T\n",
    "    for i in range(1, np.size(x_input, 0)):\n",
    "        values_to_add = y_output[indx[i,:]].T\n",
    "        y_neighbors = np.vstack([y_neighbors, values_to_add])\n",
    "\n",
    "    # --\n",
    "    # We calculate the q_quantile of the nearest neighbors output values\n",
    "    # and create with them a new output vector yq_output\n",
    "\n",
    "    yq_output = np.quantile(y_neighbors, q=q_quantile, axis=1)\n",
    "        \n",
    "    return yq_output"
   ]
  },
  {
   "cell_type": "code",
   "execution_count": 11,
   "metadata": {
    "colab": {
     "base_uri": "https://localhost:8080/"
    },
    "id": "IAz6_JCn3eJh",
    "outputId": "dd402cd2-a8ef-4d27-e625-b0e90d11dc4e",
    "pycharm": {
     "name": "#%%\n"
    }
   },
   "outputs": [
    {
     "name": "stderr",
     "output_type": "stream",
     "text": [
      "3it [00:57, 19.17s/it]\n"
     ]
    }
   ],
   "source": [
    "from tqdm import tqdm\n",
    "\n",
    "yq_output_zones = []\n",
    "\n",
    "for x_input, y_output in tqdm(zip(x_input_zones, y_output_zones)):\n",
    "    yq_output = nnqf_filter(x_input=x_input, y_output=y_output,\n",
    "                            q_quantile=[p / 100 for p in range(1, 100)],\n",
    "                            num_neighbors=100).T\n",
    "    yq_output_df = pd.DataFrame(yq_output, index=x_input_df.index)\\\n",
    "        .rename(columns={p: str((p+1)/100) for p in range(99)})\n",
    "    yq_output_zones.append(yq_output_df)"
   ]
  },
  {
   "cell_type": "markdown",
   "metadata": {
    "id": "5g9PIqF93eJi",
    "pycharm": {
     "name": "#%% md\n"
    }
   },
   "source": [
    "# Train the linear regression model (ANN6)"
   ]
  },
  {
   "cell_type": "code",
   "execution_count": 12,
   "metadata": {
    "colab": {
     "base_uri": "https://localhost:8080/",
     "height": 406
    },
    "id": "aZIx90Y4EmzL",
    "outputId": "d96f4e6c-599c-41cb-88c0-b64a32b044d2"
   },
   "outputs": [
    {
     "data": {
      "text/plain": "         SSRD 1    STRD 1     TSR 1      TP 1     TCC 1\n0      0.635857  0.749657  0.673847  0.000000  0.244601\n1      0.685296  0.775649  0.727011  0.000000  0.457138\n2      0.632863  0.769635  0.703986  0.001341  0.771429\n3      0.478215  0.773120  0.563346  0.002501  0.965866\n4      0.316365  0.830914  0.417683  0.003331  0.944669\n...         ...       ...       ...       ...       ...\n12427  0.000000  0.554566  0.000000  0.000000  0.002655\n12428  0.012648  0.555094  0.021965  0.000000  0.000000\n12429  0.154729  0.591132  0.180680  0.000000  0.000000\n12430  0.334099  0.604797  0.357403  0.000000  0.000000\n12431  0.490815  0.617255  0.506984  0.000000  0.000000\n\n[12432 rows x 5 columns]",
      "text/html": "<div>\n<style scoped>\n    .dataframe tbody tr th:only-of-type {\n        vertical-align: middle;\n    }\n\n    .dataframe tbody tr th {\n        vertical-align: top;\n    }\n\n    .dataframe thead th {\n        text-align: right;\n    }\n</style>\n<table border=\"1\" class=\"dataframe\">\n  <thead>\n    <tr style=\"text-align: right;\">\n      <th></th>\n      <th>SSRD 1</th>\n      <th>STRD 1</th>\n      <th>TSR 1</th>\n      <th>TP 1</th>\n      <th>TCC 1</th>\n    </tr>\n  </thead>\n  <tbody>\n    <tr>\n      <th>0</th>\n      <td>0.635857</td>\n      <td>0.749657</td>\n      <td>0.673847</td>\n      <td>0.000000</td>\n      <td>0.244601</td>\n    </tr>\n    <tr>\n      <th>1</th>\n      <td>0.685296</td>\n      <td>0.775649</td>\n      <td>0.727011</td>\n      <td>0.000000</td>\n      <td>0.457138</td>\n    </tr>\n    <tr>\n      <th>2</th>\n      <td>0.632863</td>\n      <td>0.769635</td>\n      <td>0.703986</td>\n      <td>0.001341</td>\n      <td>0.771429</td>\n    </tr>\n    <tr>\n      <th>3</th>\n      <td>0.478215</td>\n      <td>0.773120</td>\n      <td>0.563346</td>\n      <td>0.002501</td>\n      <td>0.965866</td>\n    </tr>\n    <tr>\n      <th>4</th>\n      <td>0.316365</td>\n      <td>0.830914</td>\n      <td>0.417683</td>\n      <td>0.003331</td>\n      <td>0.944669</td>\n    </tr>\n    <tr>\n      <th>...</th>\n      <td>...</td>\n      <td>...</td>\n      <td>...</td>\n      <td>...</td>\n      <td>...</td>\n    </tr>\n    <tr>\n      <th>12427</th>\n      <td>0.000000</td>\n      <td>0.554566</td>\n      <td>0.000000</td>\n      <td>0.000000</td>\n      <td>0.002655</td>\n    </tr>\n    <tr>\n      <th>12428</th>\n      <td>0.012648</td>\n      <td>0.555094</td>\n      <td>0.021965</td>\n      <td>0.000000</td>\n      <td>0.000000</td>\n    </tr>\n    <tr>\n      <th>12429</th>\n      <td>0.154729</td>\n      <td>0.591132</td>\n      <td>0.180680</td>\n      <td>0.000000</td>\n      <td>0.000000</td>\n    </tr>\n    <tr>\n      <th>12430</th>\n      <td>0.334099</td>\n      <td>0.604797</td>\n      <td>0.357403</td>\n      <td>0.000000</td>\n      <td>0.000000</td>\n    </tr>\n    <tr>\n      <th>12431</th>\n      <td>0.490815</td>\n      <td>0.617255</td>\n      <td>0.506984</td>\n      <td>0.000000</td>\n      <td>0.000000</td>\n    </tr>\n  </tbody>\n</table>\n<p>12432 rows × 5 columns</p>\n</div>"
     },
     "execution_count": 12,
     "metadata": {},
     "output_type": "execute_result"
    }
   ],
   "source": [
    "for zoneid in range(1, 4):\n",
    "    # remove timecode\n",
    "    predictor = predictor_zones[zoneid-1].reset_index().drop('TIMESTAMP', axis=1)\n",
    "      #.rename(columns={\n",
    "      #  f'SSRD {zoneid}': 0,\n",
    "      #  f'STRD {zoneid}': 1,\n",
    "      #  f'TSR {zoneid}': 2, \n",
    "      #  f'TP {zoneid}': 3,\n",
    "        #f'TCC*SSRD {zoneid}': 4\n",
    "      #  })\n",
    "    predictor_zones[zoneid-1] = predictor\n",
    "\n",
    "predictor_zones[0]"
   ]
  },
  {
   "cell_type": "markdown",
   "metadata": {
    "id": "gngeCMPG3eJi",
    "pycharm": {
     "name": "#%% md\n"
    }
   },
   "source": [
    "## Prepare data for regression model"
   ]
  },
  {
   "cell_type": "code",
   "execution_count": 13,
   "metadata": {
    "colab": {
     "base_uri": "https://localhost:8080/",
     "height": 443
    },
    "id": "LXXaq3N-3eJj",
    "outputId": "d923de3d-b1e5-48ca-bdf3-a35b49f0fe42",
    "pycharm": {
     "name": "#%%\n"
    },
    "scrolled": true
   },
   "outputs": [
    {
     "data": {
      "text/plain": "       t-0: SSRD 1  t-0: STRD 1  t-0: TSR 1  t-0: TP 1  t-0: TCC 1  \\\n23        0.369822     0.854196    0.442339   0.006801    0.932465   \n24        0.423729     0.818798    0.513562   0.000191    0.830276   \n25        0.396691     0.839785    0.504277   0.000263    0.685303   \n26        0.444420     0.860700    0.536485   0.000285    0.768799   \n27        0.445557     0.840864    0.529245   0.000297    0.538910   \n...            ...          ...         ...        ...         ...   \n12427     0.000000     0.554566    0.000000   0.000000    0.002655   \n12428     0.012648     0.555094    0.021965   0.000000    0.000000   \n12429     0.154729     0.591132    0.180680   0.000000    0.000000   \n12430     0.334099     0.604797    0.357403   0.000000    0.000000   \n12431     0.490815     0.617255    0.506984   0.000000    0.000000   \n\n       t-1: SSRD 1  t-1: STRD 1  t-1: TSR 1  t-1: TP 1  t-1: TCC 1  ...  \\\n23        0.251112     0.788924    0.314938   0.006791    0.953293  ...   \n24        0.369822     0.854196    0.442339   0.006801    0.932465  ...   \n25        0.423729     0.818798    0.513562   0.000191    0.830276  ...   \n26        0.396691     0.839785    0.504277   0.000263    0.685303  ...   \n27        0.444420     0.860700    0.536485   0.000285    0.768799  ...   \n...            ...          ...         ...        ...         ...  ...   \n12427     0.000000     0.560989    0.000000   0.000000    0.226990  ...   \n12428     0.000000     0.554566    0.000000   0.000000    0.002655  ...   \n12429     0.012648     0.555094    0.021965   0.000000    0.000000  ...   \n12430     0.154729     0.591132    0.180680   0.000000    0.000000  ...   \n12431     0.334099     0.604797    0.357403   0.000000    0.000000  ...   \n\n       t-22: SSRD 1  t-22: STRD 1  t-22: TSR 1  t-22: TP 1  t-22: TCC 1  \\\n23         0.685296      0.775649     0.727011    0.000000     0.457138   \n24         0.632863      0.769635     0.703986    0.001341     0.771429   \n25         0.478215      0.773120     0.563346    0.002501     0.965866   \n26         0.316365      0.830914     0.417683    0.003331     0.944669   \n27         0.165923      0.812934     0.257348    0.003960     0.641353   \n...             ...           ...          ...         ...          ...   \n12427      0.120425      0.657392     0.152408    0.000000     0.829559   \n12428      0.293342      0.654130     0.333632    0.000000     0.498962   \n12429      0.443030      0.653542     0.483290    0.000000     0.250092   \n12430      0.582086      0.655863     0.603266    0.000000     0.049347   \n12431      0.650405      0.648975     0.665463    0.000000     0.411682   \n\n       t-23: SSRD 1  t-23: STRD 1  t-23: TSR 1  t-23: TP 1  t-23: TCC 1  \n23         0.635857      0.749657     0.673847    0.000000     0.244601  \n24         0.685296      0.775649     0.727011    0.000000     0.457138  \n25         0.632863      0.769635     0.703986    0.001341     0.771429  \n26         0.478215      0.773120     0.563346    0.002501     0.965866  \n27         0.316365      0.830914     0.417683    0.003331     0.944669  \n...             ...           ...          ...         ...          ...  \n12427      0.010009      0.626760     0.017679    0.000000     0.895538  \n12428      0.120425      0.657392     0.152408    0.000000     0.829559  \n12429      0.293342      0.654130     0.333632    0.000000     0.498962  \n12430      0.443030      0.653542     0.483290    0.000000     0.250092  \n12431      0.582086      0.655863     0.603266    0.000000     0.049347  \n\n[12409 rows x 120 columns]",
      "text/html": "<div>\n<style scoped>\n    .dataframe tbody tr th:only-of-type {\n        vertical-align: middle;\n    }\n\n    .dataframe tbody tr th {\n        vertical-align: top;\n    }\n\n    .dataframe thead th {\n        text-align: right;\n    }\n</style>\n<table border=\"1\" class=\"dataframe\">\n  <thead>\n    <tr style=\"text-align: right;\">\n      <th></th>\n      <th>t-0: SSRD 1</th>\n      <th>t-0: STRD 1</th>\n      <th>t-0: TSR 1</th>\n      <th>t-0: TP 1</th>\n      <th>t-0: TCC 1</th>\n      <th>t-1: SSRD 1</th>\n      <th>t-1: STRD 1</th>\n      <th>t-1: TSR 1</th>\n      <th>t-1: TP 1</th>\n      <th>t-1: TCC 1</th>\n      <th>...</th>\n      <th>t-22: SSRD 1</th>\n      <th>t-22: STRD 1</th>\n      <th>t-22: TSR 1</th>\n      <th>t-22: TP 1</th>\n      <th>t-22: TCC 1</th>\n      <th>t-23: SSRD 1</th>\n      <th>t-23: STRD 1</th>\n      <th>t-23: TSR 1</th>\n      <th>t-23: TP 1</th>\n      <th>t-23: TCC 1</th>\n    </tr>\n  </thead>\n  <tbody>\n    <tr>\n      <th>23</th>\n      <td>0.369822</td>\n      <td>0.854196</td>\n      <td>0.442339</td>\n      <td>0.006801</td>\n      <td>0.932465</td>\n      <td>0.251112</td>\n      <td>0.788924</td>\n      <td>0.314938</td>\n      <td>0.006791</td>\n      <td>0.953293</td>\n      <td>...</td>\n      <td>0.685296</td>\n      <td>0.775649</td>\n      <td>0.727011</td>\n      <td>0.000000</td>\n      <td>0.457138</td>\n      <td>0.635857</td>\n      <td>0.749657</td>\n      <td>0.673847</td>\n      <td>0.000000</td>\n      <td>0.244601</td>\n    </tr>\n    <tr>\n      <th>24</th>\n      <td>0.423729</td>\n      <td>0.818798</td>\n      <td>0.513562</td>\n      <td>0.000191</td>\n      <td>0.830276</td>\n      <td>0.369822</td>\n      <td>0.854196</td>\n      <td>0.442339</td>\n      <td>0.006801</td>\n      <td>0.932465</td>\n      <td>...</td>\n      <td>0.632863</td>\n      <td>0.769635</td>\n      <td>0.703986</td>\n      <td>0.001341</td>\n      <td>0.771429</td>\n      <td>0.685296</td>\n      <td>0.775649</td>\n      <td>0.727011</td>\n      <td>0.000000</td>\n      <td>0.457138</td>\n    </tr>\n    <tr>\n      <th>25</th>\n      <td>0.396691</td>\n      <td>0.839785</td>\n      <td>0.504277</td>\n      <td>0.000263</td>\n      <td>0.685303</td>\n      <td>0.423729</td>\n      <td>0.818798</td>\n      <td>0.513562</td>\n      <td>0.000191</td>\n      <td>0.830276</td>\n      <td>...</td>\n      <td>0.478215</td>\n      <td>0.773120</td>\n      <td>0.563346</td>\n      <td>0.002501</td>\n      <td>0.965866</td>\n      <td>0.632863</td>\n      <td>0.769635</td>\n      <td>0.703986</td>\n      <td>0.001341</td>\n      <td>0.771429</td>\n    </tr>\n    <tr>\n      <th>26</th>\n      <td>0.444420</td>\n      <td>0.860700</td>\n      <td>0.536485</td>\n      <td>0.000285</td>\n      <td>0.768799</td>\n      <td>0.396691</td>\n      <td>0.839785</td>\n      <td>0.504277</td>\n      <td>0.000263</td>\n      <td>0.685303</td>\n      <td>...</td>\n      <td>0.316365</td>\n      <td>0.830914</td>\n      <td>0.417683</td>\n      <td>0.003331</td>\n      <td>0.944669</td>\n      <td>0.478215</td>\n      <td>0.773120</td>\n      <td>0.563346</td>\n      <td>0.002501</td>\n      <td>0.965866</td>\n    </tr>\n    <tr>\n      <th>27</th>\n      <td>0.445557</td>\n      <td>0.840864</td>\n      <td>0.529245</td>\n      <td>0.000297</td>\n      <td>0.538910</td>\n      <td>0.444420</td>\n      <td>0.860700</td>\n      <td>0.536485</td>\n      <td>0.000285</td>\n      <td>0.768799</td>\n      <td>...</td>\n      <td>0.165923</td>\n      <td>0.812934</td>\n      <td>0.257348</td>\n      <td>0.003960</td>\n      <td>0.641353</td>\n      <td>0.316365</td>\n      <td>0.830914</td>\n      <td>0.417683</td>\n      <td>0.003331</td>\n      <td>0.944669</td>\n    </tr>\n    <tr>\n      <th>...</th>\n      <td>...</td>\n      <td>...</td>\n      <td>...</td>\n      <td>...</td>\n      <td>...</td>\n      <td>...</td>\n      <td>...</td>\n      <td>...</td>\n      <td>...</td>\n      <td>...</td>\n      <td>...</td>\n      <td>...</td>\n      <td>...</td>\n      <td>...</td>\n      <td>...</td>\n      <td>...</td>\n      <td>...</td>\n      <td>...</td>\n      <td>...</td>\n      <td>...</td>\n      <td>...</td>\n    </tr>\n    <tr>\n      <th>12427</th>\n      <td>0.000000</td>\n      <td>0.554566</td>\n      <td>0.000000</td>\n      <td>0.000000</td>\n      <td>0.002655</td>\n      <td>0.000000</td>\n      <td>0.560989</td>\n      <td>0.000000</td>\n      <td>0.000000</td>\n      <td>0.226990</td>\n      <td>...</td>\n      <td>0.120425</td>\n      <td>0.657392</td>\n      <td>0.152408</td>\n      <td>0.000000</td>\n      <td>0.829559</td>\n      <td>0.010009</td>\n      <td>0.626760</td>\n      <td>0.017679</td>\n      <td>0.000000</td>\n      <td>0.895538</td>\n    </tr>\n    <tr>\n      <th>12428</th>\n      <td>0.012648</td>\n      <td>0.555094</td>\n      <td>0.021965</td>\n      <td>0.000000</td>\n      <td>0.000000</td>\n      <td>0.000000</td>\n      <td>0.554566</td>\n      <td>0.000000</td>\n      <td>0.000000</td>\n      <td>0.002655</td>\n      <td>...</td>\n      <td>0.293342</td>\n      <td>0.654130</td>\n      <td>0.333632</td>\n      <td>0.000000</td>\n      <td>0.498962</td>\n      <td>0.120425</td>\n      <td>0.657392</td>\n      <td>0.152408</td>\n      <td>0.000000</td>\n      <td>0.829559</td>\n    </tr>\n    <tr>\n      <th>12429</th>\n      <td>0.154729</td>\n      <td>0.591132</td>\n      <td>0.180680</td>\n      <td>0.000000</td>\n      <td>0.000000</td>\n      <td>0.012648</td>\n      <td>0.555094</td>\n      <td>0.021965</td>\n      <td>0.000000</td>\n      <td>0.000000</td>\n      <td>...</td>\n      <td>0.443030</td>\n      <td>0.653542</td>\n      <td>0.483290</td>\n      <td>0.000000</td>\n      <td>0.250092</td>\n      <td>0.293342</td>\n      <td>0.654130</td>\n      <td>0.333632</td>\n      <td>0.000000</td>\n      <td>0.498962</td>\n    </tr>\n    <tr>\n      <th>12430</th>\n      <td>0.334099</td>\n      <td>0.604797</td>\n      <td>0.357403</td>\n      <td>0.000000</td>\n      <td>0.000000</td>\n      <td>0.154729</td>\n      <td>0.591132</td>\n      <td>0.180680</td>\n      <td>0.000000</td>\n      <td>0.000000</td>\n      <td>...</td>\n      <td>0.582086</td>\n      <td>0.655863</td>\n      <td>0.603266</td>\n      <td>0.000000</td>\n      <td>0.049347</td>\n      <td>0.443030</td>\n      <td>0.653542</td>\n      <td>0.483290</td>\n      <td>0.000000</td>\n      <td>0.250092</td>\n    </tr>\n    <tr>\n      <th>12431</th>\n      <td>0.490815</td>\n      <td>0.617255</td>\n      <td>0.506984</td>\n      <td>0.000000</td>\n      <td>0.000000</td>\n      <td>0.334099</td>\n      <td>0.604797</td>\n      <td>0.357403</td>\n      <td>0.000000</td>\n      <td>0.000000</td>\n      <td>...</td>\n      <td>0.650405</td>\n      <td>0.648975</td>\n      <td>0.665463</td>\n      <td>0.000000</td>\n      <td>0.411682</td>\n      <td>0.582086</td>\n      <td>0.655863</td>\n      <td>0.603266</td>\n      <td>0.000000</td>\n      <td>0.049347</td>\n    </tr>\n  </tbody>\n</table>\n<p>12409 rows × 120 columns</p>\n</div>"
     },
     "execution_count": 13,
     "metadata": {},
     "output_type": "execute_result"
    }
   ],
   "source": [
    "h = 24\n",
    "h1 = 24\n",
    "\n",
    "x_zones = []\n",
    "\n",
    "for predictor in predictor_zones:\n",
    "    x_pieces = []\n",
    "    for i in range(h1):\n",
    "        piece = predictor.drop(range(i)).reset_index().drop('index', axis=1)\\\n",
    "            .rename(columns=lambda name: f't-{h1 - i - 1}: {name}')\n",
    "        x_pieces.insert(0, piece)\n",
    "\n",
    "    x = pd.concat(x_pieces, axis=1)\n",
    "    x.index = x.index.map(lambda x: x + h1 - 1)\n",
    "    x = x[:-h+1]\n",
    "    x_zones.append(x)\n",
    "\n",
    "x_zones[0]"
   ]
  },
  {
   "cell_type": "markdown",
   "metadata": {
    "id": "-RbPW6NfUn0K"
   },
   "source": [
    "## Feature selection"
   ]
  },
  {
   "cell_type": "code",
   "execution_count": 14,
   "metadata": {
    "colab": {
     "base_uri": "https://localhost:8080/"
    },
    "id": "D1d_SsAxUn0K",
    "outputId": "035901cf-a14b-418d-adad-078edf426bc8"
   },
   "outputs": [
    {
     "name": "stdout",
     "output_type": "stream",
     "text": [
      "(11688, 120)\n",
      "(11688,)\n",
      "[  0   1   2   5   6   7  10  12  15  17  30  32  35  37  40  42  45  47\n",
      "  50  52  55  57  60  62  65  67  69  70  72  74  75  77  79  80  82  84\n",
      "  89  95  97 100 102 105 107 108 110 112 113 115 117 118]\n",
      "(11688, 120)\n",
      "(11688,)\n",
      "[  0   1   2   5   7  10  12  15  17  30  32  35  37  40  42  45  47  50\n",
      "  52  55  57  60  62  65  67  70  72  74  75  77  79  80  82  84  89  95\n",
      "  97  98 100 102 103 105 107 108 110 112 113 115 117 118]\n",
      "(11688, 120)\n",
      "(11688,)\n",
      "[  0   2   5   7  10  12  15  17  30  32  35  37  40  42  45  47  50  52\n",
      "  55  57  60  62  65  67  70  72  74  75  77  79  80  82  84  89  95  97\n",
      "  98 100 102 103 105 107 108 110 112 113 115 117 118 119]\n"
     ]
    }
   ],
   "source": [
    "from sklearn.feature_selection import SelectKBest\n",
    "from sklearn.feature_selection import f_regression\n",
    "\n",
    "x_new_zones = []\n",
    "\n",
    "for x, yq_output_df in zip(x_zones, yq_output_zones):\n",
    "    x_select = x[:-gefcom14_metadata['prediction_length'] + 23]\n",
    "    y_select = yq_output_df[str(0.5)]\n",
    "\n",
    "    print(x_select.shape)\n",
    "    print(y_select.shape)\n",
    "\n",
    "    support = SelectKBest(f_regression, k=50).fit(x_select, y_select).get_support(indices=True)\n",
    "    print(support)\n",
    "\n",
    "    x_new = x.loc[:, x.columns[support]]\n",
    "    x_new_zones.append(x_new)"
   ]
  },
  {
   "cell_type": "code",
   "execution_count": 15,
   "metadata": {
    "id": "198ushVoUn0L"
   },
   "outputs": [],
   "source": [
    "# x_normalized = (x_new - x_new.mean()) / x_new.std()\n",
    "# x_normalized"
   ]
  },
  {
   "cell_type": "markdown",
   "metadata": {
    "id": "QZ2U80LAepBN"
   },
   "source": [
    "# Training"
   ]
  },
  {
   "cell_type": "code",
   "execution_count": 16,
   "metadata": {
    "colab": {
     "base_uri": "https://localhost:8080/"
    },
    "id": "6hDwwQgj3eJk",
    "outputId": "55749506-8612-4ace-a964-1523ad7e2314",
    "pycharm": {
     "name": "#%%\n"
    },
    "scrolled": true
   },
   "outputs": [
    {
     "name": "stderr",
     "output_type": "stream",
     "text": [
      "100%|██████████| 99/99 [00:53<00:00,  1.84it/s]\n",
      "100%|██████████| 99/99 [00:52<00:00,  1.87it/s]\n",
      "100%|██████████| 99/99 [00:55<00:00,  1.79it/s]\n"
     ]
    }
   ],
   "source": [
    "from sklearn.neural_network import MLPRegressor\n",
    "from tqdm import tqdm\n",
    "\n",
    "# todo\n",
    "# ensemble_size = 7\n",
    "ensemble_size = 1\n",
    "\n",
    "predictions_zones = []\n",
    "\n",
    "for x_new, yq_output_df in zip(x_new_zones, yq_output_zones):\n",
    "    predictions = [pd.DataFrame() for _ in range(ensemble_size)]\n",
    "\n",
    "    for p in tqdm(range(1, 100)):\n",
    "        for prediction in predictions:\n",
    "            y_train = yq_output_df.reset_index().drop('TIMESTAMP', axis=1).drop(range(h1-1))[str(p/100)]\n",
    "            x_train = x_new[:-gefcom14_metadata['prediction_length']]\n",
    "            x_predict = x_new[-gefcom14_metadata['prediction_length']:]\n",
    "\n",
    "            model = MLPRegressor(hidden_layer_sizes=(20,10,))\n",
    "\n",
    "            trained = model.fit(x_train, y_train)\n",
    "            prediction.insert(p-1, str(p/100), trained.predict(x_predict))\n",
    "    predictions_zones.append(predictions)"
   ]
  },
  {
   "cell_type": "code",
   "execution_count": 17,
   "metadata": {
    "id": "SsCZ9e0wUn0L"
   },
   "outputs": [
    {
     "data": {
      "text/plain": "         0.01      0.02      0.03      0.04      0.05      0.06      0.07  \\\n0    0.056494  0.040925  0.084243  0.083746  0.110369  0.117939  0.106952   \n1    0.133430  0.157806  0.159379  0.195599  0.190280  0.222359  0.234556   \n2    0.171166  0.230843  0.222750  0.262601  0.250819  0.284694  0.323004   \n3    0.156956  0.222755  0.196338  0.230116  0.231699  0.265585  0.315646   \n4    0.101766  0.136745  0.137261  0.132679  0.149560  0.187116  0.202925   \n..        ...       ...       ...       ...       ...       ...       ...   \n739  0.006452  0.002416  0.017913  0.000804  0.020662  0.006724  0.007388   \n740  0.001014 -0.003154 -0.009464 -0.001093 -0.001211 -0.000111  0.013500   \n741  0.021947  0.014601  0.015187  0.025961  0.017269  0.033851  0.037366   \n742  0.056248  0.055429  0.080856  0.075905  0.098466  0.076191  0.076885   \n743  0.123310  0.174383  0.165897  0.174003  0.192828  0.219892  0.253020   \n\n         0.08      0.09       0.1  ...       0.9      0.91      0.92  \\\n0    0.113196  0.129143  0.163535  ...  0.654412  0.649613  0.679743   \n1    0.287110  0.264428  0.283727  ...  0.763852  0.721256  0.739080   \n2    0.394380  0.373280  0.351532  ...  0.790861  0.766527  0.765960   \n3    0.348508  0.349821  0.297970  ...  0.791127  0.761065  0.775527   \n4    0.229608  0.226846  0.218034  ...  0.732222  0.723835  0.725428   \n..        ...       ...       ...  ...       ...       ...       ...   \n739  0.005046 -0.005738  0.010914  ... -0.042255 -0.030962  0.010492   \n740  0.007656  0.005471 -0.000399  ...  0.002743 -0.002451  0.049117   \n741  0.021323  0.022234  0.031389  ...  0.275458  0.289204  0.328593   \n742  0.079309  0.103072  0.124642  ...  0.624277  0.641817  0.633200   \n743  0.260577  0.289541  0.250295  ...  0.693242  0.754452  0.754230   \n\n         0.93      0.94      0.95      0.96      0.97      0.98      0.99  \n0    0.658228  0.687528  0.711076  0.724198  0.708012  0.732565  0.742783  \n1    0.736438  0.746461  0.807399  0.786336  0.776823  0.806670  0.789898  \n2    0.803167  0.780049  0.791893  0.819679  0.805363  0.808075  0.822570  \n3    0.784543  0.782626  0.792758  0.798909  0.794381  0.793767  0.826218  \n4    0.715811  0.747464  0.739117  0.754603  0.747779  0.744067  0.787987  \n..        ...       ...       ...       ...       ...       ...       ...  \n739  0.012056 -0.007022  0.024619 -0.004760 -0.013473  0.000310  0.008800  \n740  0.011625 -0.011553  0.071765  0.017636  0.014538  0.000493  0.023130  \n741  0.325039  0.331199  0.373807  0.357954  0.362593  0.420404  0.465632  \n742  0.683881  0.667495  0.631493  0.724515  0.687264  0.707986  0.763867  \n743  0.770309  0.773593  0.753604  0.792769  0.790591  0.766602  0.799605  \n\n[744 rows x 99 columns]",
      "text/html": "<div>\n<style scoped>\n    .dataframe tbody tr th:only-of-type {\n        vertical-align: middle;\n    }\n\n    .dataframe tbody tr th {\n        vertical-align: top;\n    }\n\n    .dataframe thead th {\n        text-align: right;\n    }\n</style>\n<table border=\"1\" class=\"dataframe\">\n  <thead>\n    <tr style=\"text-align: right;\">\n      <th></th>\n      <th>0.01</th>\n      <th>0.02</th>\n      <th>0.03</th>\n      <th>0.04</th>\n      <th>0.05</th>\n      <th>0.06</th>\n      <th>0.07</th>\n      <th>0.08</th>\n      <th>0.09</th>\n      <th>0.1</th>\n      <th>...</th>\n      <th>0.9</th>\n      <th>0.91</th>\n      <th>0.92</th>\n      <th>0.93</th>\n      <th>0.94</th>\n      <th>0.95</th>\n      <th>0.96</th>\n      <th>0.97</th>\n      <th>0.98</th>\n      <th>0.99</th>\n    </tr>\n  </thead>\n  <tbody>\n    <tr>\n      <th>0</th>\n      <td>0.056494</td>\n      <td>0.040925</td>\n      <td>0.084243</td>\n      <td>0.083746</td>\n      <td>0.110369</td>\n      <td>0.117939</td>\n      <td>0.106952</td>\n      <td>0.113196</td>\n      <td>0.129143</td>\n      <td>0.163535</td>\n      <td>...</td>\n      <td>0.654412</td>\n      <td>0.649613</td>\n      <td>0.679743</td>\n      <td>0.658228</td>\n      <td>0.687528</td>\n      <td>0.711076</td>\n      <td>0.724198</td>\n      <td>0.708012</td>\n      <td>0.732565</td>\n      <td>0.742783</td>\n    </tr>\n    <tr>\n      <th>1</th>\n      <td>0.133430</td>\n      <td>0.157806</td>\n      <td>0.159379</td>\n      <td>0.195599</td>\n      <td>0.190280</td>\n      <td>0.222359</td>\n      <td>0.234556</td>\n      <td>0.287110</td>\n      <td>0.264428</td>\n      <td>0.283727</td>\n      <td>...</td>\n      <td>0.763852</td>\n      <td>0.721256</td>\n      <td>0.739080</td>\n      <td>0.736438</td>\n      <td>0.746461</td>\n      <td>0.807399</td>\n      <td>0.786336</td>\n      <td>0.776823</td>\n      <td>0.806670</td>\n      <td>0.789898</td>\n    </tr>\n    <tr>\n      <th>2</th>\n      <td>0.171166</td>\n      <td>0.230843</td>\n      <td>0.222750</td>\n      <td>0.262601</td>\n      <td>0.250819</td>\n      <td>0.284694</td>\n      <td>0.323004</td>\n      <td>0.394380</td>\n      <td>0.373280</td>\n      <td>0.351532</td>\n      <td>...</td>\n      <td>0.790861</td>\n      <td>0.766527</td>\n      <td>0.765960</td>\n      <td>0.803167</td>\n      <td>0.780049</td>\n      <td>0.791893</td>\n      <td>0.819679</td>\n      <td>0.805363</td>\n      <td>0.808075</td>\n      <td>0.822570</td>\n    </tr>\n    <tr>\n      <th>3</th>\n      <td>0.156956</td>\n      <td>0.222755</td>\n      <td>0.196338</td>\n      <td>0.230116</td>\n      <td>0.231699</td>\n      <td>0.265585</td>\n      <td>0.315646</td>\n      <td>0.348508</td>\n      <td>0.349821</td>\n      <td>0.297970</td>\n      <td>...</td>\n      <td>0.791127</td>\n      <td>0.761065</td>\n      <td>0.775527</td>\n      <td>0.784543</td>\n      <td>0.782626</td>\n      <td>0.792758</td>\n      <td>0.798909</td>\n      <td>0.794381</td>\n      <td>0.793767</td>\n      <td>0.826218</td>\n    </tr>\n    <tr>\n      <th>4</th>\n      <td>0.101766</td>\n      <td>0.136745</td>\n      <td>0.137261</td>\n      <td>0.132679</td>\n      <td>0.149560</td>\n      <td>0.187116</td>\n      <td>0.202925</td>\n      <td>0.229608</td>\n      <td>0.226846</td>\n      <td>0.218034</td>\n      <td>...</td>\n      <td>0.732222</td>\n      <td>0.723835</td>\n      <td>0.725428</td>\n      <td>0.715811</td>\n      <td>0.747464</td>\n      <td>0.739117</td>\n      <td>0.754603</td>\n      <td>0.747779</td>\n      <td>0.744067</td>\n      <td>0.787987</td>\n    </tr>\n    <tr>\n      <th>...</th>\n      <td>...</td>\n      <td>...</td>\n      <td>...</td>\n      <td>...</td>\n      <td>...</td>\n      <td>...</td>\n      <td>...</td>\n      <td>...</td>\n      <td>...</td>\n      <td>...</td>\n      <td>...</td>\n      <td>...</td>\n      <td>...</td>\n      <td>...</td>\n      <td>...</td>\n      <td>...</td>\n      <td>...</td>\n      <td>...</td>\n      <td>...</td>\n      <td>...</td>\n      <td>...</td>\n    </tr>\n    <tr>\n      <th>739</th>\n      <td>0.006452</td>\n      <td>0.002416</td>\n      <td>0.017913</td>\n      <td>0.000804</td>\n      <td>0.020662</td>\n      <td>0.006724</td>\n      <td>0.007388</td>\n      <td>0.005046</td>\n      <td>-0.005738</td>\n      <td>0.010914</td>\n      <td>...</td>\n      <td>-0.042255</td>\n      <td>-0.030962</td>\n      <td>0.010492</td>\n      <td>0.012056</td>\n      <td>-0.007022</td>\n      <td>0.024619</td>\n      <td>-0.004760</td>\n      <td>-0.013473</td>\n      <td>0.000310</td>\n      <td>0.008800</td>\n    </tr>\n    <tr>\n      <th>740</th>\n      <td>0.001014</td>\n      <td>-0.003154</td>\n      <td>-0.009464</td>\n      <td>-0.001093</td>\n      <td>-0.001211</td>\n      <td>-0.000111</td>\n      <td>0.013500</td>\n      <td>0.007656</td>\n      <td>0.005471</td>\n      <td>-0.000399</td>\n      <td>...</td>\n      <td>0.002743</td>\n      <td>-0.002451</td>\n      <td>0.049117</td>\n      <td>0.011625</td>\n      <td>-0.011553</td>\n      <td>0.071765</td>\n      <td>0.017636</td>\n      <td>0.014538</td>\n      <td>0.000493</td>\n      <td>0.023130</td>\n    </tr>\n    <tr>\n      <th>741</th>\n      <td>0.021947</td>\n      <td>0.014601</td>\n      <td>0.015187</td>\n      <td>0.025961</td>\n      <td>0.017269</td>\n      <td>0.033851</td>\n      <td>0.037366</td>\n      <td>0.021323</td>\n      <td>0.022234</td>\n      <td>0.031389</td>\n      <td>...</td>\n      <td>0.275458</td>\n      <td>0.289204</td>\n      <td>0.328593</td>\n      <td>0.325039</td>\n      <td>0.331199</td>\n      <td>0.373807</td>\n      <td>0.357954</td>\n      <td>0.362593</td>\n      <td>0.420404</td>\n      <td>0.465632</td>\n    </tr>\n    <tr>\n      <th>742</th>\n      <td>0.056248</td>\n      <td>0.055429</td>\n      <td>0.080856</td>\n      <td>0.075905</td>\n      <td>0.098466</td>\n      <td>0.076191</td>\n      <td>0.076885</td>\n      <td>0.079309</td>\n      <td>0.103072</td>\n      <td>0.124642</td>\n      <td>...</td>\n      <td>0.624277</td>\n      <td>0.641817</td>\n      <td>0.633200</td>\n      <td>0.683881</td>\n      <td>0.667495</td>\n      <td>0.631493</td>\n      <td>0.724515</td>\n      <td>0.687264</td>\n      <td>0.707986</td>\n      <td>0.763867</td>\n    </tr>\n    <tr>\n      <th>743</th>\n      <td>0.123310</td>\n      <td>0.174383</td>\n      <td>0.165897</td>\n      <td>0.174003</td>\n      <td>0.192828</td>\n      <td>0.219892</td>\n      <td>0.253020</td>\n      <td>0.260577</td>\n      <td>0.289541</td>\n      <td>0.250295</td>\n      <td>...</td>\n      <td>0.693242</td>\n      <td>0.754452</td>\n      <td>0.754230</td>\n      <td>0.770309</td>\n      <td>0.773593</td>\n      <td>0.753604</td>\n      <td>0.792769</td>\n      <td>0.790591</td>\n      <td>0.766602</td>\n      <td>0.799605</td>\n    </tr>\n  </tbody>\n</table>\n<p>744 rows × 99 columns</p>\n</div>"
     },
     "execution_count": 17,
     "metadata": {},
     "output_type": "execute_result"
    }
   ],
   "source": [
    "predictions_zones[0][0]"
   ]
  },
  {
   "cell_type": "markdown",
   "metadata": {
    "id": "Re84wd0y3eJk",
    "pycharm": {
     "name": "#%% md\n"
    }
   },
   "source": [
    "# Postprocessing: Remove quantile crossing"
   ]
  },
  {
   "cell_type": "code",
   "execution_count": 18,
   "metadata": {
    "id": "O2RidNE5OBHw"
   },
   "outputs": [],
   "source": [
    "averaged_predictions_zones = []\n",
    "\n",
    "for predictions in predictions_zones:\n",
    "    # ensemble averaging\n",
    "    averaged_predictions = pd.DataFrame()\n",
    "\n",
    "    for p in range(1, 100):\n",
    "        quantile_columns = [prediction[str(p/100)] for prediction in predictions]\n",
    "        averaged_predictions.insert(p-1, str(p/100), np.average(quantile_columns, axis=0))\n",
    "\n",
    "    averaged_predictions.insert(0, 'TIMESTAMP', predictions[0].index)\n",
    "    averaged_predictions = averaged_predictions.set_index('TIMESTAMP')\n",
    "\n",
    "    averaged_predictions_zones.append(averaged_predictions)"
   ]
  },
  {
   "cell_type": "code",
   "execution_count": 19,
   "metadata": {
    "id": "f0P_XgbQfHxn"
   },
   "outputs": [],
   "source": [
    "predictions_no_quantile_crossing_zones = []\n",
    "\n",
    "sorting = True\n",
    "\n",
    "for i, prediction in enumerate(averaged_predictions_zones):\n",
    "    if sorting:\n",
    "        # eliminate quantile crossing by sorting\n",
    "        prediction = np.maximum(prediction, 0)\n",
    "        prediction.values.sort()\n",
    "    else:\n",
    "        # eliminate quantile crossing by taking the maximum\n",
    "        prediction['0.01'] = np.maximum(prediction['0.01'], 0)\n",
    "        for p in range(2, 100):\n",
    "            prediction[str(p/100)] = np.maximum(prediction[str((p-1)/100)], prediction[str(p/100)])\n",
    "\n",
    "    zoneid = i+1\n",
    "    prediction.insert(0, 'ZONEID', zoneid)\n",
    "    predictions_no_quantile_crossing_zones.append(prediction)"
   ]
  },
  {
   "cell_type": "code",
   "execution_count": 20,
   "metadata": {
    "id": "zLh0nLb2YqUQ"
   },
   "outputs": [],
   "source": [
    "#!mkdir -p results"
   ]
  },
  {
   "cell_type": "code",
   "execution_count": 21,
   "metadata": {
    "id": "WnrtBdKmUn0M",
    "pycharm": {
     "name": "#%%\n"
    }
   },
   "outputs": [
    {
     "data": {
      "text/plain": "           ZONEID      0.01      0.02      0.03      0.04      0.05      0.06  \\\nTIMESTAMP                                                                       \n0               1  0.040925  0.056494  0.083746  0.084243  0.106952  0.110369   \n1               1  0.133430  0.157806  0.159379  0.190280  0.195599  0.222359   \n2               1  0.171166  0.222750  0.230843  0.250819  0.262601  0.284694   \n3               1  0.156956  0.196338  0.222755  0.230116  0.231699  0.265585   \n4               1  0.101766  0.132679  0.136745  0.137261  0.149560  0.187116   \n...           ...       ...       ...       ...       ...       ...       ...   \n739             3  0.000000  0.000000  0.000000  0.000000  0.000000  0.000000   \n740             3  0.000000  0.000000  0.000000  0.000000  0.000000  0.000000   \n741             3  0.000000  0.008137  0.008876  0.018351  0.025361  0.029161   \n742             3  0.096259  0.110271  0.113190  0.123969  0.144412  0.147360   \n743             3  0.217313  0.243410  0.246945  0.263389  0.293612  0.319159   \n\n               0.07      0.08      0.09  ...       0.9      0.91      0.92  \\\nTIMESTAMP                                ...                                 \n0          0.113196  0.117939  0.129143  ...  0.649613  0.654412  0.658228   \n1          0.234556  0.264428  0.283727  ...  0.736438  0.737274  0.739080   \n2          0.323004  0.351532  0.373280  ...  0.780130  0.780729  0.790861   \n3          0.297970  0.315646  0.348508  ...  0.775527  0.780022  0.782626   \n4          0.202925  0.218034  0.226846  ...  0.723835  0.725428  0.732222   \n...             ...       ...       ...  ...       ...       ...       ...   \n739        0.000000  0.000000  0.000000  ...  0.040129  0.040519  0.045806   \n740        0.000000  0.000000  0.000000  ...  0.067801  0.069965  0.090753   \n741        0.030191  0.033633  0.034676  ...  0.357050  0.361832  0.372223   \n742        0.149274  0.168549  0.173266  ...  0.652028  0.657743  0.667996   \n743        0.333845  0.342216  0.343583  ...  0.773874  0.774232  0.792059   \n\n               0.93      0.94      0.95      0.96      0.97      0.98  \\\nTIMESTAMP                                                               \n0          0.679743  0.687528  0.708012  0.711076  0.724198  0.732565   \n1          0.746461  0.763852  0.776823  0.786336  0.789898  0.806670   \n2          0.791893  0.794405  0.803167  0.805363  0.808075  0.819679   \n3          0.784543  0.791127  0.792758  0.793767  0.794381  0.798909   \n4          0.732566  0.739117  0.744067  0.747464  0.747779  0.754603   \n...             ...       ...       ...       ...       ...       ...   \n739        0.056927  0.058878  0.061684  0.067645  0.081609  0.090389   \n740        0.094344  0.096219  0.118261  0.127507  0.140246  0.154441   \n741        0.380806  0.427410  0.442498  0.445870  0.448592  0.518539   \n742        0.687583  0.692218  0.709324  0.714140  0.717672  0.748816   \n743        0.797352  0.799330  0.807892  0.812768  0.818618  0.824773   \n\n               0.99  \nTIMESTAMP            \n0          0.742783  \n1          0.807399  \n2          0.822570  \n3          0.826218  \n4          0.787987  \n...             ...  \n739        0.136035  \n740        0.171436  \n741        0.530349  \n742        0.773539  \n743        0.835726  \n\n[2232 rows x 100 columns]",
      "text/html": "<div>\n<style scoped>\n    .dataframe tbody tr th:only-of-type {\n        vertical-align: middle;\n    }\n\n    .dataframe tbody tr th {\n        vertical-align: top;\n    }\n\n    .dataframe thead th {\n        text-align: right;\n    }\n</style>\n<table border=\"1\" class=\"dataframe\">\n  <thead>\n    <tr style=\"text-align: right;\">\n      <th></th>\n      <th>ZONEID</th>\n      <th>0.01</th>\n      <th>0.02</th>\n      <th>0.03</th>\n      <th>0.04</th>\n      <th>0.05</th>\n      <th>0.06</th>\n      <th>0.07</th>\n      <th>0.08</th>\n      <th>0.09</th>\n      <th>...</th>\n      <th>0.9</th>\n      <th>0.91</th>\n      <th>0.92</th>\n      <th>0.93</th>\n      <th>0.94</th>\n      <th>0.95</th>\n      <th>0.96</th>\n      <th>0.97</th>\n      <th>0.98</th>\n      <th>0.99</th>\n    </tr>\n    <tr>\n      <th>TIMESTAMP</th>\n      <th></th>\n      <th></th>\n      <th></th>\n      <th></th>\n      <th></th>\n      <th></th>\n      <th></th>\n      <th></th>\n      <th></th>\n      <th></th>\n      <th></th>\n      <th></th>\n      <th></th>\n      <th></th>\n      <th></th>\n      <th></th>\n      <th></th>\n      <th></th>\n      <th></th>\n      <th></th>\n      <th></th>\n    </tr>\n  </thead>\n  <tbody>\n    <tr>\n      <th>0</th>\n      <td>1</td>\n      <td>0.040925</td>\n      <td>0.056494</td>\n      <td>0.083746</td>\n      <td>0.084243</td>\n      <td>0.106952</td>\n      <td>0.110369</td>\n      <td>0.113196</td>\n      <td>0.117939</td>\n      <td>0.129143</td>\n      <td>...</td>\n      <td>0.649613</td>\n      <td>0.654412</td>\n      <td>0.658228</td>\n      <td>0.679743</td>\n      <td>0.687528</td>\n      <td>0.708012</td>\n      <td>0.711076</td>\n      <td>0.724198</td>\n      <td>0.732565</td>\n      <td>0.742783</td>\n    </tr>\n    <tr>\n      <th>1</th>\n      <td>1</td>\n      <td>0.133430</td>\n      <td>0.157806</td>\n      <td>0.159379</td>\n      <td>0.190280</td>\n      <td>0.195599</td>\n      <td>0.222359</td>\n      <td>0.234556</td>\n      <td>0.264428</td>\n      <td>0.283727</td>\n      <td>...</td>\n      <td>0.736438</td>\n      <td>0.737274</td>\n      <td>0.739080</td>\n      <td>0.746461</td>\n      <td>0.763852</td>\n      <td>0.776823</td>\n      <td>0.786336</td>\n      <td>0.789898</td>\n      <td>0.806670</td>\n      <td>0.807399</td>\n    </tr>\n    <tr>\n      <th>2</th>\n      <td>1</td>\n      <td>0.171166</td>\n      <td>0.222750</td>\n      <td>0.230843</td>\n      <td>0.250819</td>\n      <td>0.262601</td>\n      <td>0.284694</td>\n      <td>0.323004</td>\n      <td>0.351532</td>\n      <td>0.373280</td>\n      <td>...</td>\n      <td>0.780130</td>\n      <td>0.780729</td>\n      <td>0.790861</td>\n      <td>0.791893</td>\n      <td>0.794405</td>\n      <td>0.803167</td>\n      <td>0.805363</td>\n      <td>0.808075</td>\n      <td>0.819679</td>\n      <td>0.822570</td>\n    </tr>\n    <tr>\n      <th>3</th>\n      <td>1</td>\n      <td>0.156956</td>\n      <td>0.196338</td>\n      <td>0.222755</td>\n      <td>0.230116</td>\n      <td>0.231699</td>\n      <td>0.265585</td>\n      <td>0.297970</td>\n      <td>0.315646</td>\n      <td>0.348508</td>\n      <td>...</td>\n      <td>0.775527</td>\n      <td>0.780022</td>\n      <td>0.782626</td>\n      <td>0.784543</td>\n      <td>0.791127</td>\n      <td>0.792758</td>\n      <td>0.793767</td>\n      <td>0.794381</td>\n      <td>0.798909</td>\n      <td>0.826218</td>\n    </tr>\n    <tr>\n      <th>4</th>\n      <td>1</td>\n      <td>0.101766</td>\n      <td>0.132679</td>\n      <td>0.136745</td>\n      <td>0.137261</td>\n      <td>0.149560</td>\n      <td>0.187116</td>\n      <td>0.202925</td>\n      <td>0.218034</td>\n      <td>0.226846</td>\n      <td>...</td>\n      <td>0.723835</td>\n      <td>0.725428</td>\n      <td>0.732222</td>\n      <td>0.732566</td>\n      <td>0.739117</td>\n      <td>0.744067</td>\n      <td>0.747464</td>\n      <td>0.747779</td>\n      <td>0.754603</td>\n      <td>0.787987</td>\n    </tr>\n    <tr>\n      <th>...</th>\n      <td>...</td>\n      <td>...</td>\n      <td>...</td>\n      <td>...</td>\n      <td>...</td>\n      <td>...</td>\n      <td>...</td>\n      <td>...</td>\n      <td>...</td>\n      <td>...</td>\n      <td>...</td>\n      <td>...</td>\n      <td>...</td>\n      <td>...</td>\n      <td>...</td>\n      <td>...</td>\n      <td>...</td>\n      <td>...</td>\n      <td>...</td>\n      <td>...</td>\n      <td>...</td>\n    </tr>\n    <tr>\n      <th>739</th>\n      <td>3</td>\n      <td>0.000000</td>\n      <td>0.000000</td>\n      <td>0.000000</td>\n      <td>0.000000</td>\n      <td>0.000000</td>\n      <td>0.000000</td>\n      <td>0.000000</td>\n      <td>0.000000</td>\n      <td>0.000000</td>\n      <td>...</td>\n      <td>0.040129</td>\n      <td>0.040519</td>\n      <td>0.045806</td>\n      <td>0.056927</td>\n      <td>0.058878</td>\n      <td>0.061684</td>\n      <td>0.067645</td>\n      <td>0.081609</td>\n      <td>0.090389</td>\n      <td>0.136035</td>\n    </tr>\n    <tr>\n      <th>740</th>\n      <td>3</td>\n      <td>0.000000</td>\n      <td>0.000000</td>\n      <td>0.000000</td>\n      <td>0.000000</td>\n      <td>0.000000</td>\n      <td>0.000000</td>\n      <td>0.000000</td>\n      <td>0.000000</td>\n      <td>0.000000</td>\n      <td>...</td>\n      <td>0.067801</td>\n      <td>0.069965</td>\n      <td>0.090753</td>\n      <td>0.094344</td>\n      <td>0.096219</td>\n      <td>0.118261</td>\n      <td>0.127507</td>\n      <td>0.140246</td>\n      <td>0.154441</td>\n      <td>0.171436</td>\n    </tr>\n    <tr>\n      <th>741</th>\n      <td>3</td>\n      <td>0.000000</td>\n      <td>0.008137</td>\n      <td>0.008876</td>\n      <td>0.018351</td>\n      <td>0.025361</td>\n      <td>0.029161</td>\n      <td>0.030191</td>\n      <td>0.033633</td>\n      <td>0.034676</td>\n      <td>...</td>\n      <td>0.357050</td>\n      <td>0.361832</td>\n      <td>0.372223</td>\n      <td>0.380806</td>\n      <td>0.427410</td>\n      <td>0.442498</td>\n      <td>0.445870</td>\n      <td>0.448592</td>\n      <td>0.518539</td>\n      <td>0.530349</td>\n    </tr>\n    <tr>\n      <th>742</th>\n      <td>3</td>\n      <td>0.096259</td>\n      <td>0.110271</td>\n      <td>0.113190</td>\n      <td>0.123969</td>\n      <td>0.144412</td>\n      <td>0.147360</td>\n      <td>0.149274</td>\n      <td>0.168549</td>\n      <td>0.173266</td>\n      <td>...</td>\n      <td>0.652028</td>\n      <td>0.657743</td>\n      <td>0.667996</td>\n      <td>0.687583</td>\n      <td>0.692218</td>\n      <td>0.709324</td>\n      <td>0.714140</td>\n      <td>0.717672</td>\n      <td>0.748816</td>\n      <td>0.773539</td>\n    </tr>\n    <tr>\n      <th>743</th>\n      <td>3</td>\n      <td>0.217313</td>\n      <td>0.243410</td>\n      <td>0.246945</td>\n      <td>0.263389</td>\n      <td>0.293612</td>\n      <td>0.319159</td>\n      <td>0.333845</td>\n      <td>0.342216</td>\n      <td>0.343583</td>\n      <td>...</td>\n      <td>0.773874</td>\n      <td>0.774232</td>\n      <td>0.792059</td>\n      <td>0.797352</td>\n      <td>0.799330</td>\n      <td>0.807892</td>\n      <td>0.812768</td>\n      <td>0.818618</td>\n      <td>0.824773</td>\n      <td>0.835726</td>\n    </tr>\n  </tbody>\n</table>\n<p>2232 rows × 100 columns</p>\n</div>"
     },
     "execution_count": 21,
     "metadata": {},
     "output_type": "execute_result"
    }
   ],
   "source": [
    "prediction = pd.concat(predictions_no_quantile_crossing_zones)\n",
    "prediction.to_csv(f'results/prediction_nnqf_task{task}.csv')\n",
    "prediction"
   ]
  },
  {
   "cell_type": "markdown",
   "metadata": {
    "id": "NPF6AUCd3eJk",
    "pycharm": {
     "name": "#%% md\n"
    }
   },
   "source": [
    "# Plotting the quantile prediction for the first entries"
   ]
  },
  {
   "cell_type": "code",
   "execution_count": 22,
   "metadata": {
    "id": "CFOs8yfP3eJl",
    "pycharm": {
     "name": "#%%\n"
    }
   },
   "outputs": [
    {
     "data": {
      "text/plain": "<Figure size 1080x1080 with 9 Axes>",
      "image/png": "[encoded data removed]"
     },
     "metadata": {
      "needs_background": "light"
     },
     "output_type": "display_data"
    }
   ],
   "source": [
    "import matplotlib.pyplot as plt\n",
    "\n",
    "fig, ax = plt.subplots(3, 3, sharex=True, figsize=(15, 15))\n",
    "\n",
    "for i in range(9):\n",
    "    prediction.iloc[i].tail(99).plot(ax=ax[i // 3, i % 3],\n",
    "                                     title=str(yq_output_df[-24*30:].index[i]))"
   ]
  },
  {
   "cell_type": "markdown",
   "metadata": {
    "id": "t6Tgzcoi3eJl",
    "pycharm": {
     "name": "#%% md\n"
    }
   },
   "source": [
    "# Evaluate Loss"
   ]
  },
  {
   "cell_type": "markdown",
   "metadata": {
    "id": "4joUtUgF3eJl"
   },
   "source": [
    "The loss function is the pinnball loss:\n",
    "$$ L(q_a, y) = \\begin{cases}\n",
    "    (1-\\frac{a}{100})(q_a - y), &\\text{if } y < q_a \\\\\n",
    "    \\frac{a}{100}(y-q_a), &\\text{if } y \\geq q_a.\n",
    "\\end{cases} $$\n",
    "\n",
    "The score is then averaged over all target quantiles for all time periods over the forecast horizon and for all zones."
   ]
  },
  {
   "cell_type": "code",
   "execution_count": 23,
   "metadata": {
    "id": "0vfjdngB3eJl",
    "pycharm": {
     "name": "#%%\n"
    }
   },
   "outputs": [
    {
     "name": "stdout",
     "output_type": "stream",
     "text": [
      "Loss of task 5 with NNQF: 0.02185\n"
     ]
    }
   ],
   "source": [
    "def pinnball_loss(actual, prediction):\n",
    "    actual = actual[...,None]\n",
    "\n",
    "    percentiles = np.empty((actual.shape[0], 99))\n",
    "    for i in range(1, 100):\n",
    "        percentiles[:, i-1] = i\n",
    "    loss = np.where(actual < prediction,\n",
    "                    (1 - percentiles / 100) * (prediction - actual),\n",
    "                    percentiles / 100 * (actual - prediction))\n",
    "    return loss\n",
    "\n",
    "##%%\n",
    "\n",
    "test_ts1 = np.squeeze(train_data_zones[0][-gefcom14_metadata['prediction_length']:].values)\n",
    "test_ts2 = np.squeeze(train_data_zones[1][-gefcom14_metadata['prediction_length']:].values)\n",
    "test_ts3 = np.squeeze(train_data_zones[2][-gefcom14_metadata['prediction_length']:].values)\n",
    "\n",
    "prediction1 = prediction[prediction['ZONEID'] == 1].drop(columns='ZONEID')\n",
    "prediction2 = prediction[prediction['ZONEID'] == 2].drop(columns='ZONEID')\n",
    "prediction3 = prediction[prediction['ZONEID'] == 3].drop(columns='ZONEID')\n",
    "\n",
    "loss1 = np.mean(pinnball_loss(test_ts1, prediction1))\n",
    "loss2 = np.mean(pinnball_loss(test_ts2, prediction2))\n",
    "loss3 = np.mean(pinnball_loss(test_ts3, prediction3))\n",
    "\n",
    "loss = (loss1 + loss2 + loss3) / 3\n",
    "\n",
    "print(f\"Loss of task {task} with NNQF: {round(loss, 5)}\")"
   ]
  },
  {
   "cell_type": "code",
   "execution_count": 24,
   "outputs": [
    {
     "data": {
      "text/plain": "0.01993242336216076"
     },
     "execution_count": 24,
     "metadata": {},
     "output_type": "execute_result"
    }
   ],
   "source": [
    "loss1"
   ],
   "metadata": {
    "collapsed": false,
    "pycharm": {
     "name": "#%%\n"
    }
   }
  }
 ],
 "metadata": {
  "colab": {
   "name": "gefcom14-s-nnqf.ipynb",
   "provenance": [],
   "toc_visible": true
  },
  "kernelspec": {
   "display_name": "Python 3",
   "language": "python",
   "name": "python3"
  },
  "language_info": {
   "codemirror_mode": {
    "name": "ipython",
    "version": 3
   },
   "file_extension": ".py",
   "mimetype": "text/x-python",
   "name": "python",
   "nbconvert_exporter": "python",
   "pygments_lexer": "ipython3",
   "version": "3.8.10"
  }
 },
 "nbformat": 4,
 "nbformat_minor": 1
}